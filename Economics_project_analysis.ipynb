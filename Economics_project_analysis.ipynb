{
  "nbformat": 4,
  "nbformat_minor": 0,
  "metadata": {
    "colab": {
      "name": "Economics project analysis.ipynb",
      "provenance": [],
      "toc_visible": true,
      "authorship_tag": "ABX9TyMDfBhMnqQgA4KilTvCBrhG",
      "include_colab_link": true
    },
    "kernelspec": {
      "name": "python3",
      "display_name": "Python 3"
    }
  },
  "cells": [
    {
      "cell_type": "markdown",
      "metadata": {
        "id": "view-in-github",
        "colab_type": "text"
      },
      "source": [
        "<a href=\"https://colab.research.google.com/github/mushiboy/Data-Analysis/blob/master/Economics_project_analysis.ipynb\" target=\"_parent\"><img src=\"https://colab.research.google.com/assets/colab-badge.svg\" alt=\"Open In Colab\"/></a>"
      ]
    },
    {
      "cell_type": "code",
      "metadata": {
        "id": "UWDZUiCrShPy",
        "colab_type": "code",
        "colab": {}
      },
      "source": [
        "from fastai import *"
      ],
      "execution_count": 0,
      "outputs": []
    },
    {
      "cell_type": "code",
      "metadata": {
        "id": "n-anh96JF5aQ",
        "colab_type": "code",
        "outputId": "f6b7addd-9ba8-498a-8be9-f4357a11fcd8",
        "colab": {
          "base_uri": "https://localhost:8080/",
          "height": 71
        }
      },
      "source": [
        "import pandas as pd\n",
        "import matplotlib.pyplot as plt\n",
        "import seaborn as sns\n",
        "%matplotlib inline"
      ],
      "execution_count": 0,
      "outputs": [
        {
          "output_type": "stream",
          "text": [
            "/usr/local/lib/python3.6/dist-packages/statsmodels/tools/_testing.py:19: FutureWarning: pandas.util.testing is deprecated. Use the functions in the public API at pandas.testing instead.\n",
            "  import pandas.util.testing as tm\n"
          ],
          "name": "stderr"
        }
      ]
    },
    {
      "cell_type": "code",
      "metadata": {
        "id": "dxiaA1i1HCd8",
        "colab_type": "code",
        "outputId": "c00aecd9-b06f-4e99-9ee2-c90e0322b54d",
        "colab": {
          "resources": {
            "http://localhost:8080/nbextensions/google.colab/files.js": {
              "data": "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",
              "ok": true,
              "headers": [
                [
                  "content-type",
                  "application/javascript"
                ]
              ],
              "status": 200,
              "status_text": ""
            }
          },
          "base_uri": "https://localhost:8080/",
          "height": 112
        }
      },
      "source": [
        "from google.colab import files\n",
        "files.upload()"
      ],
      "execution_count": 0,
      "outputs": [
        {
          "output_type": "display_data",
          "data": {
            "text/html": [
              "\n",
              "     <input type=\"file\" id=\"files-b1059c58-d53c-43a2-9d2c-fcef1735a057\" name=\"files[]\" multiple disabled />\n",
              "     <output id=\"result-b1059c58-d53c-43a2-9d2c-fcef1735a057\">\n",
              "      Upload widget is only available when the cell has been executed in the\n",
              "      current browser session. Please rerun this cell to enable.\n",
              "      </output>\n",
              "      <script src=\"/nbextensions/google.colab/files.js\"></script> "
            ],
            "text/plain": [
              "<IPython.core.display.HTML object>"
            ]
          },
          "metadata": {
            "tags": []
          }
        },
        {
          "output_type": "stream",
          "text": [
            "Saving Final.xlsx to Final.xlsx\n"
          ],
          "name": "stdout"
        },
        {
          "output_type": "execute_result",
          "data": {
            "text/plain": [
              "{'Final.xlsx': b'PK\\x03\\x04\\x14\\x00\\x00\\x00\\x08\\x00\\xc1\\x9b\\xa7P\\x1f#\\xcf\\x03\\xc0\\x00\\x00\\x00\\x13\\x02\\x00\\x00\\x0b\\x00\\x00\\x00_rels/.rels\\xad\\x92O\\x8b\\xc2@\\x0c\\xc5\\xbfJ\\x99\\xfb\\x1aW\\xc1\\xc3b=y\\xe9mY\\xfc\\x02q&\\xfdC;\\x93!\\x13\\xb1~{\\x87\\xbdl\\xb7TP\\xf0\\x18^\\xf2\\xde\\x8fG\\xf6?4\\xa0v\\x1cR\\xdb\\xc5T\\x8c~\\x08\\xa94\\xadj\\xfc\\x02H\\xb6%\\x8fi\\xc5\\x91BVj\\x16\\x8f\\x9aGi \\xa2\\xed\\xb1!\\xd8\\xac\\xd7;\\x90\\xa9\\x879\\xec\\xa7\\x9eE\\xe5J#\\x95\\xfb4\\xc5\\t\\xa5!-\\xcd8\\xc0\\x95\\xa5?3\\xf7\\xabl\\x9b\\x85[\\xa4gB\\xb9\\xae;KG\\xb6\\x17OA\\x17\\xb2g\\x1b\\x06\\x96Y6\\x7f,\\x8e\\xed\\xb7p\\xbe\\xb4,\\xf4\\x1a\\xcd\\xe3\\n\\xc0\\x93\\xa2C\\xc5_\\xd7\\x8f\\x98\\x03H\\xb4\\xa3\\xf4\\x08h\\xbb\\x00\\x841\\xbe\\xbb\\x1d\\x1a\\x95\\x82#7#\\x82\\x7f?p\\xb8\\x03PK\\x03\\x04\\x14\\x00\\x00\\x00\\x08\\x00\\xc1\\x9b\\xa7P\\'\\xe8\\x87\\x0e\\x82\\x00\\x00\\x00\\xb1\\x00\\x00\\x00\\x10\\x00\\x00\\x00docProps/app.xmlM\\x8eM\\x0b\\xc20\\x10D\\xffJ\\xe9\\xddn)\\xe8Ab@\\xb0G\\xc1\\x93\\xf7\\x90nl \\xc9\\x86\\xcd\\n\\xf9\\xf9\\xa6\\x82\\x1f\\xb7y\\xbca\\x18uc\\xca\\xc8\\xe2\\xb1t5\\x86TN\\xfd*\\x92\\x8f\\x00\\xc5\\xae\\x18M\\x19\\x9aN\\xcd8\\xe2h\\xa4!?\\x80\\x9c\\xf3\\x16/d\\x9f\\x11\\x93\\xc04\\x8e\\x07\\xc0*\\x98\\x16\\\\v\\xf9;\\xd8ku\\xce9xk\\xc4S\\xd2Wo\\x99\\n9\\xe9\\xe6j1(\\xf8\\x97[\\xf3\\x8e\\\\\\xb6<\\r\\xfb\\xb7\\xfc\\xb0\\x82\\xdfI\\xfd\\x02PK\\x03\\x04\\x14\\x00\\x00\\x00\\x08\\x00\\xc1\\x9b\\xa7Pk\\x16e\\x17\\xef\\x00\\x00\\x00+\\x02\\x00\\x00\\x11\\x00\\x00\\x00docProps/core.xml\\xcd\\x92\\xc1j\\xc30\\x0c\\x86_e\\xf8\\x9e\\xc8I\\xc92L\\x9aK\\xcbN\\x1b\\x0cV\\xd8\\xd8\\xcd\\xd8jk\\x1a;\\xc6\\xd6H\\xfa\\xf6K\\xbc6el\\x0f\\xb0\\xa3\\xa5\\xdf\\x9f>\\x81\\x1a\\xe5\\x85\\xea\\x03\\xbe\\x84\\xdec \\x83\\xf1n\\xb4\\x9d\\x8bB\\xf95;\\x12y\\x01\\x10\\xd5\\x11\\xad\\x8c\\xf9\\x94pSs\\xdf\\x07+iz\\x86\\x03x\\xa9N\\xf2\\x80Pr~\\x0f\\x16IjI\\x12f`\\xe6\\x17\"k\\x1b\\xad\\x84\\n(\\xa9\\x0f\\x17\\xbcV\\x0b\\xde\\x7f\\x86.\\xc1\\xb4\\x02\\xec\\xd0\\xa2\\xa3\\x08E^\\x00k\\xe7\\x89\\xfe<v\\r\\xdc\\x003\\x8c0\\xd8\\xf8]@\\xbd\\x10S\\xf5Ol\\xea\\x00\\xbb$\\xc7h\\x96\\xd40\\x0c\\xf9\\xb0J\\xb9i\\x87\\x02\\xde\\x9f\\x9f^\\xd3\\xba\\x99q\\x91\\xa4S8\\xfd\\x8aF\\xd0\\xd9\\xe3\\x9a]\\'\\xbf\\xad6\\xdb\\xdd#kK^\\xf2\\x8cW\\x19\\xafwE-\\xaa\\x07Q\\xd5\\x1f\\xb3\\xeb\\x0f\\xbf\\x9b\\xb0\\xed\\xb5\\xd9\\x9b\\x7fl|\\x15l\\x1b\\xf8u\\x17\\xed\\x17PK\\x03\\x04\\x14\\x00\\x00\\x00\\x08\\x00\\xc1\\x9b\\xa7P\\x99\\\\\\x9c#\\x10\\x06\\x00\\x00\\x9c\\'\\x00\\x00\\x13\\x00\\x00\\x00xl/theme/theme1.xml\\xedZ[s\\xda8\\x14~\\xef\\xaf\\xd0xg\\xf6m\\x0b\\xc66\\x81\\xb6\\xb4\\x13siv\\xdb\\xb4\\x99\\x84\\xedN\\x1f\\x85\\x11X\\x8dlyd\\x91\\x84\\x7f\\xbfG6\\x10\\xcb\\x96\\r\\xed\\x92M\\xba\\x9b<\\x04,\\xe9\\xfb\\xceEG\\xe7\\xe88y\\xf3\\xee.b\\xe8\\x86\\x88\\x94\\xf2x`\\xd9/\\xdb\\xd6\\xbb\\xb7/\\xde\\xe0W2$\\x11A0\\x19\\xa7\\xaf\\xf0\\xc0\\n\\xa5L^\\xb5Zi\\x00\\xc38}\\xc9\\x13\\x12\\xc3\\xdc\\x82\\x8b\\x08Kx\\x14\\xcb\\xd6\\\\\\xe0[\\x1a/#\\xd6\\xea\\xb4\\xdb\\xddV\\x84il\\xa1\\x18Gd`}^,h@\\xd0TQZo_ \\xb4\\xe5\\x1f3\\xf8\\x15\\xcbT\\x8de\\xa3\\x01\\x13WA&\\xb9\\x88\\xb4\\xf2\\xf9l\\xc5\\xfc\\xda\\xde>e\\xcf\\xe9:\\x1d2\\x81n0\\x1bX \\x7f\\xceo\\xa7\\xe4NZ\\x88\\xe1T\\xc2\\xc4\\xc0jg?Vk\\xc7\\xd1\\xd2H\\x80\\x82\\xc9}\\x94\\x05\\xbaI\\xf6\\xa3\\xd3\\x15\\x082\\r;:\\x9dX\\xcev|\\xf6\\xc4\\xed\\x9f\\x8c\\xca\\xdat4m\\x1a\\xe0\\xe3\\xf1x8\\xb6\\xcb\\xd2\\x8bp\\x1c\\x04\\xe0Q\\xbb\\x9e\\xc2\\x9d\\xf4l\\xbf\\xa4A\\t\\xb4\\xa3i\\xd0d\\xd8\\xf6\\xda\\xae\\x91\\xa6\\xaa\\x8dSO\\xd3\\xf7}\\xdf\\xeb\\x9bh\\x9c\\n\\x8d[O\\xd3kw\\xdd\\xd3\\x8e\\x89\\xc6\\xad\\xd0x\\r\\xbe\\xf1O\\x87\\xc3\\xae\\x89\\xc6\\xab\\xd0t\\xebi&\\'\\xfd\\xaek\\xa4\\xe9\\x16hBF\\xe3\\xebz\\x12\\x15\\xb5\\xe5@\\xd3 \\x00Xpv\\xd6\\xcc\\xd2\\x03\\x96^)\\xfau\\x94\\x1a\\xd9\\x1d\\xbb\\xddA\\\\\\xf0X\\xee9\\x89\\x11\\xfe\\xc6\\xc5\\x04\\xd6i\\xd2\\x19\\x964Fr\\x9d\\x90\\x05\\x0e\\x007\\xc4\\xd1LP|\\xafA\\xb6\\x8a\\xe0\\xc2\\x92\\xd2\\\\\\x90\\xd6\\xcf)\\xb5P\\x1a\\x08\\x9a\\xc8\\x81\\xf5G\\x82!\\xc5\\xdc\\xaf\\xfd\\xf5\\x97\\xbb\\xc9\\xa43z\\x9d}:\\xcek\\x94\\x7fi\\xab\\x01\\xa7\\xed\\xbb\\x9b\\xcf\\x93\\xfcs\\xe8\\xe4\\x9f\\xa7\\x93\\xd7MB\\xcep\\xbc,\\t\\xf1\\xfb#[a\\x87\\'n;\\x13r:\\x1cgB|\\xcf\\xf6\\xf6\\x91\\xa5%2\\xcf\\xef\\xf9\\n\\xebN<g\\x1fV\\x96\\xb0]\\xcf\\xcf\\xe4\\x9e\\x8cr#\\xbb\\xdd\\xf6X}\\xf6OGn#\\xd7\\xa9\\xc0\\xb3\"\\xd7\\x94F$E\\x9f\\xc8-\\xba\\xe4\\x118\\xb5I\\r2\\x13?\\x08\\x9d\\x86\\x98jP\\x1c\\x02\\xa4\\t1\\x96\\xa1\\x86\\xf8\\xb4\\xc6\\xac\\x11\\xe0\\x13}\\xb7\\xbe\\x08\\xc8\\xdf\\x8d\\x88\\xf7\\xabo\\x9a=W\\xa1XI\\xda\\x84\\xf8\\x10F\\x1a\\xe2\\x9cs\\xe6s\\xd1l\\xfb\\x07\\xa5F\\xd1\\xf6U\\xbc\\xdc\\xa3\\x97X\\x15\\x01\\x97\\x18\\xdf4\\xaa5,\\xc5\\xd6x\\x95\\xc0\\xf1\\xad\\x9c<\\x1d\\x13\\x12\\xcd\\x94\\x0b\\x06A\\x86\\x97$&\\x12\\xa99~MH\\x13\\xfe+\\xa5\\xda\\xfe\\x9c\\xd3@\\xf0\\x94/$\\xfaJ\\x91\\x8fi\\xb3#\\xa7t&\\xcd\\xe83\\x1a\\xc1F\\xaf\\x1bu\\x87h\\xd2<z\\xfe\\x05\\xf9\\x9c5\\n\\x1c\\x91\\x1b\\x1d\\x02g\\x1b\\xb3F!\\x84i\\xbb\\xf0\\x1e\\xaf$\\x8e\\x9a\\xad\\xc2\\x11+B>b\\x196\\x1ar\\xb5\\x16\\x81\\xb6q\\xa9\\x84`Z\\x12\\xc6\\xd1xN\\xd2\\xb4\\x11\\xfcY\\xac5\\x93>`\\xc8\\xec\\xcd\\x91u\\xce\\xd6\\x91\\x0e\\x11\\x92^7B>b\\xce\\x8b\\x90\\x11\\xbf\\x1e\\x868J\\x9a\\xed\\xa2qX\\x04\\xfd\\x9e^\\xc3I\\xc1\\xe8\\x82\\xcbf\\xfd\\xb8~\\x86\\xd53l,\\x8e\\xf7G\\xd4\\x17J\\xe4\\x0f&\\xa7?\\xe924\\x07\\xa3\\x9aY\\t\\xbd\\x84Vj\\x9f\\xaa\\x874>\\xa8\\x1e2\\n\\x05\\xf1\\xb9\\x1e>\\xe5zx\\n7\\x96\\xc6\\xbcP\\xae\\x82{\\x01\\xff\\xd1\\xda7\\xc2\\xab\\xf8\\x82\\xc09\\x7f.}\\xcf\\xa5\\xef\\xb9\\xf4=\\xa1\\xd2\\xb77#}g\\xc1\\xd3\\x8b[\\xdeFn[\\xc4\\xfb\\xae1\\xda\\xd74.(cWr\\xcd\\xc8\\xc7T\\xaf\\x93)\\xd89\\x9f\\xc0\\xec\\xfdh>\\x9e\\xf1\\xed\\xfa\\xd9$\\x84\\xaf\\x9aY-#\\x16\\x90K\\x81\\xb3A$\\xb8\\xfc\\x8b\\xca\\xf0*\\xc4\\t\\xe8d[%\\t\\xcbT\\xd3e7\\x8a\\x12\\x9eB\\x1bn\\xe9S\\xf5J\\x95\\xd7\\xe5\\xaf\\xb9(\\xb8<[\\xe4\\xe9\\xaf\\xa1t>,\\xcf\\xf9<_\\xe7\\xb4\\xcd\\x0b3C\\xb7rK\\xea\\xb6\\x94\\xbe\\xb5&8J\\xf4\\xb1\\xccpN\\x1e\\xcb\\x0c;g<\\x92\\x1d\\xb6w\\xa0\\x1d5\\xfb\\xf6]v\\xe4#\\xa50S\\x97C\\xb8\\x1aB\\xbe\\x03m\\xba\\x9d\\xdc:8\\x9e\\x98\\x91\\xb9\\n\\xd3R\\x90o\\xc3\\xf9\\xe9\\xc5x\\x1a\\xe29\\xd9\\x04\\xb9}\\x98Wm\\xe7\\xd8\\xd1\\xd1\\xfb\\xe7\\xc1Q\\xb0\\xa3\\xef<\\x96\\x1d\\xc7\\x88\\xf2\\xa2!\\xee\\xa1\\x86\\x98\\xcf\\xc3C\\x87y{_\\x98g\\x95\\xc6P4\\x14ml\\xac$,F\\xb7`\\xb8\\xd7\\xf1,\\x14\\xe0d`-\\xa0\\x07\\x83\\xafQ\\x02\\xf2RU`1[\\xc6\\x03+\\x90\\xa2|L\\x8cE\\xe8p\\xe7\\x97\\\\_\\xe3\\xd1\\x92\\xe3\\xdb\\xa6e\\xb5n\\xaf)w\\x19m\"R9\\xc2i\\x98\\x13g\\xab\\xca\\xdee\\xb1\\xc1U\\x1d\\xcfU[\\xf2\\xb0\\xbej=\\xb4\\x15N\\xcf\\xfeY\\xad\\xc8\\x9f\\x0c\\x11N\\x16\\x0b\\x12Hc\\x94\\x17\\xa6J\\xa2\\xf3\\x19S\\xbe\\xe7+I\\xc4U8\\xbfE3\\xb6\\x12\\x97\\x18\\xbc\\xe3\\xe6\\xc7qNS\\xb8\\x12v\\xb6\\x0f\\x022\\xb9\\xbb9\\xa9ze1g\\xa6\\xf2\\xdf-\\x0c\\t,[\\x88Y\\x12\\xe2M]\\xed\\xd5\\xe7\\x9b\\x9c\\xaez\"v\\xfa\\x97w\\xc1`\\xf2\\xfdp\\xc9G\\x0f\\xe5;\\xe7_\\xf4]C\\xae~\\xf6\\xdd\\xe3\\xfan\\x93;HL\\x9cy\\xc5\\x11\\x01tE\\x02#\\x95\\x1c\\x06\\x16\\x172\\xe4P\\xee\\x92\\x90\\x06\\x13\\x01\\xcd\\x94\\xc9D\\xf0\\x02\\x82d\\xa6\\x1c\\x80\\x98\\xfa\\x0b\\xbd\\xf2\\x0c\\xb9)\\x15\\xce\\xad>9\\x7fE,\\x83\\x86N^\\xd2%\\x12\\x14\\x8a\\xb0\\x0c\\x05!\\x17r\\xe3\\xef\\xef\\x93jw\\x8c\\xd7\\xfa,\\x81m\\x84T2d\\xd5\\x17\\xcaC\\x89\\xc1=3rC\\xd8T%\\xf3\\xae\\xda&\\x0b\\x85\\xdb\\xe2T\\xcd\\xbb\\x1a\\xbe&`K\\xc3zn\\x9d-\\'\\xff\\xdb^\\xd4=\\xb4\\x17=F\\xf3\\xa3\\x99\\xe0\\x1e\\xb3\\x87s\\x9bz\\xb8\\xc2E\\xac\\xffX\\xd6\\x1e\\xf92\\xdf9p\\xdb:\\xde\\x03^\\xe6\\x13,C\\xa4~\\xc1}\\x8a\\x8a\\x80\\x11\\xabb\\xbe\\xba\\xafO\\xf9%\\x9c;\\xb4{\\xf1\\x81 \\x9b\\xfc\\xd6\\xdb\\xa4\\xf6\\xdd\\xe0\\x0c|\\xd4\\xabZ\\xa5d+\\x11?K\\x07|\\x1f\\x92\\x06c\\x8c[\\xf44_\\x8f\\x14b\\xad\\xa6\\xb1\\xad\\xc6\\xda1\\x0cy\\x80X\\xf3\\x0c\\xa1f8\\xdf\\x87E\\x9a\\x1a3\\xd5\\x8b\\xac9\\x8d\\noA\\xd5@\\xe5?\\xdb\\xd4\\rh\\xf6\\r4\\x1c\\x91\\x05^1\\x99\\xb66\\xa3\\xe4N\\n<\\xdc\\xfe\\xef\\r\\xb0\\xc2\\xc4\\x8e\\xe1\\xed\\x8b\\xbf\\x01PK\\x03\\x04\\x14\\x00\\x00\\x00\\x08\\x00\\xc1\\x9b\\xa7P\\xdf\\x02\\x0c,2+\\x00\\x00\\xd8i\\x01\\x00\\x18\\x00\\x00\\x00xl/worksheets/sheet1.xml\\x85\\x9dk\\x97\\xdc\\xd4\\x99\\x85\\xff\\n\\xcb?\\x00\\xb7\\xeeR\\x16\\xb0\\xd6)\\x110\\xe9\\xea\\x94\"\\xa2\\xb4Z\\xdf\\x9c\\xd0\\x80Wl\\xcc\\xd8N\\x98\\xf9\\xf7\\xe3+h\\xbf[\\xe7\\xe9/3\\x81]\\xfb\\xd5i\\xa96\\xe7\\xf6\\xd4\\xd1\\x17\\xbf\\xbd|\\xf5\\xef\\xd7?\\xdf\\xdf\\xbf\\xf9\\xec\\x7f_<\\xff\\xe5\\xf5\\x97\\x8f~~\\xf3\\xe6\\xd7?=~\\xfc\\xfa_?\\xdf\\xbfx\\xfa\\xfa\\xf3\\x97\\xbf\\xde\\xff\\xf2V\\xf9\\xf1\\xe5\\xab\\x17O\\xdf\\xbc\\xfd\\xc7W?=~\\xfd\\xeb\\xab\\xfb\\xa7?\\xbc7\\xbdx\\xfe\\xb8\\xbc\\xbaj\\x1f\\xbfx\\xfa\\xec\\x97G_}\\xf1\\xfe\\xdfM\\xaf\\xbe\\xfa\\xe2\\xe5\\x7f\\xde<\\x7f\\xf6\\xcb\\xfd\\xf4\\xea\\xb3\\xd7\\xffy\\xf1\\xe2\\xe9\\xab\\xff;\\xdd?\\x7f\\xf9\\xdb\\x97\\x8f\\x8aG\\x9f\\xfe\\xc5\\xfc\\xec\\xa7\\x9f\\xdf\\xbc\\xfb\\x17\\x8f\\xbf\\xfa\\xe2\\xd7\\xa7?\\xdd\\x7f\\x7f\\xfff\\xf9uz\\xf5\\xf6\\x9f\\x1e\\xff^\\xe5\\x87g/\\xee\\x7fy\\xfd\\xec\\xe5/\\x9f\\xbd\\xba\\xff\\xf1\\xcbG\\xa9\\xf8SJ\\xc5\\xd5\\xf0\\xce\\xf2\\xfe3\\xffxv\\xff\\xdb\\xeb\\xdd\\xff\\xfe\\xec\\xdd\\x1f\\xf3\\xcf\\x97/\\xff\\xfd\\xee\\x1f\\xbe\\xfb\\xe1\\xcbGW\\xef\\xdat\\xff\\xfc\\xfe_o\\xde\\x15y\\xfa\\xf6\\xff\\xfd\\xf7~\\xbc\\x7f\\xfe\\xfc]\\xad\\xb7-\\xf9\\x9f\\x8fe\\x1f\\xfd~\\xd5w\\xc6\\xfd\\xff\\xfeT\\xfd\\x9b\\xf7\\x7f\\xfe\\xdb?\\xe7\\x9fO_\\xdf\\x8f/\\x9f\\xdf>\\xfb\\xe1\\xcd\\xcf_>\\xea\\x1f}\\xf6\\xc3\\xfd\\x8fO\\xff\\xf3\\xfc\\xcd\\xfc\\xf2\\xb7\\'\\xf7\\x1f\\xff\\xa4\\xe6\\xf7\\x06~\\xfd\\xf4\\xcd\\xd3\\xaf\\xbex\\xf5\\xf2\\xb7\\xcf^}\\xf8\\xdb\\x7f}\\xfa\\xee\\x16\\x17\\x7f*\\xbb\\xb7-\\xfb\\xd7\\xbb\\x7f{z\\xf7\\xaf\\xdf\\x8bo\\xad\\xaf\\xdf\\xfe\\xdb\\xff~u\\xf5\\xc5\\xe3\\xff\\xbem\\xc4\\xbf>~b\\xf4O\\x14\\xfa\\x89\\xaf\\xfd\\x13\\xa5~\\xe2\\xcf\\xfe\\x89J?\\xf1\\x8d\\x7f\\xa2\\xd6O|\\xeb\\x9fh\\xf4\\x13O\\xfc\\x13\\xad~\\xe2;\\xffD\\xa7\\x9f\\xf8\\x8b\\x7f\\xa2\\xd7O\\\\\\xfb\\'\\x06\\xfd\\xc4\\xf9\\xe0\\x8e\\x85\\x9bzs\\xf0\\x91pW\\xffz\\xf0\\x91p[/\\x07\\x1f\\t\\xf7u:\\xf8H\\xb8\\xb1\\x7f;\\xf8H\\xb8\\xb3\\xf3\\xc1G\\xc2\\xad\\xfd\\xfe\\xe0#\\xe1\\xde\\xfe\\xfd\\xe0#\\xe1\\xe6.\\x07\\x1f\\tw\\xf7\\x1f\\x07\\xdf\\xb6pwo\\x0f>\\x12\\xee\\xeez\\xf0\\x91pw\\xef\\x0e>\\x12\\xee\\xeev\\xf0\\x91pwS:\\xf8\\xcc\\x1f\\xb7\\xf7\\xf1\\xdbt\\xfe\\x1e\\xd1\\xf20\\xa2\\xa9\\xdc\\x15\\xf8\\xe5(\\xa2\\xa7r_<<\\x98Q\\xc4\\xf0H\\xbe\\x161<\\x8c?\\x8b\\x18\\x1e\\xc37\\xe5\\xae=Esu\\x15\\xda\\xf4\\xed\\xde\\\\\\x05\\xf1\\x89\\x88\\xe1\\xd1|\\'bx(\\x7f\\xd9_6\\xdc\\xea\\xeb\\xbd\\x16\\xbe\\xc1g)\\x1a\\x1e\\xe3\\x8d\\x88\\xa1\\xea_E\\x0ce/$N\"\\x86\\xc7\\xf27j\\xd0,bxf\\xdf\\x8b\\x18\\x9e\\xd9\\xdfE\\x0c\\xcfl\\xd9\\x8bux&\\xff\\x90\\x07\\x1a\\x02U\\xe6\\xbf|+hwPs\\x03_J\\xc7FIKu\\x9c\\x96\\xca\\xd2\\x12.|\\xaa\\xf6w!\\x88\\xa3\\x88\\xe1\\xcb\\xf7uEi\\x11g\\xec\\xde\\xaa}{JO\\x8b\\x98\\xc37\\xf0\\x89\\x88\\xe1K\\xf6]Ei\\xa9 -\\xa0\\x9d+\\xf8Z\\xdfHs\\xc2\\xd7\\xfa\\xaf\\x15|\\xff.Tv\\x92\\xb2\\xe1;\\xff7r\\xce\\xe2\\x0c\\x8f\\xe5\\xfb\\x8a\\xd2Be\\x17)\\x1b{\\xa1\\n\\xd2\\x02\\xdaZAZ\\xc0\\xb7\\x81/\\xa5cQ\\xd2R\\x1f\\xa7\\xa5\\xb6\\xb4\\x84\\xaf\\xd0\\xa9\\xde\\x0f\\xb8\\xe2\\xd8\\xb0\\xa6\\xb4\\xd4\\x94\\x16)\\x1b\\xfe\\xd8o\\xea]{\\xaar\\x18\\xc2\\xcd\\xff\\xb6\\xa6\\xb4\\xd4\\x94\\x96\\x9a\\xd2\\xb2\\xbfl0^K\\x93BZ\\xa4h\\xec[jJ\\x0b9/5Di\\x121\\xf6-\\xe4\\x9cE\\x8c}KMi\\xa1\\xd6.\\xf2w\\xc6\\xbe\\xa5\\x86\\xb4\\x80\\xb6\\xd6\\x90\\x16\\xf0m\\xe0K\\xe9\\xd8(ii\\x8e\\xd3\\xd2XZ\\xc2]85\\xfb\\xafu\\xf8~\\x8d\\r\\xa5\\xa5\\xa1\\xb44\\x94\\x96f\\xff\\xb5\\xad\\xbco\\x11sh\\xf0\\x13\\x11C\\x94\\xbek(-\\r\\xa4e\\xaf\\xc5\\xbeE\\x8a\\xc6\\xbeE\\xc48\\x12k(-$N\\r\\xa5\\x85\\x1a4\\xcb3\\x8b}\\x8b\\xdc\\xbc\\xe0\\xfc{\\x03!\\\\\\xa4l\\xec[\\x1aH\\x0bhk\\x03i\\x01\\xdf\\x06\\xbe\\x94\\x8eEIK{\\x9c\\x96\\xd6\\xd2\\x12\\x1e\\xe8\\xa9\\xdd\\xdf\\xbf8oi)--\\xa5\\xa5\\xa5\\xb4\\xb4\\xfb\\xf4v]=|>T]xv\\xdf\\xee+\\xd8\\xe4\\xa5\\xa5\\xc8\\xb4\\x14\\x996\\x7f/\\xaeA;\\xb7\\xf0\\xdd\\xbei)2-|\\xb7/-|C\\xa7\\x96\"Ce\\xe7\\x96\"\\xd3Rd\\xe8\\xef\\\\Z\\x8aL\\x0b\\x91\\x01mm!2\\xe0\\xdb\\xc0\\x97\\xd2\\xb1(\\x91\\xe9\\x8e#\\xd3Yd\\xc2-:u\\xfb\\xfb\\x17z\\xef\\xb1\\xa3\\xc8t\\x14\\x19)\\x1b\\xc4o\\xba]{\\xda\\x83\\xa9\\xbe\\x98\\xc3\\x93y\"m\\x8a\\xc3\\xb1\\xbd\\xd8\\x86\\xb2\\x7f\\xe9\\xf2\\xb7\\xe1\\x1a\\xb4sGi\\xe9(-\\xe4\\xbct\\x94\\x96\\x8e\\xd2B\\xce\\xb9\\xa3\\xb4\\x883\\x0e\\xc7:\\x08\\xe1\\xd2QZ:H\\x0bhk\\x07i\\x01\\xdf\\x06\\xbe\\x94\\x8e\\x8d\\x92\\x96\\xfe8-\\xbd\\xa5%\\xdc\\xf9S\\xbf\\xff~\\xc5\\xa9~Oi\\xe9)-\"\\xc6\\x85\\xb1~?\\x99j=-r\\xd98y\\xe9)-{\\xd1\\xfa\\x96\\xfdec\\xdf\\xd2CZz\\xf8\\x16\\xdd\\xc8\\xfd\\x0bW\\xfc+9/$N=\\xa5\\x85\\x9csOi\\xe9)-\"\\xc6\\xbeE\\xca\\xc6\\xc9K\\x0fi\\x01m\\xed!-\\xe0\\xdb\\xc0\\x97\\xd2\\xb1(i\\x19\\x8e\\xd32XZB\\xf7q\\x1a\\xf6O;\\xdc\\xa2q/\\xda2\\xb28\\xc3\\xb7\\xef\\xcf\"\\x86\\x07\\xfa\\xcd\\xb0\\xbf\\x11\\x07}\\xcb@i\\xd9\\x8b6\\x12\\x1b(-C>\\x11\\xd7{-N\\xf5\\x07J\\xcb@i!\\xe7E\\xc4\\xd8\\xb7\\x0c\\x94\\x96\\x01\\xbe\\xd6\\xb34(n\\xd8\\x0c\\x94\\x16j\\xed\"e\\xc3W\\xe1\\x1fC\\xfe\\xdb{;@Z\\xc0w\\x07\\xbe\\r\\xb4\\x94\\x8e\\x8bJZ\\x8a\\xab\\xe3\\xb8\\xbc\\xff\\xf7\\x9a\\x97p\\x93N\\xef>\\xf2\\xc7\\x8d\\x08\\xea(\\xaa\\xf5/\\xa2Z\\x07\\xa3\\x95cf>\\xaa\\x1f\\xff\\xe6\\xbao\\xba\\xcf\\x8b\\xba|\\xfb\\xff\\xde\\xfd\\xdf\\xf0\\x98\\xbf\\x95R6\\x97\\xd1\\x0b\\x85o\\xdew\\xea\\x8d\\x19\\x92f\\xc4\\x10\\x89\\x18S\\xa4u\\xe3\\x10M\\xd58FC\\xefE\\xd5\\xd8\\xef\\xa8\\x1a\\xa3\\xa4j\\x1c\\xa7\\xa9\\x1a\\xd7\\xcdT\\x8di\\xc2\\xca\\x8b~Ql\\xbb\\xf3*\\xff\\x05\\xbf%q\\x151F\\x8a\\x9c\\x1b9S\\xca\\xa8\\x9a\\xaac\\xdc \\x15\\x85\\xa5j\\x88\\xa9\\x92\\xedy\\xa3\\x11\\nLU\\x81\\xa9\\x12x .\\x0c\\x14\\xb2\\xaew\\xb0\\x8e&vO\\x92\\x14\\x8f\\x9d\\x91z-I0\\xe3\\xbb.`\\xbd\\xf1\\xacu-Ir\\xb3\\xe2\\xe2\\xb3zc\\x97\\x84\\xea\\xa4\\xaa%\\xa9\\xc0$I\\xab\\xe2 N\\xbd\\x96$j\\xd5\\xa2\\x95-I\\xb0)xK\\xe2*\\xa2%\\t\\x9c\\x1b\\x89)e\\xeaj\\x922T@\\xe1X@\\xa4LN\\xc5~\\xc3\\xb7\\x8b\\xf3\\x1fQ=J\\x88\\x06\\x88\\xeaQ\\xdao\\xdfV\\xfdA\\x94\\x90\\x0e\\xd0f\\x971J\\xc8\\x07\\x14\\x04\\x08\\x14D\\x08\\x14\\x88\\x08\\xe8\\xcd\\xb2(!$\\x80\\xeaT &\\x80\\xde\\xb9@P\\xa0@R\\x00\\xff\\xdeE\\xff^\\x8b\\x12\\xc1\\x02$\\xae\\x05\\xe1\\x02\\xe4\\xdcHL)SW\\xa3\\x94A\\x06\\x8a\\x03f B\\x03\\xc5~7\\xb8\\x8b\\x93\\xa3\\x02\\xb1\\x81\\x02\\xb9\\x01Q=J\\xfb\\xbd\\xdd\\xea`\\x82\\xa4\\r\\x8b3$-n\\xbd\\x12\\xc2\\x03ri\\xeb\\x95@<k]\\x8b\\x12\\x02\\x04\\x05\\x12\\x04XyR\\xd5\\xa2D\\xdeYT\\x9b,\\x15\\x88\\x11`\\xe5E\\x9fP\\x13\\xa3D$A\\x01\\xdb\\xfe+\\x89wTv#1\\xa5L]\\x8dR\\x86\\'(\\x1c(\\x88\\xd4\\xe2\\xa9\\xd8o\\x15wq\\xdbGT[h(\\x10*\\xd0\\xca]\\x8c\\x92l\\xfc^\\x1dD\\t\\xb9\\x02-\\xde\\xc7(!Y \\x97\\xb6^\\t\\xc4\\xb3\\xd6\\x8d+\\x0e\\x05\\xd2\\x05\\x05q\\x00\\x17T\\'\\xad\\x1cq\\x9c\\x82P\\x80\\xb9@\\xc4\\xa0@\\xc6\\x00+/\\xda*\\xeb\\x95\\x083 q-\\x084 \\xe7F\\xce\\x942\\xaaF)\\x03\\x1b\\x14N\\x1bD\\xba\\xf7T\\xec\\xf7\\x91\\xbb!F\\t\\x81\\x83\\x02\\x89\\x03Q\\xfb\\xab\\x18\\xa5\\xfd\\xaepy\\x14%\\xd9\\xfd\\xb6\\x01\\x1eR\\x07\\x05b\\x07\\x05q\\x07\"\\xda\\\\\\t\\xc9\\x03\\xbdY\\x16%\\xf2^P\\x9d\\n\\xa4\\x0f\\n\\x02\\x17\\xe6\\x02\\xf9\\x03\\xf5Z\\x94\\xa8UK\\x81\\x08BA\\x0c\\x02\\x89kA\\x14\\x02\\x89\\x1b\\x89)e.\\xaaQ\\xca\\x90\\x08\\x85\\xa3\\x08\\x91\\x82?\\x15\\xfb\\xfd\\xe5\\xde\\xe6JH#\\x14\\x88#h\\xe52FI\\xb6\\x99\\xbb\\x83(\\x89=\\xf2;\\xda\\xb0\\xb8cT \\x8eP\\x10\\x8f@\\xe2\\xb9@\"AT[\\x08/\\x90I@u*\\x90J@\\xef\\xac\\xaa\\xf5J-F\\x89P\\x89E\\x9fA\\xdc>*\\x80\\x15\\xb8-\\x08N \\xe7\\x1d97\\x12S\\xca\\xa8\\x1a\\xa5\\x0c\\xa1P8\\xa2\\x10\\x7f-r*\\xf6\\x9b\\xcf}\\x1d\\xa3\\x84\\x94B\\x81\\x98\\x82\\xa8>W\\x12*\\xa0>\\x88\\x924\\xcc~>$\\xc5\\xadW\\xea0J\\x1dE\\x89h\\x85\\x82\\xb6\\xf1oD\\xf5(\\x11Yp\\xc1\\xcaS\\x81\\xc8\\x02V\\x9e\\xf5>\\xda\\\\\\t\\xa9\\x05l\\xd5R \\xb7P\\x00HpK\\xe2Z\\x00\\x9epG\\xe2FeS\\xca\\xa8\\x1a\\xa5\\x0c\\xbeP8\\xbf\\x10\\x7fUu*\\xf6;\\xd3}\\xe4}\\nD\\x18\\nd\\x18D\\xf5(\\xed\\xf7\\x99\\xab\\x03\\x8aA\\xec>\\xc0\\xdb\\xab\\xbe\\x82\\x87 CA$\\x03\\x89\\xe7\\x02Y\\x06\\xbdY6\\xc0C\\x9aAU\\x9b+Ie\\x9b+!\\xd0P \\xd1P \\xd2\\x80\\x95\\x17\\xadlQ\"\\xaa\\x81\\xc4\\xb5 \\xae\\x81\\x9c\\x1b\\x89)eT\\x8dR\\x86m(\\x1cn\\x88\\xbf><\\x15\\xfbm\\xeb\\xdevk\\x07\\x8c\\xd2\\x80Q\\x92\\xca\\x91\\x07*d\\x87\\xba\\xf6_3\\x88\\xdd\\xa3\\xb4W}\\xd9\\x01)\\x07\\xb9\\xb4E\\t\\x18\\x88sA\\\\\\xc1\\x8d\\xaa\\xb6CK4\\xc3\\xa5 \\xb4`*\\x10v@\\xef\\xac\\xaa\\r\\xf0\\x90w\\xc0\\xca\\x8b~9l\\x80G\\xc8CA\\xcc\\x039\\xef\\xc8\\xb9\\x913\\xa5\\x8cU\\x7fl\\x9a\\xe1\\x1eJ\\xe7\\x1e\\xe2\\xaftO\\xe5~\\xc7z\\x88[\\xb4%\\x82\\x0f%\\x82\\x0f\\xa2\\x1a\\x88Z\\xca\\xa6\\xf5\\xd5\\xc1\\xbaC\\x89\\xb4\\x83\\xb6,N\\x96D5\\x1aU\\xaem\\xbf<\\x05\\x14\\xe2\\\\\"\\xed\\xa0m\\x8a\\xdd\\x12z/%\\xd2\\x0e%\\xd2\\x0e\\xe8\\x9d\\xf5^\\xc4\\x11\\x9e>\\xa5Hq\\x97H;\\xe8\\xdfk?B%\\xda\\x81\\xc4\\xb5$\\xda\\x81\\x9c\\x1b9S\\xca\\xa8\\x9a\\xa5\\x0c\\xedP:\\xed\\x10\\x7f\\xce~*\\xe5$\\x81\\xb8\\xee \\xaag\\tq\\x07\\xad\\x1c\\xd7\\x1dJ!\\x9b\\x0e\\x92$g \\xc4e\\x07Qm\\x80\\'\\xaa\\xff\\x84\\x9bh\\x07\\x12\\xcfZ\\xd7\\x92\\x84\\xb4CI\\xe4\\xc0\\x05\\xd5I+\\xc7\\x01\\x9ez\\xe3\\\\I\\x9fB\\x15\\x93\\x84\\xb4\\x03V^D5\\x0eOn\\xa4%\\x89h\\x07\\x11-ID;\\x903\\xa5\\x8cU\\x93\\x94;\\x03\\xc1i\\x87x\\xea\\xc3\\xa9\\xdcoY\\x0fq\\xd9AT?\\x07\\x81\\x0fB\\xd8\\xab\\xb6\\x82W\\xca\\xc6\\xf4Q\\x94\\xa4aq\\xd9AT\\x1b\\xe0\\x95H;\\x94\\x004\\\\\\x8b\\x18\\x17\\xc3K\\xe2\\nnJ\\xa4\\x1d\\xd0{)\\x89+\\x98J\\xa4\\x1d\\xb0\\xf2\\xac\\xad\\x8as%Q\\xbdSB\\xdaA\\x9fP\\x1b\\xa3\\x04\\xcc\\xc2mI\\xb4\\x039\\xef\\xc8\\xb9\\x913\\xa5\\x8cU\\xa3\\x94\\xa1\\x1dJ\\xa7\\x1d\\xe2\\xe9(\\xa7r\\xbfe=\\xc4e\\x87\\x12i\\x87\\x12i\\x07\\xadlQ\\x92\\x8d\\xe9\\x83\\x15<\\xb1\\xfb\\xf8\\xae\\xc2(!\\xed \\x97\\xb6\\xf1\\x1d\\x1d\\x96P\"\\xedP\"\\xedP\"\\xed\\x80\\x95\\xa7\\x12i\\x07\\xac<\\x97H;\\x88\\xeaQB\\xda\\xa1D\\xda\\xa1\\x04f\\xe1\\xb6\\x04,a%\\xe7\\x1d97r\\xa6\\x94\\xb1j\\x942\\xb4Cyp|B\\xa4\\x1d\\xca\\xfd\\x96\\xf5\\x10\\x97\\x1dJ\\xa4\\x1dJ\\xa4\\x1d\\xb4\\xb2\\x9d\\xcf\\xb3\\xdfz>\\xda\\xa2\\x15{\\x11\\xe5\\'\"\\xfb\\\\\\tq\\x07\\xb9\\xb6uK \\x9eK\\xda\\xfe\\xbf\\x11\\xd5V\\xc3\\xd1{AuR\\xd5\\xb2\\x84\\xb8\\x83\\xb6\\xca\\xb2\\x84\\xb8\\x03V^J\\xc4\\x1dJ\\xc2\\x1dH\\\\K\\xc2\\x1d\\xc8\\xb9\\x91\\x98RF\\xd5,ep\\x87\\xd2q\\x87x\\xdc\\xd6\\xa9l\\xe4+k\\x93\\xa5\\x06\\xc3\\x84\\xbc\\x83\\xa8>\\xc4\\x93\\xcd\\xe7\\xa3\\xd3\\xae\\xb4ee\\x0c\\x93l\\xc5\\xdb\\x81W\\x08<\\xc8\\xb5\\xadc\\x02\\x1a\\xe2\\\\\\x12Zp\\xa3\\xaa\\x9dz\\x85\\xc0\\x03V\\x9eJ\\x04\\x1e\\xd0;\\x8b\\xeaaB\\xe0\\x01+/\\xa2\\xfa\\x18\\x8f\\x80\\x87\\x12\\xc8\\x84\\x95\\xc4;*\\xbb\\x913\\xa5\\x8c\\xaaa\\xca\\x00\\x0f\\xa5\\x03\\x0f\\xf1`\\xbaS\\xd9\\xcaW6\"\\xad%\\x12\\x0f%\\x12\\x0f\\xa2\\xfa \\xaf}(Lx\\xfc\\x82\\xa8\\xb6M[\"\\xf1 \\x97\\xb6\\x8e\\t\\xc4s\\x89\\xc4\\x83\\xaa\\x96%$\\x1e\\xb0\\xf2T\"\\xf1\\x80\\xdeY\\x1f\\xa1\\xcd\\x97\\x90x(\\x91x\\xd0\\xca\\xd61\\xd1i\\x0c$\\xae%\\x11\\x0f\\xe4\\xdcHL)SW\\xb3\\x94!\\x1eJ\\'\\x1e\\xca&f\\xa9\\x93,\\xd9\\xda\\x83@\\r\\xd61!\\xf2 \\xaa\\xaf\\x88\\xcb\\xd9\\x0cGk\\x0f\\xda2[|P9\\x9e\\x97*\\xb2/\\x89\\xd3\\t\\r%\\x10\\x11\\xe7\\x12\\xa1\\x07Q}\\xca\\x84\\xd0\\x03\\xaaS\\x89\\xd0\\x03zgm\\x95\\xa5\\t\\xa1\\x07U\\xadg\\x92\\xca\\xb6$N\\xa75\\x90\\xb8\\x96\\x80.\\xdc\\x91s#1\\xa5\\x8c\\xaai\\xca@\\x0f\\xa5C\\x0f\\xf1\\xc4\\xd2S);\\xd76\\xcaC\\xe8\\xa1D\\xe8A\\xbd\\xf1\\x90\\xc6Rv\\xa0\\x0fNiT{\\x04\\xc4U\\xb5\\x19\\x13B\\x0f%A\\x0f$\\x9eK\\x84\\x1eJ\\x84\\x1eJ\\xc2\\x1a.Xy*\\x11z@\\xef\\\\\"\\xf4P\"\\xf4\\x80\\x95\\x97\\x12\\xa1\\x87\\x92\\xa0\\x07\\x12\\xd7\\x92\\xa0\\x07rn\\xe4L)\\xa3j\\x942\\xd0C\\xe9\\xd0C\\xec[N\\xe5~\\xe7\\xba\\xb8\\xb2\\x95<\\xa4\\x1eJ\\xa4\\x1eD\\xf5\\xe5\\x87\\xe1\\xa1,\\xe1\\xc9\\x0e\\xa2\\xfa \\x0f\\xa9\\x87\\x92\\xa8\\x07\\x12\\xcf%R\\x0f\\xdab\\xcb\\x12\\x1e\\xf0\\x80\\xeaT\"\\xf5\\x80\\xad\\x9aK\\xa4\\x1e\\xf4>\\xdaJ\\x1eR\\x0f\\xfa\\x80m\\xc2\\x04x\\xc2-\\x89kI\\xd4\\x0397\\x12S\\xca\\xd4\\xd5C\\x833\\xd4C\\xe5\\xd4C\\xfc\\xc2\\x9f\\xaa+\\xc9R\\\\\\xca\\xab\\x10{\\xa8\\x10{\\xa8\\x10{\\xa8\\xf6[\\xd0GKy\\xa1e\\xf1\\x08\\xae\\n\\xb1\\x87\\n\\xb1\\x87\\x8a\\xb0\\x07\\x11\\xe3\\x0eSE\\x80\\xc1M\\x85\\xd8C\\x85\\xd8\\x03V\\x9e*\\xc4\\x1e\\xd0;W\\x88=\\xa8\\xd7\\xce\\x12F\\xec\\xa1B\\xec\\xa1\"\\xec\\x81\\xc4\\xb5\"\\xec\\x81\\x9c\\x1b9S\\xcaX5L\\x19\\xec\\xa1r\\xec!\\x9e\\x92u\\xaa\\xf4\\xdd\\x07\\x91!\\x12\\xd9\\xc3\\x84\\xdc\\x83\\xa8\\xb6\\x94W\\xe9\\xaf@\\x0e\\xc2$\\xf68a\\xd2\\x86Y\\x96\\x10|\\x90K[\\x96@<k\\xdd\\xd81\\xa9\\x1aW\\x1fT\\x8d\\x1d\\x93\\xaaq\\xbe\\xa4\\xaae\\x89*\\xcfz\\xa7\\xecXn\\x04\\x1f\\xb0\\xf2\\xa2\\x95-K\\x00!\\xdc\\xea\\xd3\\x8fY\"\\xf0\\x81\\x9c\\x1b9S\\xca\\xa8\\x9a\\xa5\\x0c\\xf8P9\\xf8\\x10W\\xc4NU)Y\\xb2#\\xed\\xf1\\x9c\\x87\\n\\xc9\\x07Qm\\x90W\\xed\\xb7\\xa1\\x0f~\\xba$n\\x8f\\xd2^\\xb5\\xb3\\x87\\xc2\\x1feY\\x02\\xb8\\xe1\\x9a\\xc4s\\x85\\xe4C\\x85\\xe4\\x03z/\\x15\\x92\\x0fZ\\xd9\\x0e\\xb8\\xc7\\xf7A\\xe8\\x8d\\xb4~\\t\\xcfy\\xc06/\\xda*\\xcb\\x12\\x9d\\xf3@\\xe2Z\\x11\\xf9@\\xce\\x8d\\x9c)eT\\xcdR\\xee\\xd5\\x10N>\\xc4\\xbd\\x98SU\\xc9\\xd7.\\xae\\x8a\\x8bl+y\\x15\\xa2\\x0f\\x15\\xa2\\x0f\\xd5\\x83\\xaf\\x88@\\xf4AT\\x9b0U\\x88>\\xc8\\xa5\\xe3:^E\\xe8C\\x85\\xe8C\\x85\\xe8C\\x85\\xe8\\x83\\xaa6\\xc6C\\xf4\\x01[5\\xab\\x1a\\'L\\xaaZ\\x96\\xa8\\xcd\\x8b\\xfe\\xbd\\x96%|e\\x04\\xbe3\\x02_\\x1a\\x01\\xe2FbJ\\x19U\\xb3\\x94A\\x1f*G\\x1f\\xe2\\xf7\\xeaT\\ta\\x10\\x7fq;\\x8a\\xec\\xfd\\x12\\xb2\\x0f\\xa2\\xda\\x01y\\x95\\xecC\\x1f\\x8d\\xf1j\\xccR\\x8dYB\\xf4A.mc<:\\xe9A\\xebZ\\xbf\\x84\\'=\\xa8\\xd7\\xb2D\\x95\\xa7\\n\\xd1\\x87\\n\\xd1\\x07m\\x95\\x8d\\xf1\\x10}\\xc0V-Z\\xd9\\xb2D\\xe8\\x03\\x89kE\\xe8\\x0397r\\xa6\\x94Q5K\\x19\\xf4\\xa1:x\\xafDD\\x1f*\\x01\\x0c\\xe2OnG\\x91=K\\x88>\\x88\\xea\\xfd\\x92\\xec`\\x1f\\r\\xf2\\xf0\\xa8\\x07Q=KH>TD>TD>TH>TH>\\xa8jY\\xc2\\xa3\\x1e*$\\x1f\\xd0;\\xeb#\\xb4,!\\xf9\\x80m^\\xb4\\xb2e\\x89\\xc8\\x07\\x12\\xd7\\x8a\\xc8\\x07rn\\xe4L)c\\xd5,e\\xc8\\x87\\xca\\xc9\\x87\\xf8\\x84O\\x95\\x90\\x0f\\xf17\\xb7\\xa3\\xc8>\\xc6C\\xf2AT\\x9f/\\xed\\xb7\\xa1\\xcb\\xa31\\x9e\\xec\\xab\\xdb{\\xc0\\x90|\\xa8\\x90|\\xa8\\x88|\\x10\\xd1\\xe6KD/\\xdc\\x84{\\xd9\\xc50!\\xfa\\x80\\xea\\xa47\\xc3&Lx\\xd8\\x83\\xa8\\xbe\\x90\\x87\\xe8C\\x85\\xe8\\x83V\\x8e\\xbf\\xba\\xa8\\x08} q\\xad\\x08} \\xe7F\\xce\\x942\\xaa\\x86)\\x83>T\\x8e>\\xc4;}\\xaa\\x84 \\x88?\\x15\\x1cE\\xf6\\x8e\\t\\xd1\\x07Q\\xbdc\\x92]\\xe8\\xe2 L\\xda2[\\x15\\xdf\\xcb\\xf6\\x13&Q=M]>0\\xd7\\x15\\x91\\x0f\\x15\\x91\\x007\\xaaZ\\xcf\\x84\\xef\\xa7@u\\xd2\\xe7`a\"\\xef\\\\!\\xf9P!\\xf9P\\x11S\\xb1he{\\xc7\\x1e\\x1d\\xf7P\\x11\\xf9@\\xce;rn\\xe4L)\\xa3j\\x982\\xe4C\\xe5\\xe4C\\x1c!\\x9c\\xaa\\xfd\\xf6\\xb5o\\xd7V\\x88>T\\x88>\\x88\\xea=\\x93\\xa2\\x0f\\x8d\\x87\\t\\xd1\\x07Q\\xbdgB\\xf4\\xa1\"\\xf4\\x81\\xc4\\xb3\\xd6\\xb5,!\\xfaP\\x11Fp\\xa9\\x08\\x8c\\x98T\\xb5Q\\x1e\\xb5j\\xae\\x10}\\xd0\\xfb\\x18\\xb7k\\xb1U\\x8b>\\xe0\\xb8][\\x11\\xfa@\\xe2Z\\x11\\xfa@\\xce\\x8d\\x9c)eT\\xcdR\\x06}\\xa8\\x1c}\\x88+9\\xa7J\\xd0\\x87\\xf8k\\xc1\\xb1B\\xf4\\xa1B\\xf4AT_}x\\xe8\\x9d\\x16b\\xf7\\x19\\x93\\xa81JH>\\xc8\\x95\\xcb\\x18%:\\xef\\xa1B\\xf2\\xa1B\\xf2A\\xbd6aB\\xf2\\xa1B\\xf2\\x01\\xbd\\xb3>\\x05\\x1b\\xe3\\xe1y\\x0f\\xd8\\xe6E\\xff^\\xeb\\x96\\x88| q\\xad\\x88| \\xe7F\\xce\\x942\\xaa\\xbe\\x006C>\\xd4N>\\xc4\\xbbu\\xaa\\x85/\\x88\\xbf\\x16\\x1ck$\\x1fj$\\x1fD\\xb5\\xcd\\xda\\xfa\\xea\\x81(\\x89\\xdd\\xde=&\\xaa\\xfd\\xecBU{\\x19,\\x81\\x0f\"\\xc6,\\xd5\\x04/\\xdc\\xd4\\x08>\\xd4\\x84\\'\\\\P\\x9dj\\x04\\x1f\\xd0;\\xabjo\\x85E\\xf0\\x01+/\\xa2\\xda|\\xa9&\\xf0\\x81\\xc4\\xb5&\\xf0\\x81\\xc4\\x8d\\xc4\\x942\\x17\\xd5,e\\xc0\\x87\\xda\\xc1\\x87\\xf8\\xdf\\x96S-\\xe0C\\xfc\\xb9\\xe0(\\xb2g\\t\\xc1\\x07\\xf5F\\xba\\xb5\\xd6C\\x99\\x0f\\xb2\\x84\\xef\\xb7\\x10\\xd5\\x86x\\xea\\xb5,\\x11\\xf8 \\xa2e\\t\\xc1\\x07Q\\xed\\xf7\\x805A\\x04\\x17U\\xed\\xf5\\xca\\x08>\\xa0w\\x16\\xd5N|P\\xafe\\t\\xc1\\x07}\\xc0\\xb1_\\x92\\x1b\\x19\\xa7K\\xfa\\xf4c\\x96\\x08| \\xe7F\\xce\\x942V\\xcdR\\x06|\\xa8\\x1d|\\x88K\\x97\\xa7Z\\x18\\x81\\xf8s\\xc1\\xb1F\\xf0\\xa1F\\xf0A\\xbd\\x96\\xa5\\xfd.t9\\x1cd\\t_p!\\xaag\\t\\x8f|\\x90K\\xc7\\x85\\xbc\\x9a\\xc0\\x87\\x9a\\x10\\x83\\x1bU\\xe3\\xd2C\\x8d\\xe0\\x03V\\x9ej\\x04\\x1f\\xd0;\\x8bjc<\\xbd\\x8fq\\xba\\xa4\\x95\\xe3\\x18OT\\x9b.\\xd5\\x04>\\x90\\xb8\\xd6\\x04>\\x90s#gJ\\x19U\\xb3\\x94\\x01\\x1fj\\x07\\x1f\\xe2\\xcf*N\\xb5\\x80\\x0f\\xf1\\xd7\\x82c\\x8d\\xe0C\\x8d\\xe0C\\x8d\\xe0C-[\\xdfGc<\\x04\\x1fD\\xb53\\x1fj\\x04\\x1f\\xe4\\xd2q\\x19\\xaf&\\xf0\\xa1F\\xf0AU\\xcb\\x12\\xa1\\r\\x17\\xac<\\x89\\xeaYB\\xf0AT\\xcf\\x12\\x82\\x0f5\\x82\\x0f\\xfa\\x80-Kt\\xe6CM\\xe0\\x039\\xef\\xc8\\xb9\\x91\\x98RF\\xd5,e\\xc0\\x87\\xda\\xc1\\x87\\xd8\\xb5\\x9cj\\x01\\x1f\\xe2\\xaf\\x05\\xc7\\x1a\\xc1\\x87\\x1a\\xc1\\x07Q\\xed\\xd8\\xd6Z\\x0e}8\\xf89`\\x8d\\xe0C\\x8d\\xe0C\\x8d\\xe0CM\\xe0\\x83\\x886\\xc6\\xc33\\x1fj\\x04\\x1fj\\x82\\x08.\\xa8N5\\x82\\x0f\\xe8\\x9dU\\xb5\\xf9\\x92\\xdcG\\xeb\\x97\\x10|\\xd0\\xbf\\xd7\\xc6x\\x04>\\x90\\xb8\\xd6\\x04>\\x90s#gJ\\x19\\xabf)\\x03>\\xd4\\x0e>\\xc4\\xa1\\xd6\\xa9\\x16\\xf0!\\xfeVp\\xac\\x11|\\xa8\\x11|\\xa8\\x11|\\xa8e\\x17\\xfa\\x00\"\\xaa\\x11|\\x10\\xd5\\xfb%\\x04\\x1f\\xe4\\xd2\\xd6/\\xd1;.j\\x04\\x1f\\xf4fY\\x96\\xf0\\xc8\\x07T\\xa7\\x1a\\xc1\\x07l\\xd5,\\xaa\\xf7K\\x08>`\\xe5E+\\xdb\\xda\\x03@\\x08\\xb75\\x81\\x0f\\xe4\\xbc#q#1\\xa5\\xccE5K\\x19\\xf0\\xa1v\\xf0!n\\xd3\\x9cj\\xd9\\xac\\x8f\\xa3\\xb8Qd\\xcf\\x12\\x82\\x0f\\xa2z\\x96\\xda\\x87\\xb2\\x84G>\\x88j[\\xb55\\x82\\x0fri\\xeb\\x97\\x08|\\xd0\\xba\\x96%<\\xf2\\x01\\xbd\\x17T\\xa7\\x1a\\xb9\\x87\\x1a\\xb9\\x07U\\xad_B\\xee\\x01+/\\xda\\xaa\\x08\\x11\\xd5\\xc0 \\xdc\\xd6\\xc4=\\x90\\xf3\\x8e\\x9c\\x1b9S\\xcaX5K\\x19\\xee\\xa1v\\xee!\\xfe\\xd4\\xe7T\\x0b]\\x10\\xf30\\x8a\\xec\\xf3%\\xe4\\x1ej\\xe4\\x1ej\\xd9\\xbe>xOm\\xcd\\xdc\\x83\\xc8\\xf6\\x0b\\xa6\\x1a\\xb9\\x87\\x1a\\xd0\\x86k\\x11m\\x90\\x87\\xdc\\x83\\xa8\\xbe\\x90G\\xa7E\\\\\\xb0\\xf2\\xa4\\xaauL\\xc8=h\\xab\\xaccB\\xee\\x01+/Z\\xd9:&:\\xf1\\xa1\\x06@a%\\xe7\\x1d97\\x12S\\xca\\xa8\\x1a\\xa6\\x0c\\xf7P;\\xf7\\x10\\x87\\x1e\\xa7Z\\xb8\\x87\\xf8c\\xc1Qd\\x0f\\x13r\\x0f\\xa2z\\x98d\\xff\\xfa\\x00\"\\x12\\xbbwL\\xc8=\\xd4\\xc8=\\xc8\\xa5m!\\x8f\\xb8\\x87\\x1a\\xb9\\x07\\xbd\\x97F\\xe4\\xd5\\x08>\\xa0:\\xd5\\x08>`\\xb3fQ=Lx\\xe6\\x03\\xb6j\\x11\\xd5gL\\x00!\\xdc\\xd6\\x04>\\x90\\xf3\\x8e\\x9c\\x1b9S\\xcaX5L\\x19\\xf0\\xa1v\\xf0!\\x8e\\x10N5\\x9f\\xf9P#\\xf8P#\\xf8 \\xaaAD\\xb5\\x9e\\xf9\\xe0\\x10\\x91^:BD\\xa2z\\x98\\x90|\\x90K[\\xc7Dg>\\xd4H>\\xd4H>\\xd4\\xc4\\'\\\\jb\\x0c\\xa6\\x1a\\xc9\\x07l\\xd5\\xac\\xad\\x8a\\x10\\x91\\xdeG[}@\\xf2A\\x1f\\xb0\\xad\\xe4\\x11\\xf9@\\xe2Z\\x13\\xf9@\\xce\\x8d\\x9c)eT\\xc9R\\x93!\\x1f\\x1a\\'\\x1f\\xe2\\xbd<5B>\\xc4\\xff\\xfe\\x8f\\r\\x92\\x0f\\r\\x92\\x0f\\xa2Z\\xc7\\xd4\\xd8\\xab.B\\x96\\xc4n\\x1d\\x936,\\x0e\\xf2\\x1a$\\x1f\\x1a\"\\x1fH<7D\\x02\\xdc\\xa8\\x1agL\\xe8\\xbd\\xa0:5H>\\xa0w\\x16\\xd5\\xfa\\xa5\\x06\\xc9\\x07\\xac\\xbc\\xe83\\x883\\xa6\\x06(\\x84\\xdb\\x86\\xc8\\x07r\\xde\\x91s#gJ\\x19\\xabf)C>4N>\\xc4\\x9e\\xf8\\xd4\\x08\\xf9\\x10q\\x9cQd\\x1b\\xe4\\xa9jY\\xd2\\xd2\\x16&\\xd9\\x87>\\x18\\xe5\\xa9\\xdf\\xa6L\"\\xdbZ\\x9e\\xa8\\x9e&\\xa1Ab\\x9a\\x88}\\xd0\\xba\\xb1g\\x12\\xd5\\xa6L\\xe8\\xbd\\xa0:\\xa9ji\"\\xef,\\xaa\\xf5L\\xea\\xb54\\xe1\\xdb.\\xb4r\\x1c\\xe5\\xe9\\x13\\x8ei\"\\xf6ADK\\x13\\xb1\\x0f\\xe4L)\\xa3j\\x9a2\\xecC\\xe3\\xecC\\x13\\xd9\\x87F\\xd8\\x87\\xf8 \\xc6\\x06\\xd9\\x87\\x06\\xd9\\x07Q\\xbdg\\xdaoD\\x1fl1i\\xc3<K\\xb2+\\x1f\\xa3\\x84\\xe8C\\x03t\\xc3\\xb5\\x88\\xd61!\\xfa\\xa0\\xf7*\\x0e\\xf2\\xd0{AuR\\xd5\\xa2D\\x80\\xc2\\xdc \\xfa\\xa0^\\x8b\\x12\\xa2\\x0fZ9\\xae>4\\x80!\\xdc6\\x84>\\x90\\xf3\\x8e\\x9c\\x1b9S\\xca\\xa8\\x1a\\xa5\\x0c\\xfa\\xd08\\xfa\\x10wMO\\x8d\\xa0\\x0fqd2\\x8a\\xecQB\\xf4AT#\\xc5\\x9b\\x87^w\\xd1 \\xfa \\xaaM\\x98\\x1aD\\x1f\\x1a\\xa0\\x1b\\xaeI<7\\x84/\\xdc\\xe8\\xcd\\xb2,\\xe1\\x99\\x0fXyR\\xd5\\xb2\\x84\\xe8\\x83\\xb6\\xca\\xba%D\\x1f\\xb0U\\x8bV\\xb6A\\x1e\\xa1\\x0f\\r\\xa1\\x0f\\xe4\\xbc#\\xe7F\\xce\\x942\\xaaf)\\x83>4\\x8e>4\\x11}h\\x04}\\x88\\xb7kl\\x10}h\\x10}\\x10\\xd5\\xbb\\xa5\\x87\\xce|h\\x10}h\\x10}h\\x10}h\\x80n\\xb8&\\xf1\\xacu\\x87\\x98%=?#\\xae\\xe4\\xa1\\xf9\\xd2\\x10U15\\xc8>\\xa0w\\xd6gha\\xc2C\\x1f\\xb0\\xcd\\x8b\\xa8\\xde1\\x11\\xfb\\xd0\\x00\\xa4\\xb0\\x92xGe7\\x12S\\xca\\xd4\\xd50e\\xd8\\x87\\xc6\\xd9\\x87&\\xb2\\x0f\\x8d\\xb0\\x0f\\xf11\\x8d\"\\xfb\\x8c\\t\\xd9\\x87\\x06\\xd9\\x87F6\\xa2\\x8fV\\x1f\\x90}\\x10\\xd5W\\x1f\\x90}h\\x88}\\x10\\xd1:&d\\x1f\\x1ad\\x1f\\xd4kYB\\xf6\\xa1A\\xf6\\x01+\\xcf\\r\\xb2\\x0f\\r\\xb2\\x0f\\xf8\\xf7.\\xfa\\xf7\\xda|\\x89\\x0e} qm\\x88} \\xe7FbJ\\x19U\\xb3\\x94a\\x1f\\x1ag\\x1f\\xe2\\x7f\\xc2O\\x8d\\xb0\\x0fqk|l\\x90}h\\x90}\\x08\\xa5\\xe3\\xf1\\xad\\xcd~\\'\\xfah\\xc2\\x84\\xecC\\x83\\xecC\\x83\\xecCC\\xec\\x03\\x89\\xe7\\x06\\xd9\\x07\\xbdY\\x96%:?\\xe1\\x82\\xea\\xd4 \\xfb\\x80\\xad\\x9a\\xd5k\\xfd\\x12\\xb2\\x0f\\xd8\\xaaET[\\x15o\\x00R\\xb8%qm\\x88} \\xe7FbJ\\x19U\\xb3\\x94a\\x1f\\x1ag\\x1f\\xe2\\x1e\\xc2\\xa9\\x11\\xc2 \\xde\\xaeQd\\xcf\\x12\\xb2\\x0f\\xea\\x8d\\xbf\\xbbh\\xf6\\xfb\\xd0\\x83\\xbfJ]\\xdc\\x1e%<\\xf1\\xa1A\\xf2\\xa1\\x01\\xb8\\xe1\\x9a\\xc4s\\x83\\xe4\\x83\\xaa\\xb6(\\x8e\\xe4\\x03\\xaaS\\x83\\xe4\\x03\\xb6jV5bD\\r\\x92\\x0f\\xd8\\xaaE\\x9f\\xafuKD>\\x90\\xb86\\xc0/\\xdc\\x91s#gJ\\x19U\\xa3\\x94!\\x1f\\x1a\\'\\x1f\\x9aH>4\\xb2[\\x1f\\'\\x90\\xa3\\xc8\\x1e%\\xd9S\\xafc\\x94\\xf0e\\x17\\x8d\\xecB\\x1f`D\\r\\x92\\x0f\\xa2\\xfa\\x928\\x92\\x0f\\r\\x91\\x0f\\r\\x91\\x0f\\r\\x81\\x007\\xfa\\x07[\\xb7\\x84\\xe0\\x03\\xaa\\x93V\\xb6n\\t\\xc1\\x87\\x06\\xc1\\x87\\x06\\xc1\\x07U\\xad[B\\xf0\\xa1!\\xf0\\xa1!\\xf0\\x81\\x9cw\\xe4\\xdc\\xc8\\x99RF\\xd5,e\\xc0\\x87\\xc6\\xc1\\x87&\\x82\\x0f\\x8d\\x80\\x0f\\xf6\\xe2\\x98\\x06\\xc1\\x87\\x06\\xc1\\x07Q\\xedg\\xea\\xcd~\\x17\\xbas\\xeeA\\xdc\\x1e%:\\xf0\\xa1A\\xec\\xa1!\\xecAD\\xeb\\x95\\x10{P\\xd5z%\\xc4\\x1eP\\x9d\\x1a\\xc4\\x1e\\xb0Us\\x83\\xd8\\x83z-ITy\\x11\\xd5\\x17\\x1e\\x08{ qm\\x08{ \\xe7F\\xce\\x942\\xaa$\\xa9\\xcd`\\x0f\\xadc\\x0f\\xf1\\x8d\\x13\\xa7V\\xb0\\x87\\x98\\x95\\xb1E\\xec\\xa1E\\xecATC\\x88\\xda\\xfd\\x1et\\xeb\\x9d\\x92^9\\x12D\\xa2\\xda\"^\\x8b\\xd4\\x83\\\\9\\xae;\\xb4D=\\xb4H=h\\x8bc\\xa7\\x84\\xde\\x0b\\xaaS\\x8b\\xd4\\x83\\xaa1J\\xaa\\xc6\\x01^\\x8b\\xd4\\x03\\xb6ji\\x91zh\\x01O\\xb8%qm\\x89z \\xe7F\\xce\\x942\\xaaF)C=\\xb4N=\\xc43HN\\xad\\xa0\\x05q\\x186\\x8a\\xecQB\\xeaAT[\\xc3k\\xf5\\xbc\\x87\\xbe\\xb7,1\\xf4 \\xb2\\x1d\\x9e\\xa2\\xaa\\x85\\x89\\xa0\\x07\\x12\\xcfZ7\\xf6K\\xaa\\xc6~\\xa9%\\x80\\xe0\\x82\\xea\\xa4\\xcf!\\x8e\\xf0\\xb0U\\xb3zc\\xbf$\\xaa\\xe1x\\xd8\\xaaE+\\xc7\\x11\\x9e>\\xe1\\x18&\\xa0\\x13V\\x12\\xef\\xa8\\xecF\\xce\\x942\\xaa\\x86)\\x03=\\xb4\\x0e=\\xc4\\xb7\\x11\\x9dZa\\x0b\\xe2\\x7f\\xff\\xc7\\x16\\xa1\\x07Qm\\xb6\\xd4\"\\xf4\\xd0\\xca\\xee\\xf5\\xc1\\x82\\xb8\\xd8m\\x88\\'\\xaawLH=\\xc8\\xa5\\xe3l\\x89\\xc4s\\x8b\\xd4\\x83\\xdeK\\xdb]B\\xf3\\xa5%\\xc0`j\\x11{@\\xef\\xac\\xaa\\xf5L\\x88=`\\xe5E\\x9fp\\\\\\xc5k\\x81O\\xb8%qm\\t{ \\xe7F\\xce\\x942\\xaa\\x86)\\x83=\\xb4\\x8e=\\xb4\\x11{h\\x05{\\x88\\xdb4c\\x8b\\xd8C\\x8b\\xd8\\x83\\xa86]j\\x1f:\\xf1\\xa1E\\xecAT{oL\\x8b\\xd8\\x83\\\\\\xda\\xc2\\x04\\xc7A\\x9c[\\x02\\x0cnT\\xb5\\x8e\\tO|\\xc0\\xcaS\\x8b\\xd8\\x03V\\x9e\\xf5N\\xc5\\xa5\\x87\\x16\\xb1\\x07U-K\\x88=\\xb4\\xc0\\'\\xdc\\x92\\xb8\\xb6\\x84=\\x90s#gJ\\x19\\xabf)\\x83=\\xb4\\x8e=D\\xde\\xf2\\xd4\\xcaV}\\x1c\\xe6\\x8f-b\\x0f\\xc1\\xdc\\xc50!\\xf7\\xd0\\xd6\\x0f\\x85\\t\\xb9\\x07Um\\x94\\x87\\xdcCK\\xdc\\x03\\x89g\\xadkS&\\xc1\\x00\"\\xda\\xda\"\\xf6\\xd0\"\\xf6\\xd0\"\\xf6\\x80\\xad\\x9a[\\xc4\\x1eZ\\xc4\\x1e\\xb0\\xcd\\x8bV\\xb60\\x11\\xf6@\\xe2\\xda\\x12\\xf6@\\xce\\x8d\\xc4\\x942\\xaa\\x86)\\x83=\\xb4\\x8e=\\xb4\\x11{h\\x05{\\x88\\xb7zl\\x11{h\\x11{\\x10\\xd5;\\xa6\\xfd\\x1e\\xf4\\xd1\\x8b6[\\xc4\\x1eT\\x8dQB\\xeaA\\xaelQ\"\\xea\\xa1%\\xbe\\xe0Fo\\xa5\\x0f\\xf2\\x10{h\\t0\\x98Z\\xc4\\x1e\\xd0;\\x8b\\xeaYB\\xec\\x01\\xdb\\xbc\\x88\\xea\\x83<\\xc2\\x1eH\\\\[\\xc2\\x1eH\\xdcHL)sQ\\xcdR\\x06{h\\x1d{\\x88\\xd3\\x9aS+lB\\x9cB\\x8e-b\\x0f-b\\x0f\\xa2\\xdaQD\\xad\\xbcp\\xe2(K\\xfa\\xe6\\x08[~h)L\\x88=\\xe8\\xa5c\\x98@<\\xb7\\x88=\\xa8j\\x83<<\\xf2\\x01\\xd5IU\\xcb\\x12\\xc1\\t\\xb3\\xaa6aB\\xecAU[\\xca\\x13\\xf4\\xa4\\x89Y\"\\xec\\x81\\xc4\\xb5%\\xec\\x81\\x9c\\x1b9S\\xca\\xa8\\x9a\\xa5\\x0c\\xf6\\xd0:\\xf6\\x10q\\xedS+\\xd8C\\xfcE\\xc6\\xd8\"\\xf6\\xd0\"\\xf6\\xa0\\xa5\\xed\\x07L\\xadl`\\x1f\\x9c\\xdd\\xda\"\\xf8\\x10\\x1an\\xa3<$\\x1f\\xe4\\xdaq\\x8fID\\x9b2!\\xf9\\xa0\\xb7\\xcb\\x16\\xc6\\xe9\\xbd\\x11\\x17\\xac<ie[\\xcb#>aV\\xaf\\xf5LH>`\\xab\\x96\\x16\\xc9\\x87\\x96\\xc8\\x07\\x12\\xd7\\x96\\xc8\\x07rn\\xe4L)\\xa3j\\x9a2\\xe4C\\xeb\\xe4C\\x9c~\\x9eZ!\\x1f\"H>\\x8a\\xec\\xa3<<\\xf3!\\x94\\x8e\\xe8C\\xfb\\x10\\xfa ~\\xdfeB\\xf4\\xa1E\\xf4\\xa1%\\xf4AD\\x0b\\x13\\xa1\\x007-\\xa2\\x0f-\\xa2\\x0f-\\xe1\\x0b\\x93\\xaa\\xd65!\\xfa\\xd0\"\\xfa\\xd0\"\\xfa\\x80\\x7f\\xef\\xa2\\x7f\\xafM\\x99\\xe8e\\x17$\\xae-\\xa1\\x0f\\xe4\\xdcHL)\\xa3j\\x982\\xe8C\\xeb\\xe8C\\xdc\\xa2>\\xb5\\x82>\\xc4\\x15\\xe6\\xb1E\\xf4!\\x98\\x9b\\x98&9O\\xc0\\xc6y\\x82 \\x1c\\x8d\\xf3\\x10~h\\t~h\\x11~h\\x81o\\xb8n\\x81\\x8c8\\xb7\\x08?\\xb4\\x08?\\xa0\\xf7\\x82\\xea\\xd4\"\\xfc\\xd0\\x1281\\xabj\\xc3<<\\xf3\\x01[\\xb5\\x88\\xeaS&\\x00\\x11n[\\x82\\x1f\\xc8yG\\xce\\x8d\\xc4\\x942u%K]\\x06~\\xe8\\x1c~h#\\xfc\\xd0\\t\\xfc\\x10\\x89\\xbd\\xb1C\\xf8AT\\xdbd\\x12\\xd5\\x96\\xf2\\xba\\x87\\xce|\\x10\\xbbEIT\\xeb\\x97:\\xa4\\x1f\\xe4\\xd21K\"\\x06\\xe7Y\\xeb\\xc6~I\\xef\\xa5\\xad?t\\x04)\\\\\\xb0\\xf4\\xa4\\xcf!\\x8e\\xf2\\xd0;\\xebS\\x8a\\x1dS\\x87\\xf8\\x03V^:\\xc4\\x1f:\\xc2\\x1fH\\\\;\\xc2\\x1f\\xc8\\xb9\\x913\\xa5\\x8c\\xaaa\\xca\\xe0\\x0f\\x9d\\xe3\\x0fq;\\xe6\\xd4\\td\\x10\\x91\\xbdQd\\x0fS\\x81a\\xda\\xab\\xb6\\x96\\xd7\\xed\\x9bu\\xb4\\x96\\'v\\x0f\\x13\\xd2\\x0f\\xaaZ\\x98\\xe0T\\x87k\\x12\\xcfZ7vLz\\xb3\\xe2 \\xaf#\\x92\\xe0\\x82\\x95\\'Uc\\xc7\\x84\\x95g}H\\x96%<\\xf2A\\xd5\\xb8\\xfe\\xa0\\x7fo\\x9c1\\xc9\\x8d\\xb4,\\xd1\\x91\\x0f\"Z\\x96\\x88~ gJ\\x19\\xabf)C?tN?t\\x91~\\xe8d\\xc7>B{c\\x87\\xf4\\x83\\xa86cRo\\x9c0u\\xb2\\x89}\\xb0\\xc7\\xa4-\\xbb*c\\x98\\x10\\x7f\\xe8\\x10\\x7f\\xe8\\x08\\x7f\\x101\\xce\\x98:\\xc4\\x1fD\\xb5M&\\xf4^:\\xa4\\x1f:\\xa4\\x1f\\xb0\\xf2\\xac\\xad\\xb20!\\xfd\\xa0\\xaa\\x85I\\x9e\\xb0uLt\\xe8CG\\xf4\\x039\\xef\\xc8\\xb9\\x91\\x98R\\xa6\\xae\\x86)C?tN?t\\x91~\\xe8\\x84~\\x88\\xd8\\xde\\xd8!\\xfd\\xd0!\\xfd \\xaaM\\x98:\\xa1\\x0c\\x0eV\\x1f:\\xa4\\x1f\\xb4\\xddWm\\x0c\\x13\\xe2\\x0f\\x1d\\xe1\\x0f$\\x9e;\\xc4\\x1f\\xf4nY\\xcfD\\xde\\x0b\\xaaS\\x87\\xf8\\x03z\\xe7\\x0e\\xf1\\x07}Jq\\xca\\x84\\x95\\x17Qm\\xca\\xd4\\x11\\xfe@\\xe2\\xda\\x11\\xfe@\\xce\\x8d\\x9c)eT\\rS\\x06\\x7f\\xe8\\x1c\\x7f\\x88\\xbf\\x9d;uB0Dlo\\xec\\x10\\x7f\\x10\\xd5\\xc3\\x84\\xf4C\\xf7\\x10\\xfd\\xa0\\xf6&\\x86I\\x1a\\x16\\x7f\\xa8\\xde!\\xfd\\xd0\\x11\\xfd@\\xe2\\xb9#\\x1a\\xe0\\xa6C\\xfa\\x01\\xbd\\x97\\x0e\\xe9\\x87\\x0e\\xe9\\x07\\xf4\\xce\\xda*\\xcb\\x12\\xbe\\xf0\\x02+/\\xfa\\x0cl\\x94\\x07\\x0c\\xc3mG\\xf4\\x039\\xef\\xc8\\xb9\\x913\\xa5\\x8c\\xaaY\\xca\\xd0\\x0f\\x9d\\xd3\\x0f]\\xa4\\x1f:\\xd9\\xb2\\x8f\\xd4\\xde(\\xb2g\\t\\xe9\\x87P\\xda\\xc2\\xf4\\x10\\xfe\\x10\\xfcUL\\xd3^\\xf6a\\x1e\\x02\\x10\\x1d0\\x0e\\xd7\\x1d\\xd0\\x11\\xe7\\x0e\\x01\\x08U\\xe3b\\x9e\\xaaqa\\x1c+O\\xfa l\\xfd\\x81*\\xcf\\x1d\\xf2\\x0f\\x1d\\xf2\\x0f\\xd8\\xaaE+[\\x9a\\x88\\x7f q\\xed\\x88\\x7f \\xe7FbJ\\x19U\\xd3\\x94\\xe1\\x1f:\\xe7\\x1f\\xba\\xc8?tB\\x19\\xc45\\x84\\xb1C\\xfe!\\x98\\xe3\\xc2\\xb8\\xc8q:\\xf6M\\'\\x1b\\xd9WGq\\xc2\\x83\\x1f:\\x02 D\\x8c\\xfd\\xed_:\\x02 H<w\\x08@\\xe8\\xdd\\xb2a\\x1e\\x02\\x10\\x1dA\\x0cS\\x87\\x00\\x04zgm\\x95\\x85I\\x1e\\x92uM\\xd4\\xe6\\xa5C\\x00\\xa2#\\x00\\x82\\xc4\\xb5#\\x00\\x82\\x9c\\x1b9S\\xca\\xa8\\x1a\\xa6\\x0c\\x00\\xd19\\x00\\x11\\xff\\xe2S\\'\\x1cA\\x1c\\x05\\x8c\\x1d\\x02\\x10\\x1d\\x02\\x10\\xa2z\\x96\\x84A8\\x8a\\x12\\xf2\\x0f\\xaa\\xc6(u\\x18%:\\xf7\\x81\\xc4s\\x87\\xf4\\x83^\\xd5Fy\\xe4\\xbd\\xa0:\\xa9jQ\"\\xaeb\\xd6V\\xd9(\\xaf\\xc3(!\\xfd \\xaa\\xcf\\x98\\x88~ q\\xed\\x88~ \\xe7F\\xce\\x942\\xaaF)C?tN?t\\x91~\\xe8\\x04Q\\x88\\xfb\\xb9\\xa3\\xc8\\x1e%\\xa4\\x1f:\\xa6\\x1f:\\xd9\\x8a>\\xca\\x926\\xad\\x8fa\\x92\\xa6\\xd9\\x9c\\t\\xf1\\x07\\xb9\\xb6\\x8d\\xf2\\xe8\\xe4\\x87\\x0e\\xf1\\x07Q=M\\xe4\\xbdt\\x88?t\\x88?\\xa0w\\xee\\x10\\x7f\\x10\\xd5\\xd3D\\x95\\x97\\x0e\\xf1\\x87\\x0e \\x86\\xdb\\x8e\\xf0\\x07r\\xde\\x91s#gJ\\x19U\\xd3\\x94\\xc1\\x1f:\\xc7\\x1f\\xba\\x88?tB0\\xc4M\\xa8\\xb1C\\xfcATO\\x13\\xd2\\x0f\\xdd~/\\xba:\\n\\x93\\x1c\\x1ca\\xeb\\x0fD?tH?t\\x008\\\\\\x93x\\xee\\x90~\\xd0[\\xe9;\\xb6\\xf4\\xfa\\x88KG\\x08\\xc3\\xd4!\\xfe\\x80\\xcd\\x9aE\\xf5,\\xe1\\xd9\\x0f\\xd8\\xaaE\\xbf\\x1c6c\\xa2\\xb3\\x1fH\\\\;\\xc2\\x1f\\xc8\\xb9\\x913\\xa5\\x8c*Y\\xea3\\xf8C\\xef\\xf8C\\x04\\x05N\\xbdl\\xd9\\xc7M\\xa8\\xb1G\\xfcA\\xcd\\xf6S&\\x91\\xed\\xf0\\x87^\\xb6\\xb1\\x0f\\xde\\xaa\\xde#\\xff\\xd0#\\xff\\xd0#\\xff\\xd0\\x13\\xff@\\xe2\\xb9\\'\\x84\\xe1\\xa6g\\xfe\\x01\\xcd\\x17T\\xa7\\x1e\\xf9\\x87\\x1e\\xf9\\x87\\x1e\\xf9\\x87\\x1e\\xf9\\x07l\\xd5\\xa2\\x95\\xe3I*=\\xf1\\x0f$\\xae=\\xf1\\x0f\\xe4\\xdc\\xc8\\x99RF\\xd54e\\xf8\\x87\\xde\\xf9\\x87.\\xf2\\x0f\\xbd\\xf0\\x0fq\\x17j\\x14\\xd9(WUc\\xcf$\\xaa\\xf1\\x0f\\xbd\\xf0\\x0f\\x07+\\xe3b\\x8f\\xfb_OD\\x8d=\\x93\\x8a\\x96%\\xc2\\x1fD\\x8c=\\x93\\xd6\\xb5,\\xe1\\xe1\\x0f\\xe8\\xbd\\xa8\\x1a;&Uc\\xc7\\xa4\\xaaE\\t\\xf1\\x07\\xbd\\xc9q\\x90\\x87m^D\\xb5\\x8eIn\\xa4E\\x89\\x0e\\x7f \\xf1\\x8e\\xc4\\x8d\\xc4\\x942-\\xd2(e\\xf0\\x87\\xde\\xf1\\x87x^\\xc9\\xa9\\x17\\xc8 \\xeeA\\x8d=\\xe2\\x0f=\\xe2\\x0f\\xa2\\xda\\xeaC\\xbf\\xdf\\x8a\\xee\\x0e\\x06y\\xda2\\x9b1\\x89lY\\x92\\x1d\\xff\\xb8\\xfc\\xd0\\x13\\xfd@\\xe2\\xb9G\\xfaAU\\xcb\\x12\\xd2\\x0f=\\xd2\\x0f=\\xd2\\x0fXy\\xee\\x91~\\xe8\\x91~\\xc0\\xca\\x8b\\xa8\\xb6\\x92\\xd7\\x03\\x89pK\\xe2\\xda\\x13\\xfd@\\xce\\x8d\\x9c)eT\\xcdR\\x86~\\xe8\\x9d~\\xe8#\\xfd\\xd0\\x0bE\\x10\\xf7\\xa0\\xc6\\x1e\\xe9\\x87\\x1e\\xe9\\x07Q\\xbd[\\x92M\\xec\\xa3,U\\x9c\\xa5\\xbd\\xec\\x83<\\xa4\\x1fz\\xa2\\x1fD\\x8c(Q\\x8f\\xf4\\x83\\xaa\\x16&\\xa4\\x1fP\\x9dz\\xa4\\x1fT\\x8d{L\\xfa\\x0c\\xe3\\xb2\\xb8z-Lx\\xf8\\x83V\\x8e\\xab\\x0f=\\xd1\\x0f$\\xae=\\xd1\\x0f$nT6\\xa5\\x8cU\\xc3\\x94\\xa1\\x1fz\\xa7\\x1f\\xe2w\\xfa\\xd4\\x0b\\xfd\\x10\\xb7\\xa0\\xc6\\x1e\\xe9\\x075\\xfb\\x8cI\\xdf\\xa7aq\\xdaoF\\x97\\x07o6\\x13\\xbfO\\x99\\xf0\\xad\\x17=\\xf2\\x0f=\\xf1\\x0f\"\\xda0\\x0fO\\x7f\\xe8\\x91\\x7f@\\xef\\xa5G\\xfe\\xa1G\\xfe\\x01\\xbd\\xb3\\xaa\\xf1\\xe7\\x17\\xaaZ\\x9a\\xf0\\xf4\\x87\\x1e\\xf9\\x87\\x1e@\\x85[\\x12\\xd7\\x9e\\xf8\\x07rn\\xe4L)c\\xd54e\\xf8\\x87\\xde\\xf9\\x87>\\xf2\\x0f\\xbd@\\x06\\xb1\\xaf\\x1e{\\xe4\\x1fz\\xe4\\x1fT\\xb5\\xe5\\x87\\x87\\xf0\\x07\\xbdt\\xfcY`\\x8f\\xf4C\\x8f\\xf4C\\x0f\\x80\\xc35\\x89g\\xadk=\\x13\\xd2\\x0f\\xe8\\xbd\\xa0:\\xa9jY\\xc2\\xd3\\x1fT\\xb5,\\xc9}\\xb4)\\x13\\xbe\\xf4BT\\xdbe\\xea\\x89~ q\\xed\\x89~ \\xe7F\\xce\\x942\\xaaf)C?\\xf4N?\\xf4\\x91~\\xe8\\x05`\\x88\\x9bP\\xa3\\xc8\\xbe\\xfa\\x80\\xa7?\\x88\\xea\\xc3\\xbc\\xfdN\\xf4\\xe1\\xea\\x83\\xb6\\xac\\x8ba\\x92\\x9dw\\x1b\\xe6\\xe1\\xf1\\x0fr\\xed\\xb82.\\xa2\\r\\xf3\\x90~\\xd0&\\xfbZ\\x1e\\x9d\\xa5p\\xc1\\xd2S\\x8f\\xf8\\x03V\\x9e{\\xc4\\x1f\\xd4k=\\x13\\xe2\\x0f=\\xe2\\x0f=\\xe1\\x0f$\\xae=\\xe1\\x0f\\xe4\\xdcHL)SW\\xd3\\x94\\xc1\\x1fz\\xc7\\x1f\\xe2n\\xcd\\xa9\\x17\\xfc!~+\\xc7\\x1e\\xf1\\x87\\x1e\\xf1\\x07Qm\\x97\\xa9\\x97S\\x16\\x8ez&m\\x99-\\xe6\\x11\\xff\\xa0\\xa2\\x85\\x89\\xf8\\x07\\x11m\\x94\\x87\\xfc\\x83\\xb6\\xd8\\xc3\\x84\\x00\\x04\\xaaS\\x8f\\x00\\x04z\\xe7\\x1e\\x01\\x08\\xf5Z\\x98\\x10\\x80\\x10\\xd5\\xc3D\\x00\\x04\\x89kO\\x00\\x0497r\\xa6\\x94\\xb1j\\x982\\x00D\\xef\\x00D\\x1f\\x01\\x88^(\\x83\\xb8\\xd87\\x8a\\xec]\\x13\\x02\\x10\\xa2z\\x98\\xe4\\x94\\x85\\xee L\\xf8\\xe2\\x0bQ\\xbdgB\\xfcA.ma\\x02\\xf1\\xdc\\x13\\x0ep\\xd3#\\xfe\\x80\\xde\\x0b\\xaaS\\x8f\\xf8\\x03z\\xe7\\x1e\\xf1\\x07\\xf5Z\\x96\\x10\\x7f\\xd0g`Y\\xa2\\xd3\\x1fH\\\\{\\xc2\\x1f\\xc8\\xb9\\x913\\xa5\\x8cU\\xb3\\x94\\xc1\\x1fz\\xc7\\x1f\\xfa\\x88?\\xf4\\xb2g\\x1f\\x17\\xfbF\\x91=K\\x88?\\x88\\xea+\\xe3r\\x04\\xc3Q\\xc7$-\\xf3\\x8e\\x89\\xf8\\x07\\x11}e\\x9cN\\x7f \\xf1\\xdc#\\xff\\xd03\\xff\\x80\\xe6KOt\\xc4\\xd4#\\xff\\x80\\xdeYU\\x9b3!\\xff\\x80m^D\\xf50\\x11\\xff@\\xe2\\xda\\x13\\xff@\\xce\\x8d\\xc4\\x942\\xaa\\x84i\\xc8\\xf0\\x0f\\x83\\xf3\\x0f}\\xe4\\x1f\\x06\\xd9\\xb2\\x8f3\\x9bQd\\x0b\\x93\\xaa1L\\xa2\\xdao\\x99\\x06\\xd9\\xc5>\\x983\\r\\x88?\\x0c\\x88?\\x0c\\x88?\\xc8\\xa5\\xe3\\x94I\\xc48e\\x1a\\x10\\x7f\\x18\\x18\\x7f\\x18\\x08R\\xb8\\xa0:\\xa9\\x1a\\xc3\\x84\\xcd\\x9aE\\xb5)\\xd3\\x80\\xf8\\x03V^\\xf4\\t\\xc7\\x05\\x88\\x81\\xf0\\x07\\x12\\xd7\\x81\\xf0\\x07rn\\xe4L)\\xa3j\\x982\\xf8\\xc3\\xe0\\xf8C\\x1f\\xf1\\x87A\\xf0\\x87\\xb8\\xd67\\x8a\\xecaB\\xfcAT\\x0f\\xd3C\\xc7?\\x88\\xdd\\xf0\\x07U\\xe3b\\x9e\\xa8\\x1e&\\xb9t\\x0c\\x13\\x1d\\xff0\\x10\\x0fp#\\xaa\\xfd\\xfaB\\xbdq\\xf9\\x01+O\\xaaZ\\x96\\xf0\\xe5\\x17\\xda*\\xcb\\x12\\x1e\\xff\\x80\\x95\\x17\\xad\\x1c\\x17\\xc6\\xe5FZ\\x96\\xe8\\xf8\\x07\\x11-Kt\\xfc\\x039S\\xca\\xa8\\x9a\\xa5\\x0c\\xff08\\xff0D\\xfea\\x10\\xca \\xae\\xf5\\x8d\"{\\x96\\xf0\\xe5\\x17\\xaa61K\\x0f\\x1d\\xff v\\xcf\\x12\\xe1\\x0f*Z\\x94\\x08\\x7f \\xf1< \\xfe0 \\xfe0\\x10\\xe0pAu\\x1a\\x10\\x7f\\xc0V\\xcd\\xaa\\xc61\\xde\\x80\\xf8\\x03\\xb6j\\x11\\xd5\\xa3D\\xf8\\x03\\x89\\xeb@\\xf8\\x0397r\\xa6\\x94\\xb1j\\x942\\xf8\\xc3\\xe0\\xf8\\xc3\\x10\\xf1\\x87A \\x83\\xb8\\xd07\\x8a\\xecQB\\xfcAT\\x8f\\x92lT\\x1f,>\\x88\\xdd\\xc7xH?\\x0cH?\\xc8\\xa5m\\x8cGg?\\x0cH?\\x0cH?\\xa0\\xf72\\x10g0\\x89j\\x84+V\\x9e\\xf51\\xc4\\xc5\\x07Qm\\x8f\\t[\\xb5h\\xab,KD?\\x90\\xb8\\x0eD?\\x90s#gJ\\x19U\\xb3\\x94\\xa1\\x1f\\x06\\xa7\\x1f\\xe2H\\xeb4\\x08\\xa1\\x10\\xd7\\xf9\\xc6\\x01\\xe9\\x07Q=K{\\xd5\\xf6\\x98\\x06\\xd9\\x88>8HE\\xec\\xde-\\xc9\\xae|\\x8c\\x12\\xa2\\x0fr\\xe5\\xf8z\\xb3\\x01\\xb8\\x88\\xf3@\\x90\\xc1\\x8d\\xde+\\x1b\\xe1\\x91\\xf7\\x82\\xea4 \\xfa0\\x10\\xa00\\x0f\\x88>\\x0c\\x88>`\\xab\\x16Q}\\xb6D\\xe8\\x03\\x89\\xeb@\\xe8\\x0397r\\xa6\\x94Q5J\\x19\\xf4ap\\xf4a\\x88\\xe8\\xc3 \\xe8C\\\\\\xe6\\x1b\\x07D\\x1f\\x06D\\x1fD\\xf5(\\xed\\xf7\\xa1\\xfb\\xa3\\xd9\\x92B\\x19\\x96%z\\xf3\\xc5\\x80\\xe8\\xc3@\\xe8\\x03\\x89\\xe7\\x01\\xd1\\x87\\x01\\xd1\\x07\\xf4^T\\xb5n\\t\\xd1\\x07\\xf4\\xce\\xa2z\\xb7\\x84\\x07?`\\x9b\\x17Qm\\x19o \\xf4\\x81\\xc4u \\xf4\\x81\\x9c\\x1b9S\\xcaX5K\\x19\\xf4ap\\xf4a\\x88\\xe8\\xc3 \\xbb\\xf5q\\x95o\\x14\\xd9\\xb3\\x84\\xe8\\x83\\xa8\\xbe\\xf2`\\xe7>\\xc4,\\xb5\\x9c%9\\xb0\\xc0\\x96\\x1e\\x10}\\x90k[\\x98\\xe8\\xe0\\x87\\x01\\xd1\\x07\\xbd[\\xd61\\xd1\\xf1\\x0c\\x17\\xac<\\rH>\\xa0w\\x1e\\x90|\\xd0\\xfbhc<j\\xf3\\xa2\\x95m\\x8c\\x07\\xfc\\xc2\\xed@\\xe4\\x039\\xef\\xc8\\xb9\\x913\\xa5\\x8c\\xaaa\\xca\\x90\\x0f\\x83\\x93\\x0f\\xf1\\x9c\\xac\\xd3 \\xbb\\xf5q\\x95o\\x1c\\x90|\\x18\\x90|\\x10\\xd5\\xc3\\xb4\\xdf\\x85>\\\\\\xc6\\xc3\\x83\\x1fD\\xf5,!\\xf90\\x10\\xf9@\\xe2y@\\xf2Ao\\x96e\\t\\xc1\\x07U\\xadcB\\xf0\\x01+\\xcf\\xda*\\xcb\\x12\\x82\\x0fXy\\x19\\x10|\\x18\\x08| q\\x1d\\x08| \\xe7F\\xce\\x942V\\xcdR\\x06|\\x18\\x1c|\\x88\\xc3\\xda\\xd3 \\xe0C\\\\\\xe5\\x1bE\\xf6,!\\xf8 \\xaa\\x0f\\xf2\\xfa\\x87\\xb2\\xa4-+b\\x98z\\x0c\\x13\\x92\\x0f\\x03\\x91\\x0f$\\x9e\\xb5n<\\xf8a@\\xf2\\x01\\xbd\\x97\\x01\\xc9\\x87\\x01\\xc9\\x07\\xf4\\xce\\x03\\x92\\x0f\\x03\\x92\\x0f\\xd8\\xe6E\\xbf\\x1d\\xd61\\x11\\xf9@\\xe2:\\x10\\xf9@\\xce\\x8d\\xc4\\x942u5L\\x19\\xf2ap\\xf2a\\x88\\xe4\\xc3 \\xbb\\xf5\\xb1\\xfb\\x18\\x07$\\x1f\\x06$\\x1f\\x06$\\x1f\\x069a\\xe1hM\\x1c_{\\xa1j<^|@\\xf2a \\xf2\\x81\\xc4\\xf3\\x80\\xe4\\x83\\xaa6c\\xc2\\x83\\x1f\\xb0\\xf24 \\xf8\\x80\\xdeYT\\xef\\x98\\xf0\\xbd\\x17Xy\\x19\\x10|\\x18\\x08| q\\x1d\\x08| \\xe7FbJ\\x19U\\xb2\\xf4v\\xbeq\\x1c\\xa6\\x0fBHSD\\x1f\\xde\\x7fh\\x17\\xa7\\xb8]\\xab\\xba\\xe5Ie\\xdbdR\\xd9\\xb8\\xbcO\\xf2\\xc7H\\x1d\\xbc\\xe4,4\\xcf~\\x1b\\x18.\\x10{(\\x95\\xad\\x8b\\xd2\\xeb\\xc7\\\\\\xa1z\\x0e\\xa5c\\xb2T\\xb61_p\\xc7l\\x059\\xfex=\\xc81]\\xec\\x9e\\xc33\\x8b}Up\\xc7\\xce\\x8a\\xff\\xeeEe[\\xe0\\xd3{\\x1a3\\x86\\xea\\xaajL\\x19z7TS\\xca\\xc9!h\\x19*\\xe2\\x83\\x10\\x82\\x16\\xb1\\x88\\xf7\\x1f\\xda\\x05-\\xee\\xe5\\xaan\\xa3@\\x95\\xad\\xe7R\\xd9\\xe6T\\x9f\\xe4\\x8f\\x7f\\xdfa\\xd0\\xf4\\xd4\\x8a\\xb8D\\xa1\\xba\\xedC\\xa9|\\x104: \\x02\\xd5s(\\xedA\\xc33\"\\x82\\xecACJ\"\\xc8\\x1e4\\xe4$\\x82\\x1c\\x97\\xd1\\x83\\xecA\\xa3\\x96/\\xe1\\xfb\\x12\\xc7\\x85\\xe1\\x89[\\xd0\\x88\\x96P\\xd5\\x83F\\xe7E\\xa0\\x9aR\\xee\\xc2!h\\x19d\\xe2\\x83\\xa0A+\\xe2W\\xf9\\xf4\\xfeS\\xbb\\xa4\\xc5\\xad^\\xd5\\x0f\\x92\\x86\\xe7F\\x04w<j\\xef\\x93\\xfc\\t\\xe88\\x08\\x9al\\xdb\\xc7Q\\xa2\\xca\\x07\\x1d\\x1a\\xc2\\x13z\\xf5\\xb8\\xe3\\x8b\\xea9\\x94\\xf6\\x9c\\xc9\\xdf\\xed\\x1d\\x1a\\xbd\\x8a\\xe2\\xc2\\xf2\\x14d\\xcf\\x19B\\x14*\\x1fth\\x88Q\\x04\\xd9s\\x86o\\xd1\\xd0{\\x1aW\\x06U\\xf5\\x9c\\x11K\\x81\\xde\\r\\xd5\\x94rr\\xc8Y\\x86\\xa7\\xf8 \\xc4\\x9cE\\xa2\\xe2\\xfd\\xa7v9\\x8b\\xdb\\xc0\\xaa\\x1f\\xe4L_\\xc7\\x11\\x8fZ\\x8e\\xe5;K\\xda~\\x97\\xfbhqC+\\x1cDM\\x80\\x81\\xc1\\xa2\\x86l\\x85^\\xde\\xa3\\x06\\xea9\\x94\\x8e?\\x87\\x0f\\x7f\\xb91\\xb4\\xc1\\x1eW\\x0c\\x83\\x1c\\x97\\x0c\\xc3c\\x89\\x8c\\x05\\xbb\\xe7 {\\x9f\\x86\\x87Lp\\xf1%4\\xcd\\xfb4\"-T\\x8d\\' \\xa1z\\x87\\x957\\xf4\\xa6\\x943\\x87\\xacex\\x8b\\x0fB\\xccZ$.\\xde\\x7fj\\x17\\x86\\xb8\\xb7\\xa5\\xfa\\xc14MNX\\xf0i\\x9aV\\x8f?\\x93\\xff\\xa4\\xff\\xb1YlI\\x13l#\\x9ey\\xa9\\xf2\\xc1\\xe0\\x11\\xd1\\x0b\\xbd\\xba\\'\\r\\xc8\\x8cs(\\x1d\\xd7\\x12\\xc3\\x1f~\\x904\\x040\\x82\\xec\\xbdZ\\xcdIC\\x06C\\xe581\\xff>\\xb8=ix\\x02E\\xf8B\\xc4C\\xfb\\xf4\\xa6z\\xafF$\\x06z\\xef\\xd0\\xbb\\xa17\\xa5\\x9c\\x1c\\x92\\x96\\xc11>\\x081i\\x11\\xc8x\\xff\\xa9?\\x92\\x14\\xbf\\xea\\xa3\\xea\\x07\\xbd\\x1a2\\x19*\\x1b+\\xf8I\\xfe\\xd8\\xb8\\xfa(i\\xda\\xbc\\xb8b\\xaf\\xfa\\xc1\\xf8\\x11\\xc9\\x0c\\xbd\\xbe\\xcf\\xd3\\xe0\\x8d\\x1d\\xe7P\\xda\\xa3\\xd6<\\x105\\xb2_\\x82\\xec\\x135$4\\xb8\\xf8\\x1cd\\xef\\xd4\\x10\\xd2\\xe0\\xa6-\\xe1\\x0b\\xe3\\x03H\\xe24P]U\\xf5\\xa8\\x11\\xaa\\x81\\xde\\x94r\\xe6\\x10\\xb5\\x0c\\xad\\xf1A\\x88Q\\x8b\\xbc\\xc6\\xfbO\\xed\\xbe\\xcbq)_\\xf5\\x83\\xa8!\\xb2\\x11\\xdc>Q\\x93\\xbd\\xf7j\\x18\\x86\\xcf\\xfb\\xb8$\\xfc\\xad\\x169\\x18B\\xca5\\xe2\\xc9\\xe8\\xc1\\xedi#v\\x03\\xd5s(\\xed\\xb35y[H\\xdc%c\\xf7%\\xc8>\\x82\\x94\\xbf\\xda\\xfb5D8\\x82;.\\xef\\x07\\xb7\\x87\\x8dN\\xc6XBq\\x0f\\x1bq\\x1c\\xe1+aa#\\x92\\x03\\xd5\\r+\\xa7\\x94\\x93C\\xd824\\xc7\\x07!\\x86-\\xf2\\x1c\\xef?\\xb5\\x0b\\x9b/\\xf4#\\xd1\\x11\\xec\\x1e\\xb6\\xbdl\\xfb\\xd0\\x9f\\xe4\\x8f\\x8dk\\x8f\\xfa5)\\xe0#H\\x01\\x0e\\xe2\\xeeY\\x90=hpj\\xc55\\xaa\\xe7P\\xda\\x83\\x86lGp{\\xaf\\x86\\xc7Z\\x84\\xe2\\x1e4|\\xb3Gp{\\xd0\\x90\\xf0\\xe0\\xe2K(\\xeeS5\\x82<P]U\\xf5\\xa0\\x11\\xe7\\x81\\xde\\x94r\\xe6\\x10\\xb4\\x0c\\xea\\xf1A\\x88A\\x8b\\xb0\\xc7\\xfbO\\xfd1\\xd0\\x89\\x0fuT\\xfd h\\xc8{\\xa8|\\xb0\\xd0\\xbf\\xdf}?\\\\~\\x94\\xf2\\xb1O~\\xa2z\\xe4z\\x83\\xea9\\xa3\\x97}\\xa0z\\x0e\\xa5=g=\\xe7L\\xdc\\xbe\\xfcH\\x88\\xc5\\x14d\\x1f=\"\\xfa\\x11d\\x1f=\"\\xfc\\xc1M[T>\\x98\\xa8\\xd1\\x8b?T\\xf5\\x9c\\x11\\x01\\x82\\xde\\r\\xd5\\x94r\\xa5C\\xce2\\x14\\xc8\\x07!\\xe6,r \\xef?\\xb5\\xfb&\\xfb2?\\xbe\\x02$\\xd8=g\\xf8\\x12\\x90O\\xf2\\xc7U\\x87\\xc3\\r5\\xa4AB\\xeb|\\xe4\\xa8gRx\\xd2\\xe8] \\xaa\\xfa\\xd0\\x11\\x99\\x90\\xd02O\\x1a\\xbdZ\\xe3\\xc2\\xf2\\x14dO\\x1a\\x82!*\\x1f,\\xf4\\xe3\\x99\\x18A\\xf6\\xa4\\xe1[A\\xf4\\x9ez\\x8fFx\\x88\\xaa\\x9e4\\x02D\\xd0\\x9bRN\\xfe\\x90\\xb4\\xc7\\xaf\\x7f\\xbe\\xbf\\x7f\\xf3\\xf5\\xd37O\\xbf\\xfa\\xe2\\xd7\\xa7?\\xdd\\xdf<}\\xf5\\xd3\\xb3_^\\x7f\\xf6\\xcf\\x97o\\xde\\xbc|\\xf1>a?\\xbe|\\xf9\\xe6\\xfem\\xa9\\xab\\xcf\\xdfN\\xf8~\\xbe\\x7f\\xfa\\xc3\\xef\\xff\\xf0\\xfc\\xfe\\xc77\\xef\\xfe\\xe7\\xbb\\xf75\\xbez\\xf6\\xd3\\xcf\\xbf\\xff\\xc3\\x9b\\x97\\xbf\\xbe\\xb3>~[\\xff\\xb7\\x97\\xaf\\xfe\\xfd\\xfe\\x1a_\\xfd?PK\\x03\\x04\\x14\\x00\\x00\\x00\\x08\\x00\\xc1\\x9b\\xa7P\\xa8]\\x0e\\x11}\\x06\\x00\\x00u\\x16\\x00\\x00\\x14\\x00\\x00\\x00xl/sharedStrings.xml\\x8dW\\xdbR\\xdbH\\x10\\xfd\\x95)\\x1e\\xf6\\x8d\\x18HH\\xd5\\xee\\x12\\xaa\\x04.pp\\xec\\x10\\x04\\xce\\xf2\\xe4j[ck\\x904\\xa3\\xcc\\xc5\\x8e\\xf7\\xeb\\xb7G&U\\xbb:\\xe3-\\xde\\xec\\xb9h\\xfar\\xfa\\xf4\\xe9\\x0b\\xe7\\xbc\\xf8\\xd9\\xd4\\xda}:*\\xbdo\\xff\\x18\\x0c\\xdc\\xb2\\x94\\r\\xb9w\\xa6\\x95\\x9awV\\xc66\\xe4\\xf9\\xaf]\\x0f\\\\k%\\x15\\xae\\x94\\xd27\\xf5\\xe0\\xec\\xe4\\xe4\\xe3\\xa0!\\xa5\\x8fD\\xd0\\xeaG\\x90\\xd7&h\\xff\\xe9\\xe8\\xec\\xe4\\xe3\\xd1\\xe5\\x85S\\x97\\x17\\xferJ\\x8d\\xbc\\x18\\xf8\\xcb\\x8bA\\xfc\\xbf_\\xbb\\x95\\xba\\x90\\xb6\\xbf\\x9a\\xad\\xe1\\xe0\\x95%]\\xf4\\x17\\xaf\\x8d\\xf3\\xfd\\xb5\\xfb\\x9a\\x96p\\xfbA\\x923\\xba\\xbf\\xfa5\\xef\\xaf\\xe4\\xe4\\x95[\\xd1\\xd2+\\xa3\\xf4\\x1c\\xf7;+\\xe6\\xaai\\x8d\\xf5\\xa4\\xf1\\x9d\\xd7}\\xbd\\xaa\\x83Ll\\xdf\\x97F\\xcbyh\\xd7\\x96\\n~\\t-z\\xea\\xb6\\xe6\\x8e#5_\\xa4<~\\xb4\\xbb\\xf9Tn\\x13\\xa6}\\x0bT+\\xbf\\x9bo\\xdc\\xfc\\xde*|;W\\x8d\\xaa\\xc9\\xce\\xdb\\xce\\x06\\xe3Ki\\xd3OL\\xccB\\xd5r\\xae\\xa5\\xdf\\x1a[\\xcd\\x97%\\xd9\\xb5t\\xfdS3%\\xb7\\x90\\xb6\\xb6\\xad\\xd5\\xb2s\\xcc\\xcd[\\xda\\xd1\\xa2\\x063>\\xeb\\xa5A\\x18\\xec\\x03\\xb3$\\x87\\x0f\\xe5K+\\xa5\\x9e\\xaf\\x03Y0u\\xc4\\x08\\xec\\xfc\\x81[Vn\\xd8@X&\\xf8\\xc4\\x8a8,\\xbb\\xf9\\xca*Fb\\xff|\\xac\\x86?\\\\\\xcb\\x80\\xfat\\xc4pw\\xd2n\\xe4\\xd1\\xe53\\xb9\\x92D\\xffC7\\\\(\\xe8\\xee\\xd9\\xc9\\xf1\\xd9\\x87\\xfe\\xe2\\xd4T\\x8a\\x00\\x8c\\xbaV:\\x01\\xdc6\\xf8$T2]X\\xa3\\xc0\\x9fg\\x8c\\xc5\\x99\\xd8I\\x82\\x1a\\x9b\\xd0n\\x01\\xcf\\x8d\\xd4\\xba<\\xfe\\xb1GR\\x7f\\xef\\x8btNL\\xf7\\xa8\\x10\\x07P1\\x95K>\\x95\\xb8<5\\xfd\\x95Sq,\\xceEMU\\x89\\x9e\\xad\\x08\\xbe<I\\x04\\x97\\xab\\xba\\x16\\x08\\xa6\\xb1\\xb4TC|\\xbf\\xa5\\xbdj\\x8c\\x95\\xc2\\x97\\xa4E:L_\\xccVZ\\xd1\\xa6*jH\\x9e\\x04yQ(\\xb7\\x8cl\\'\\x0ba\\xc9\\xc3\\xb1sv\\xf4\\xf4$\\xe9\\xe9\\xad\\xa9B-&R\\'\\xb8I\\xcb\\xb6\\x0e\\x10\\x86\\xac\\xae\\xa5\\x16w\\xa6\\x84\\x0bc\\xb2\\x9a\\r\\xaa\\xc0\\xf1{i;\\xdeN\\xf0\\xd1\\x97\\xf03X\\x08\\xc9Lmd%\\x9e\\x99\\xa26\\x10\\xf1\\xc0\\xd0_\\x94\\xe2\\x8e\\x99>U\\xfd\\xf0\\xc2\\x84\\x18(\\\\/\\xde\\x82]\\xddy\\xa1\\x90\\xc92_\\x86\\x1a\\xe1\\x92\\xca\\xce\\x1d\\xd6\\xd1\\xe9\\xf9\\xf1\\xe9\\xef\\xc8i\\xdeX\\x83\\xa0x\\xe2\\xa2kT\\xcc\\\\\\x97L\\x8e\\x93 \\xf1k\\xa9\\x95V\\x99B\\x98\\x95\\xf0\\nQ\\xf6[\\xed\\xff\\x14\\xa7\\xc9\\xb4\\xe6Y>\\xca\\xa6c\\x91g\\x8f\\xb3\\xcfc\\x80\\x8dtj\\r\\xd1{ vZ\\xdc3\\xfbK\\xd9\\xc2\\x07\\xcb\\xb0(\\xa9\\x11\\xb9\\xd1\\x15\\x06aF\\xdcm\\x90\\xee\\x0b\\x8e\\xbc/E\\xce\\xfd\\xb8\\xaeB\\x83\\xf7\\x86aA\\n\\xdcZG\\xb7\\xd2\\x859!\\xbbc\\xec9\\xd9\\xc2\\xd6\\x17\\xc6\\xf0\\x06j<\\xd9\\x88&\\xaaT5#hi\\xc4\\xadd%\\x01\\x07\\xae\\x8d\\xa9[d\\xea;iV++\\x01\\xae95.\\xe85\\xbcmt\\xa1X\\xbeX\\x048S\\x1f\\xe9J<\\xd0\\x0b\\xf4oUb\\x9cn\\r\\xa3`i\\xb4\\x96\\xac\\x0b6\\t\\x0e\\xc9\\x16\\x92SG\\x9c\\xbf+\\x0eC\\xc2@%\\x86!\\xd2%\\x84m\\x14h+\\xfb9Hw\\x9d\\xac\\rv\\x83m\\'\\xb7\\xcaR\\xd3_\\xfdK\\x99\\x06R\\xcb\\xdc\\xc1L\\'\\x05-\\xcc\\x06\\xf1\\xc2Ii\\x95\\x18\\xa7\\x80r\\x1b^\\xb8\\x88Aiu\\xc4v\\x00)F\\x07\\x91\\x06\\xdd;\\x91U\\xfc\\x16\\x94\"\\xb3\\x0e\\xe0\\x87{\\\\ii_\\x15\\x18\\xbc\\xab\\x926;,i\\xef\\xc9\\x1e\\xba2!\\x1d\\xde\\x14\\xed\\xdcl\\x1b\\xb5\\x83p\\xa7\\x0f\\xff\\x0bj\\x90\\x9f\\xaf\\xcc\"\\xdc\\x14\\x04\\xcbR\\x1fix\\xe0v\\xceKHX\\xce\"\\x87\\xa1\\xf76(L\\x19\\xa5\\xdc6\\x02SB\\xc3<\\x85p\\x0cb\\xc84\\r\\x00\\xb8!\\xe5\\xf8\\xe2P\\xd5\\xcc\\xe2P_\\xb9i\\xb8\\x810\\xb7\\x97\\xa8M\\xa2ZDeF\\x8de\\x96Qb\\xc63A\"\\xd2/<\\x1a\\xa4\\x01\\xf5\\x9d\\x9cZ\\x89\\x15\\x85\\xbf\\xa1 \\xc8\\xbaRi0\\xbd\\x8e\\xe2\\xa3k\\xd3\\xe9F\\xf0\\xa0\\xf8\\x1a0\\x06G\\xb4J(\\xdcL\\xf3a/f|g\\xcb\\r\\x93{#PP\\xc9U\\xb5\\xebC\\xe5r\\x8e!\\xa8\\\\G\\xccVm\\xc8y\\xda`\\x97\\xd3\\xb0\\xd4\\x85Dd\\x8b\\x92\\xdf\\x97\\x15f\\xaf`\"\\x19\\xd1JAp2])\\xa8\\xc2\\x9c\\x9b\\x15\\t\\x0ewA\\xd04\\xafb\\x0b\\xc0\\xb00[V\\xc6\\xe0\\xcb:v\\x19\\x91sV\\xf1\\xd2\\xd7\\xb6\\x85\\xf2\\xdc\\xf7\\xacd\\x86\\x7f\\xa5?\\xc9\\x01\\x9cd\\x85\\xb5\\x99g`(\\xcb\\x1c14\\xa8R\\x8d6\\xf0Q&\\xb0\\rg\\xe2\\xba$\\xef\\xa5\\xe5\\xc7at\"\\xdd\\xd0\\xee\\x7fR\\x95G\\x92+E\\xb4\\xae\\x00\\x01z\\x80&\\xc8k~t\\x9f\\xd1F\\x96\\x1e\\t:+\\xb8cP\\xaa\\xaa\\xbat\\xa6\\xc3\\x975\\x87v\\xf2pp\\xeb\\xec\\xfc\\xf8\\x0c\\x94Ol\\xff\\xb1F#\\x14\\x8a-v\\xbc\\x8c~\\x04\\xb5\\xc0`\\xee\\xd8\\xad\\x99\\xb8\\x85V\\xc09\\r\\x8eI\\xc7\\x1b1\\x181\\xc7\\x00\\x1e\\xb3\\xae\\xaa,\\x12s\\xe6P\\xce\\xdeD$\\x88\\xe7\\xfe\\xf2\\xfb\\x93\\xe3\\xf705\\xbd&\\xf86\\xb4\\xbe\\xff\\xedtr\\xc6\\x11\\xfc\\x15\\xb3\\x13\\x178\\x8ekd#\\x9b\\x8cX\\x9bB\\xa7L\\x7f\\x8e\\xcb\\x86T!\\xb22\\xc9\\xb9\\xb6\\xe5\\xb48NKB\\xd9\\xbd\\xf0\\x90p\\x15q\\x89\\x94\\xabA-\\xc4\\xe3\\x0cO\\xf8\\xcccI/\\x81\\xed]H\\t\\xe9\\xe2~n\\xc5\\x87\\x13\\x04\\x98\\xb2\\xa1(\\x85f\\xbd\\x03\\xd5>&\\xcd\\x99\\x82\\xe5\\xa1\\xac\\x91H\\x99\\x0ec\\xed07(\\xbd\\xee\\x17\\xee\\xa1\\xca\\x88\\xba\\xe4m\\xfd3\\x96\\x88\\x12\\r\\x9bc\\x13\\x02\\x87\\xd6\\\\[\\x0fa\\xcd\\xe9BI\\xd3%\\x83\\xf9\\xfc\\xad\\xad\\xf3\\xbb\\xaak\\xc5vE\\x15\\x8bO\\xbd\\xca\\xec(\\x1eJ\\xcc\\xc0\\x8cb\\xdf\\xa8(\\x0elIk\\x98{X\\x08\\xb0\\xb98\\xd2\\xae\\xa4,\\x12j\\xa4\\xe0:;\\xa4U\\xf6\\xd6\\xe8\\xb5\\x12ylcP\\xee,\\xae\\x13Efy2\\xd7$\\xaex\\x02\\x8e\\xbf\\n\\x8b~\\x8cT\\xd3y\"2&\\x04\\xf4\\xa2\\xfbn\\xb3\\xe1\\xf1/EeJ<Z\\xd52O\\xc2\\xbd\\xa7\\x86\\x9d\\x10c\\xaaS\\x1f\\x9dq\\xdc\\x9c\\xb85m\\x9d\\xd8\\x1c?M\\xb2\\x878c\\xefP\\xc9\\xee/\\xce$\\x0f>^L\\xa9\\xc2\\xf9\\xf6P#\\x9d\\x84&1\\xdf\\xccb\\xa3\\xe4\\x001\\x8bzh\\x98\\x07\\xe0YG%\\x98K\\xee\\r\\xf0\\xf6\\x8e\\x07\\xe2\\x83\\x11\\xb9c\\xbb@o\\xc6\\xd6h^\\xd2\\x0c>z\\xbcNf\\x83\\xa7S\\x14XjiMC?a}(n\\xb2\\x07\\x9e?\\xc5\\x88\\xc7\\xd0\\xc9g\\xd0^\\xd2\\xf98\\xa7\\xacQ.\\x8c\\x99\\x0cY\\x97\\xddQ\\xf3\\xc6\\xc8\\xbc\\xf2\\x02\\x8a\\xde\\x82=\\x87DM\\xc2\\x7fG\\xa0\\x81s\\xfe\\xf2\\x1fPK\\x03\\x04\\x14\\x00\\x00\\x00\\x08\\x00\\xc1\\x9b\\xa7P\\xc9\\xcd\\x9f\\x0b\\xd0\\x01\\x00\\x00q\\x04\\x00\\x00\\r\\x00\\x00\\x00xl/styles.xml\\x9dT\\xdb\\x8a\\xdc0\\x0c\\xfd\\x15\\xe3\\x0fh&\\x03]hI\\x02\\xdd\\xc2\\xc2B[\\x16f\\x1f\\xfa\\xea$Jb\\xf0%\\xeb(C\\xb2__\\xd9\\xce\\xe42\\xdd\\xa7}\\x89\\xa5c\\xe9\\x1cI\\xb6\\x93\\r8+\\xb8t\\x00\\xc8&\\xad\\xcc\\x90\\xf3\\x0e\\xb1\\xff\\x9e$C\\xd5\\x81\\x16\\xc3\\x17\\xdb\\x83\\xa1\\x9d\\xc6:-\\x90\\\\\\xd7&C\\xef@\\xd4\\x83O\\xd2*9\\x9fN\\x0f\\x89\\x16\\xd2\\xf0\"3\\xa3~\\xd28\\xb0\\xca\\x8e\\x06s~\\xe2I\\x915\\xd6l\\xc8\\x99G\\x80B\\x85\\x06v\\x15*\\xe7?\\x85\\x92\\xa5\\x93!Vh\\xa9\\xe6\\x08\\x9f=PYe\\x1dC*\\x05r\\x9ezdx\\x8f\\xdbi\\xf4|\\x95\\x0b\\x8f\\x96\\xc6:\\x0f&Q!~\\xcb%|\\xb7\\x11\\x96\\x81\\x02\\xa4R\\xc7\\xca\\x08(\\xb2^ \\x823O\\xe4\\x84\\x9c\\x00\\xfe\\xb7\\xc5\\x16\\xfbu\\xee\\xa9\\xb4\\xd6\\x899=\\x7f\\xe5[BXH\\xa4\\xb4\\xae\\x06w\\x90\\x89P\\x91)h\\x90\\x12\\x9cl;\\xbf\\xa2\\xed\\x13\\xbf\\x89h5\\x19\\xb5\\x14\\xad5\"\\xd4p\\xcb\\xd8g\\xb2pt9\\xc7\\x8eF\\x7f\\xa3\\xb9\\x07\\x89\\xf3\\x1e\\x8a\\x02\\xf7\\xe8Gj\\x8bAMT\\xa0\\xd4\\xc5\\'\\xfcm\\xd6NR\\xeadjX\\x8cy\\xae\\xfdi3\\xdf\\xf3\\xcd\\xa4\\x19/f\\xbc\\x15\\xd1\\xf1\\xfc{\\xb6\\xc8\\xbd\\xa3=\\x7f\\x8a\\x96\\xf5\\xf2j\\xf1q\\xa4\\xd6L\\xf0\\xdfF\\x8b\\xf0\\xe2\\xa0\\x91S\\xf0\\xa7f\\xd5\\'v\\xd1\\xf7j\\xfe\\xa1dk4\\xc4^v\\x82\\xe9\\x87\\x82\\xe9\\'\\x05\\x8bL\\xdctXg\\x9d|\\'>\\x7f!+\\x02\\xc0qv\\x05\\x87\\xb2\\xf2\\x08\\x9dU\\x18\\xcf\\xd4,3Z\\xc7\\x13\\x86u\\x18\\xfc\\x8a\\xb2r\\x94\\n\\xa5Y\\xaa\\xead]C,\\xc8?\\xb0\\x9c\\xff\\xf1\\xefV\\x1d\\xfa\\xdf\\xe6O\\xf4(Jz\\xff\\x07~\\xca\\xad\\xa1\\x11\\xa3\\xc2\\x17\\xdf\\xe3%^\\x94\\xcd\\xfe\\xe5/Z\\xfa\\xb0F\\xbd\\xae\\x149\\xdf\\xec\\xdfP\\xcbQ\\x7f\\x0b\\x82\\xdbO\\xa6\\xf8\\x07PK\\x03\\x04\\x14\\x00\\x00\\x00\\x08\\x00\\xc1\\x9b\\xa7P\\x87\\x15i\\xbb4\\x01\\x00\\x00#\\x02\\x00\\x00\\x0f\\x00\\x00\\x00xl/workbook.xml\\x8dQ\\xc1N\\xc30\\x0c\\xfd\\x95*\\x1f@\\xb7\\t&1\\xad\\\\\\x98\\x80I\\x08&\\x86vO[w\\xb5\\x96\\xc4\\x95\\xe3n\\xb0\\xaf\\xc7\\xcd46n\\x9c\\x1c?\\xdb\\xcf\\xcf/\\xf3\\x03\\xf1\\xae$\\xdae_\\xde\\x85X\\x98V\\xa4\\x9b\\xe5y\\xacZ\\xf06\\xdeP\\x07A+\\r\\xb1\\xb7\\xa2)o\\xf3\\xd81\\xd8:\\xb6\\x00\\xe2]>\\x19\\x8d\\xa6\\xb9\\xb7\\x18\\xcc\\xc3\\xfc\\xcc\\xb5\\xe2\\xfc:!\\x81J\\x90\\x82\\x82\\x03\\xb0A8\\xc4K}H3\\xab\\r{\\xf8\\xb4eaF&\\xb3\\xbd\\xd0\\x13:\\x01^X\\x81g\\xa6\\xbe\\xc3\\xb0-\\xcc\\xd8d\\rr\\x94\\xf5\\xb0;uz\\x0c\\xe8\\xf1\\x08u\\xcabK\\x87\\x17b<R\\x10\\xeb\\xd6\\x15\\x93sij(\\xa4!\\xdd\\x10\\x7f\\x91\\r\\xb0`\\xf5\\xa7Ql\\xf9aUka\\xa6#%\\xdcc\\xc4\\x12\\x1d\\xcawa\\xd2\\xdb\\x81\\xd1+\\xf2\\xab3\\x92\\x0f\\xe7x2q\\xc6\\xff\\xb1\\x91\\x9a\\x06+XP\\xd5{\\x08r\\xf2\\x91\\xc1\\r\\xdbCl\\xb1\\x8b&\\x0b\\xd6Ca\\x92\\xf0$Y\\xe3\\xb2>\\xc9\\x175\\xe6\\xa2)\\xe3\\x19j\\x81\\x97\\xf58\\xe9;\\x8b\\xaa\\xa1\\xc1\\x00\\xf5\\x9b\\xf2D\\xc5\\xf5\\xd6j\\xc5\\xd9\\x10\\x12\\xcf\\xe4\\xf6n|\\xaf\\x9e\\xf6\\xce=*\\xf6\\x1e^\\xc9&\\xfe\\x81\\xe3\\xfc?\\x0f?PK\\x03\\x04\\x14\\x00\\x00\\x00\\x08\\x00\\xc1\\x9b\\xa7P\\xff\\xc0&\\x08\\xbd\\x00\\x00\\x00\\x85\\x02\\x00\\x00\\x1a\\x00\\x00\\x00xl/_rels/workbook.xml.rels\\xad\\x92A\\n\\x830\\x10\\x00\\xbf\"y@Wm\\xe9\\xa1\\xa8\\xa7^\\xbc\\xb6\\xfd@\\xd0\\xd5\\x88\\x9a\\x84\\xec\\x96\\xea\\xef\\x9bzQA\\xa1\\x07/\\ta\\xc3\\xcc@\\x92<\\xb0\\x93\\xdc\\x18M\\xaa\\xb1\\x14\\x0c}\\xa7)\\x15\\x8a\\xd9\\xde\\x00\\xa8P\\xd8K:\\x19\\x8b\\xdaO*\\xe3z\\xc9\\xfe\\xe8j\\xb0\\xb2he\\x8d\\x10\\x87\\xe1\\x15\\xdc\\x92!\\xb2d\\xc9\\x0c\\xf22\\x15./#\\x11\\xbc\\xa4\\xab\\x91S\\x01C\\x07\\x1f\\xe3ZR\\x88L0m\\xd1\\xc9\\x0b\\xfc\\x95\\xd1\\xe2?zSUM\\x81wS\\xbc{\\xd4\\xbcQ1\\x0b\\x04l\\x07\\xc5s\\x10)\\xe9\\xb0|\\xb2ktMG\\x87\\xac\\xe0{1\\xe7E\\x0c\\x8f\\x1d\\x1e_1Q\\xf7\\xf4\\x97Y\\xcf^\\x820\\xad\\x87\\xbf\\xc9D\\xfd5\\xc0\\xea\\xd7e_PK\\x03\\x04\\x14\\x00\\x00\\x00\\x08\\x00\\xc1\\x9b\\xa7P\\x0b\\x8f\\xd8\\x03!\\x01\\x00\\x00W\\x04\\x00\\x00\\x13\\x00\\x00\\x00[Content_Types].xml\\xb5TMO\\xc30\\x0c\\xfd+S\\xafh\\xcd\\xe0\\xc0\\x01m\\xbb\\x00W\\x98\\x04\\x7f $n\\x1b5_\\xb2\\xbd\\xd1\\xfd{\\xdcnCb*bh\\xdb%\\x89\\xf3\\xec\\xf7^\\x12+\\xf3\\xf7m\\x06\\x9at\\xc1GZ\\x14\\rs~P\\x8aL\\x03AS\\x992DA\\xaa\\x84A\\xb3\\x84X\\xab\\xacM\\xabkPw\\xb3\\xd9\\xbd2)2D\\x9er\\xcfQ,\\xe7OP\\xe9\\xb5\\xe7\\xc9\\xe3n\\xbf\\xa7^\\x14:g\\xef\\x8cf\\x97\\xa2\\xdaD{D:\\xdd\\x13\\x96\\x08~\\xc8\\xa1\\xc6e\\xba\\x91\\x84b\\xf2\\xdc\\t\\x0b\\xc9\\xde\\xa2\\x10\\x94\\nu\\x82\\xc2qa\\x1fK\\xdd\\xeb\\x06\\x10\\x9d\\x85\\x7fYKU\\xe5\\x0c\\xd8d\\xd6AJJ\\xca\\x08\\xdaR\\x03\\xc0\\xc1\\x97\\xd4h\\x04\\xfb\\xc6\\xe8b\\xbd\\xf7\\xbb\\xd2\\xc8/:\\x08\\xb1\\xea\\xbc\\xfa\\x91P^\\xcf\\x07o=\\x8c\\x1b\\x18\\x90K*\\xb3\\xb4\\x05\\x8cI\\r\\xc0n\\xbc=K\\xf0\\xd0\\r&!L3\\n\\x8a\\xecF\\x8e\\'\\x96V\\x82\\x92\\xea\\x13/yD\\xe8[\\xc7\\x82=I\\\\\\xa8\\xaf\\xf7\\xb0\\x9f\\t\\xdba=v\\xe1\\xdf \\xa9a:\\xef\\xd6\\xffht\\x99\\xcb\\xa0]\\xfc\\xcd\\xc8GJ\\xedA_\\r\\xff\\xc9\\xf2\\x0bPK\\x01\\x02\\x14\\x03\\x14\\x00\\x00\\x00\\x08\\x00\\xc1\\x9b\\xa7P\\x1f#\\xcf\\x03\\xc0\\x00\\x00\\x00\\x13\\x02\\x00\\x00\\x0b\\x00\\x00\\x00\\x00\\x00\\x00\\x00\\x00\\x00\\x00\\x00\\x80\\x01\\x00\\x00\\x00\\x00_rels/.relsPK\\x01\\x02\\x14\\x03\\x14\\x00\\x00\\x00\\x08\\x00\\xc1\\x9b\\xa7P\\'\\xe8\\x87\\x0e\\x82\\x00\\x00\\x00\\xb1\\x00\\x00\\x00\\x10\\x00\\x00\\x00\\x00\\x00\\x00\\x00\\x00\\x00\\x00\\x00\\x80\\x01\\xe9\\x00\\x00\\x00docProps/app.xmlPK\\x01\\x02\\x14\\x03\\x14\\x00\\x00\\x00\\x08\\x00\\xc1\\x9b\\xa7Pk\\x16e\\x17\\xef\\x00\\x00\\x00+\\x02\\x00\\x00\\x11\\x00\\x00\\x00\\x00\\x00\\x00\\x00\\x00\\x00\\x00\\x00\\x80\\x01\\x99\\x01\\x00\\x00docProps/core.xmlPK\\x01\\x02\\x14\\x03\\x14\\x00\\x00\\x00\\x08\\x00\\xc1\\x9b\\xa7P\\x99\\\\\\x9c#\\x10\\x06\\x00\\x00\\x9c\\'\\x00\\x00\\x13\\x00\\x00\\x00\\x00\\x00\\x00\\x00\\x00\\x00\\x00\\x00\\x80\\x01\\xb7\\x02\\x00\\x00xl/theme/theme1.xmlPK\\x01\\x02\\x14\\x03\\x14\\x00\\x00\\x00\\x08\\x00\\xc1\\x9b\\xa7P\\xdf\\x02\\x0c,2+\\x00\\x00\\xd8i\\x01\\x00\\x18\\x00\\x00\\x00\\x00\\x00\\x00\\x00\\x00\\x00\\x00\\x00\\x80\\x01\\xf8\\x08\\x00\\x00xl/worksheets/sheet1.xmlPK\\x01\\x02\\x14\\x03\\x14\\x00\\x00\\x00\\x08\\x00\\xc1\\x9b\\xa7P\\xa8]\\x0e\\x11}\\x06\\x00\\x00u\\x16\\x00\\x00\\x14\\x00\\x00\\x00\\x00\\x00\\x00\\x00\\x00\\x00\\x00\\x00\\x80\\x01`4\\x00\\x00xl/sharedStrings.xmlPK\\x01\\x02\\x14\\x03\\x14\\x00\\x00\\x00\\x08\\x00\\xc1\\x9b\\xa7P\\xc9\\xcd\\x9f\\x0b\\xd0\\x01\\x00\\x00q\\x04\\x00\\x00\\r\\x00\\x00\\x00\\x00\\x00\\x00\\x00\\x00\\x00\\x00\\x00\\x80\\x01\\x0f;\\x00\\x00xl/styles.xmlPK\\x01\\x02\\x14\\x03\\x14\\x00\\x00\\x00\\x08\\x00\\xc1\\x9b\\xa7P\\x87\\x15i\\xbb4\\x01\\x00\\x00#\\x02\\x00\\x00\\x0f\\x00\\x00\\x00\\x00\\x00\\x00\\x00\\x00\\x00\\x00\\x00\\x80\\x01\\n=\\x00\\x00xl/workbook.xmlPK\\x01\\x02\\x14\\x03\\x14\\x00\\x00\\x00\\x08\\x00\\xc1\\x9b\\xa7P\\xff\\xc0&\\x08\\xbd\\x00\\x00\\x00\\x85\\x02\\x00\\x00\\x1a\\x00\\x00\\x00\\x00\\x00\\x00\\x00\\x00\\x00\\x00\\x00\\x80\\x01k>\\x00\\x00xl/_rels/workbook.xml.relsPK\\x01\\x02\\x14\\x03\\x14\\x00\\x00\\x00\\x08\\x00\\xc1\\x9b\\xa7P\\x0b\\x8f\\xd8\\x03!\\x01\\x00\\x00W\\x04\\x00\\x00\\x13\\x00\\x00\\x00\\x00\\x00\\x00\\x00\\x00\\x00\\x00\\x00\\x80\\x01`?\\x00\\x00[Content_Types].xmlPK\\x05\\x06\\x00\\x00\\x00\\x00\\n\\x00\\n\\x00\\x80\\x02\\x00\\x00\\xb2@\\x00\\x00\\x00\\x00'}"
            ]
          },
          "metadata": {
            "tags": []
          },
          "execution_count": 3
        }
      ]
    },
    {
      "cell_type": "code",
      "metadata": {
        "id": "LrGWh3DjG8oy",
        "colab_type": "code",
        "colab": {}
      },
      "source": [
        "data = pd.read_excel(\"/content/Final_workbook.xlsx\")"
      ],
      "execution_count": 0,
      "outputs": []
    },
    {
      "cell_type": "code",
      "metadata": {
        "id": "SFZc72fEHOxi",
        "colab_type": "code",
        "outputId": "461042b4-3d5c-4461-861e-876fbe1fac63",
        "colab": {
          "base_uri": "https://localhost:8080/",
          "height": 326
        }
      },
      "source": [
        "data.head()"
      ],
      "execution_count": 0,
      "outputs": [
        {
          "output_type": "execute_result",
          "data": {
            "text/html": [
              "<div>\n",
              "<style scoped>\n",
              "    .dataframe tbody tr th:only-of-type {\n",
              "        vertical-align: middle;\n",
              "    }\n",
              "\n",
              "    .dataframe tbody tr th {\n",
              "        vertical-align: top;\n",
              "    }\n",
              "\n",
              "    .dataframe thead th {\n",
              "        text-align: right;\n",
              "    }\n",
              "</style>\n",
              "<table border=\"1\" class=\"dataframe\">\n",
              "  <thead>\n",
              "    <tr style=\"text-align: right;\">\n",
              "      <th></th>\n",
              "      <th>Unnamed: 0</th>\n",
              "      <th>Name</th>\n",
              "      <th>Gender</th>\n",
              "      <th>Age</th>\n",
              "      <th>Brand</th>\n",
              "      <th>Cost</th>\n",
              "      <th>Place</th>\n",
              "      <th>Reason</th>\n",
              "      <th>OS</th>\n",
              "      <th>Satisfactioin_OS</th>\n",
              "      <th>Brand_importance</th>\n",
              "      <th>Brand_influence</th>\n",
              "      <th>Phone_upgradation</th>\n",
              "      <th>Upgrad_same_brand</th>\n",
              "      <th>Try_New_OS</th>\n",
              "      <th>Quality_vs_Price</th>\n",
              "      <th>Similar_phone_other_brand</th>\n",
              "      <th>Mobile_network_charges</th>\n",
              "      <th>View</th>\n",
              "      <th>Applications_payable</th>\n",
              "      <th>Income</th>\n",
              "      <th>Phone_cases</th>\n",
              "      <th>Screen_guard</th>\n",
              "      <th>Headphones</th>\n",
              "    </tr>\n",
              "  </thead>\n",
              "  <tbody>\n",
              "    <tr>\n",
              "      <th>0</th>\n",
              "      <td>0</td>\n",
              "      <td>Yasha</td>\n",
              "      <td>Female</td>\n",
              "      <td>20-24</td>\n",
              "      <td>Nokia</td>\n",
              "      <td>15000.0000</td>\n",
              "      <td>Online</td>\n",
              "      <td>Reputation</td>\n",
              "      <td>Android</td>\n",
              "      <td>4</td>\n",
              "      <td>5</td>\n",
              "      <td>Yes</td>\n",
              "      <td>2 year</td>\n",
              "      <td>Maybe</td>\n",
              "      <td>Maybe</td>\n",
              "      <td>High-quality</td>\n",
              "      <td>Yes</td>\n",
              "      <td>Less Network charges</td>\n",
              "      <td>Necessity</td>\n",
              "      <td>No</td>\n",
              "      <td>1 - 5 lakh</td>\n",
              "      <td>1</td>\n",
              "      <td>0</td>\n",
              "      <td>0</td>\n",
              "    </tr>\n",
              "    <tr>\n",
              "      <th>1</th>\n",
              "      <td>1</td>\n",
              "      <td>Anfas</td>\n",
              "      <td>Male</td>\n",
              "      <td>20-24</td>\n",
              "      <td>Real me</td>\n",
              "      <td>12000.0000</td>\n",
              "      <td>Kerala</td>\n",
              "      <td>Quality</td>\n",
              "      <td>Android</td>\n",
              "      <td>4</td>\n",
              "      <td>4</td>\n",
              "      <td>Maybe</td>\n",
              "      <td>more than 2 year</td>\n",
              "      <td>No</td>\n",
              "      <td>Maybe</td>\n",
              "      <td>Lower price</td>\n",
              "      <td>Maybe</td>\n",
              "      <td>Data at discounted rate</td>\n",
              "      <td>Necessity</td>\n",
              "      <td>Maybe</td>\n",
              "      <td>5 - 10 lakh</td>\n",
              "      <td>1</td>\n",
              "      <td>1</td>\n",
              "      <td>0</td>\n",
              "    </tr>\n",
              "    <tr>\n",
              "      <th>2</th>\n",
              "      <td>2</td>\n",
              "      <td>Gokul Menon</td>\n",
              "      <td>Male</td>\n",
              "      <td>20-24</td>\n",
              "      <td>Oneplus</td>\n",
              "      <td>32999.0000</td>\n",
              "      <td>Kerala</td>\n",
              "      <td>Quality</td>\n",
              "      <td>Android</td>\n",
              "      <td>5</td>\n",
              "      <td>3</td>\n",
              "      <td>Yes</td>\n",
              "      <td>more than 2 year</td>\n",
              "      <td>Yes</td>\n",
              "      <td>No</td>\n",
              "      <td>High-quality</td>\n",
              "      <td>No</td>\n",
              "      <td>Less Network charges</td>\n",
              "      <td>Necessity</td>\n",
              "      <td>Yes</td>\n",
              "      <td>1 - 5 lakh</td>\n",
              "      <td>1</td>\n",
              "      <td>1</td>\n",
              "      <td>0</td>\n",
              "    </tr>\n",
              "    <tr>\n",
              "      <th>3</th>\n",
              "      <td>3</td>\n",
              "      <td>Allen John</td>\n",
              "      <td>Male</td>\n",
              "      <td>20-24</td>\n",
              "      <td>Oneplus</td>\n",
              "      <td>53000.0000</td>\n",
              "      <td>Karnataka</td>\n",
              "      <td>Performance</td>\n",
              "      <td>Android</td>\n",
              "      <td>5</td>\n",
              "      <td>4</td>\n",
              "      <td>Maybe</td>\n",
              "      <td>2 year</td>\n",
              "      <td>Yes</td>\n",
              "      <td>Yes</td>\n",
              "      <td>High-quality</td>\n",
              "      <td>Maybe</td>\n",
              "      <td>Data at discounted rate</td>\n",
              "      <td>Luxury</td>\n",
              "      <td>No</td>\n",
              "      <td>5 - 10 lakh</td>\n",
              "      <td>1</td>\n",
              "      <td>1</td>\n",
              "      <td>0</td>\n",
              "    </tr>\n",
              "    <tr>\n",
              "      <th>4</th>\n",
              "      <td>4</td>\n",
              "      <td>Vivek Yadav</td>\n",
              "      <td>Male</td>\n",
              "      <td>20-24</td>\n",
              "      <td>Oneplus</td>\n",
              "      <td>37749.9375</td>\n",
              "      <td>Online</td>\n",
              "      <td>Performance</td>\n",
              "      <td>Android</td>\n",
              "      <td>4</td>\n",
              "      <td>4</td>\n",
              "      <td>Yes</td>\n",
              "      <td>2 year</td>\n",
              "      <td>Maybe</td>\n",
              "      <td>No</td>\n",
              "      <td>High-quality</td>\n",
              "      <td>Maybe</td>\n",
              "      <td>Data at discounted rate</td>\n",
              "      <td>Luxury</td>\n",
              "      <td>Yes</td>\n",
              "      <td>5 - 10 lakh</td>\n",
              "      <td>1</td>\n",
              "      <td>1</td>\n",
              "      <td>0</td>\n",
              "    </tr>\n",
              "  </tbody>\n",
              "</table>\n",
              "</div>"
            ],
            "text/plain": [
              "   Unnamed: 0         Name  Gender  ... Phone_cases Screen_guard  Headphones\n",
              "0           0       Yasha   Female  ...           1            0           0\n",
              "1           1        Anfas    Male  ...           1            1           0\n",
              "2           2  Gokul Menon    Male  ...           1            1           0\n",
              "3           3   Allen John    Male  ...           1            1           0\n",
              "4           4  Vivek Yadav    Male  ...           1            1           0\n",
              "\n",
              "[5 rows x 24 columns]"
            ]
          },
          "metadata": {
            "tags": []
          },
          "execution_count": 6
        }
      ]
    },
    {
      "cell_type": "code",
      "metadata": {
        "id": "SbNHicgvHQgx",
        "colab_type": "code",
        "colab": {}
      },
      "source": [
        "data.drop(\"Unnamed: 0\", axis =1, inplace = True)"
      ],
      "execution_count": 0,
      "outputs": []
    },
    {
      "cell_type": "code",
      "metadata": {
        "id": "SWIsxrmrHRmk",
        "colab_type": "code",
        "outputId": "6e5fafe4-031e-4113-a692-96cd8175379b",
        "colab": {
          "base_uri": "https://localhost:8080/",
          "height": 309
        }
      },
      "source": [
        "data.head()"
      ],
      "execution_count": 0,
      "outputs": [
        {
          "output_type": "execute_result",
          "data": {
            "text/html": [
              "<div>\n",
              "<style scoped>\n",
              "    .dataframe tbody tr th:only-of-type {\n",
              "        vertical-align: middle;\n",
              "    }\n",
              "\n",
              "    .dataframe tbody tr th {\n",
              "        vertical-align: top;\n",
              "    }\n",
              "\n",
              "    .dataframe thead th {\n",
              "        text-align: right;\n",
              "    }\n",
              "</style>\n",
              "<table border=\"1\" class=\"dataframe\">\n",
              "  <thead>\n",
              "    <tr style=\"text-align: right;\">\n",
              "      <th></th>\n",
              "      <th>Name</th>\n",
              "      <th>Gender</th>\n",
              "      <th>Age</th>\n",
              "      <th>Brand</th>\n",
              "      <th>Cost</th>\n",
              "      <th>Place</th>\n",
              "      <th>Reason</th>\n",
              "      <th>OS</th>\n",
              "      <th>Satisfactioin_OS</th>\n",
              "      <th>Brand_importance</th>\n",
              "      <th>Brand_influence</th>\n",
              "      <th>Phone_upgradation</th>\n",
              "      <th>Upgrad_same_brand</th>\n",
              "      <th>Try_New_OS</th>\n",
              "      <th>Quality_vs_Price</th>\n",
              "      <th>Similar_phone_other_brand</th>\n",
              "      <th>Mobile_network_charges</th>\n",
              "      <th>View</th>\n",
              "      <th>Applications_payable</th>\n",
              "      <th>Income</th>\n",
              "      <th>Phone_cases</th>\n",
              "      <th>Screen_guard</th>\n",
              "      <th>Headphones</th>\n",
              "    </tr>\n",
              "  </thead>\n",
              "  <tbody>\n",
              "    <tr>\n",
              "      <th>0</th>\n",
              "      <td>Yasha</td>\n",
              "      <td>Female</td>\n",
              "      <td>20-24</td>\n",
              "      <td>Nokia</td>\n",
              "      <td>15000.0000</td>\n",
              "      <td>Online</td>\n",
              "      <td>Reputation</td>\n",
              "      <td>Android</td>\n",
              "      <td>4</td>\n",
              "      <td>5</td>\n",
              "      <td>Yes</td>\n",
              "      <td>2 year</td>\n",
              "      <td>Maybe</td>\n",
              "      <td>Maybe</td>\n",
              "      <td>High-quality</td>\n",
              "      <td>Yes</td>\n",
              "      <td>Less Network charges</td>\n",
              "      <td>Necessity</td>\n",
              "      <td>No</td>\n",
              "      <td>1 - 5 lakh</td>\n",
              "      <td>1</td>\n",
              "      <td>0</td>\n",
              "      <td>0</td>\n",
              "    </tr>\n",
              "    <tr>\n",
              "      <th>1</th>\n",
              "      <td>Anfas</td>\n",
              "      <td>Male</td>\n",
              "      <td>20-24</td>\n",
              "      <td>Real me</td>\n",
              "      <td>12000.0000</td>\n",
              "      <td>Kerala</td>\n",
              "      <td>Quality</td>\n",
              "      <td>Android</td>\n",
              "      <td>4</td>\n",
              "      <td>4</td>\n",
              "      <td>Maybe</td>\n",
              "      <td>more than 2 year</td>\n",
              "      <td>No</td>\n",
              "      <td>Maybe</td>\n",
              "      <td>Lower price</td>\n",
              "      <td>Maybe</td>\n",
              "      <td>Data at discounted rate</td>\n",
              "      <td>Necessity</td>\n",
              "      <td>Maybe</td>\n",
              "      <td>5 - 10 lakh</td>\n",
              "      <td>1</td>\n",
              "      <td>1</td>\n",
              "      <td>0</td>\n",
              "    </tr>\n",
              "    <tr>\n",
              "      <th>2</th>\n",
              "      <td>Gokul Menon</td>\n",
              "      <td>Male</td>\n",
              "      <td>20-24</td>\n",
              "      <td>Oneplus</td>\n",
              "      <td>32999.0000</td>\n",
              "      <td>Kerala</td>\n",
              "      <td>Quality</td>\n",
              "      <td>Android</td>\n",
              "      <td>5</td>\n",
              "      <td>3</td>\n",
              "      <td>Yes</td>\n",
              "      <td>more than 2 year</td>\n",
              "      <td>Yes</td>\n",
              "      <td>No</td>\n",
              "      <td>High-quality</td>\n",
              "      <td>No</td>\n",
              "      <td>Less Network charges</td>\n",
              "      <td>Necessity</td>\n",
              "      <td>Yes</td>\n",
              "      <td>1 - 5 lakh</td>\n",
              "      <td>1</td>\n",
              "      <td>1</td>\n",
              "      <td>0</td>\n",
              "    </tr>\n",
              "    <tr>\n",
              "      <th>3</th>\n",
              "      <td>Allen John</td>\n",
              "      <td>Male</td>\n",
              "      <td>20-24</td>\n",
              "      <td>Oneplus</td>\n",
              "      <td>53000.0000</td>\n",
              "      <td>Karnataka</td>\n",
              "      <td>Performance</td>\n",
              "      <td>Android</td>\n",
              "      <td>5</td>\n",
              "      <td>4</td>\n",
              "      <td>Maybe</td>\n",
              "      <td>2 year</td>\n",
              "      <td>Yes</td>\n",
              "      <td>Yes</td>\n",
              "      <td>High-quality</td>\n",
              "      <td>Maybe</td>\n",
              "      <td>Data at discounted rate</td>\n",
              "      <td>Luxury</td>\n",
              "      <td>No</td>\n",
              "      <td>5 - 10 lakh</td>\n",
              "      <td>1</td>\n",
              "      <td>1</td>\n",
              "      <td>0</td>\n",
              "    </tr>\n",
              "    <tr>\n",
              "      <th>4</th>\n",
              "      <td>Vivek Yadav</td>\n",
              "      <td>Male</td>\n",
              "      <td>20-24</td>\n",
              "      <td>Oneplus</td>\n",
              "      <td>37749.9375</td>\n",
              "      <td>Online</td>\n",
              "      <td>Performance</td>\n",
              "      <td>Android</td>\n",
              "      <td>4</td>\n",
              "      <td>4</td>\n",
              "      <td>Yes</td>\n",
              "      <td>2 year</td>\n",
              "      <td>Maybe</td>\n",
              "      <td>No</td>\n",
              "      <td>High-quality</td>\n",
              "      <td>Maybe</td>\n",
              "      <td>Data at discounted rate</td>\n",
              "      <td>Luxury</td>\n",
              "      <td>Yes</td>\n",
              "      <td>5 - 10 lakh</td>\n",
              "      <td>1</td>\n",
              "      <td>1</td>\n",
              "      <td>0</td>\n",
              "    </tr>\n",
              "  </tbody>\n",
              "</table>\n",
              "</div>"
            ],
            "text/plain": [
              "          Name  Gender    Age  ... Phone_cases  Screen_guard Headphones\n",
              "0       Yasha   Female  20-24  ...           1             0          0\n",
              "1        Anfas    Male  20-24  ...           1             1          0\n",
              "2  Gokul Menon    Male  20-24  ...           1             1          0\n",
              "3   Allen John    Male  20-24  ...           1             1          0\n",
              "4  Vivek Yadav    Male  20-24  ...           1             1          0\n",
              "\n",
              "[5 rows x 23 columns]"
            ]
          },
          "metadata": {
            "tags": []
          },
          "execution_count": 8
        }
      ]
    },
    {
      "cell_type": "code",
      "metadata": {
        "id": "yJ-5IWvhHe8h",
        "colab_type": "code",
        "outputId": "5ff8f27f-cbbd-466c-b6b8-880bac35e3ca",
        "colab": {
          "base_uri": "https://localhost:8080/",
          "height": 295
        }
      },
      "source": [
        "data.describe()"
      ],
      "execution_count": 0,
      "outputs": [
        {
          "output_type": "execute_result",
          "data": {
            "text/html": [
              "<div>\n",
              "<style scoped>\n",
              "    .dataframe tbody tr th:only-of-type {\n",
              "        vertical-align: middle;\n",
              "    }\n",
              "\n",
              "    .dataframe tbody tr th {\n",
              "        vertical-align: top;\n",
              "    }\n",
              "\n",
              "    .dataframe thead th {\n",
              "        text-align: right;\n",
              "    }\n",
              "</style>\n",
              "<table border=\"1\" class=\"dataframe\">\n",
              "  <thead>\n",
              "    <tr style=\"text-align: right;\">\n",
              "      <th></th>\n",
              "      <th>Cost</th>\n",
              "      <th>Satisfactioin_OS</th>\n",
              "      <th>Brand_importance</th>\n",
              "      <th>Phone_cases</th>\n",
              "      <th>Screen_guard</th>\n",
              "      <th>Headphones</th>\n",
              "    </tr>\n",
              "  </thead>\n",
              "  <tbody>\n",
              "    <tr>\n",
              "      <th>count</th>\n",
              "      <td>108.000000</td>\n",
              "      <td>108.000000</td>\n",
              "      <td>108.000000</td>\n",
              "      <td>108.000000</td>\n",
              "      <td>108.000000</td>\n",
              "      <td>108.000000</td>\n",
              "    </tr>\n",
              "    <tr>\n",
              "      <th>mean</th>\n",
              "      <td>22685.036624</td>\n",
              "      <td>4.361111</td>\n",
              "      <td>4.240741</td>\n",
              "      <td>0.759259</td>\n",
              "      <td>0.916667</td>\n",
              "      <td>0.018519</td>\n",
              "    </tr>\n",
              "    <tr>\n",
              "      <th>std</th>\n",
              "      <td>18070.045856</td>\n",
              "      <td>0.729336</td>\n",
              "      <td>0.795670</td>\n",
              "      <td>0.429526</td>\n",
              "      <td>0.277674</td>\n",
              "      <td>0.135445</td>\n",
              "    </tr>\n",
              "    <tr>\n",
              "      <th>min</th>\n",
              "      <td>6000.000000</td>\n",
              "      <td>2.000000</td>\n",
              "      <td>2.000000</td>\n",
              "      <td>0.000000</td>\n",
              "      <td>0.000000</td>\n",
              "      <td>0.000000</td>\n",
              "    </tr>\n",
              "    <tr>\n",
              "      <th>25%</th>\n",
              "      <td>12000.000000</td>\n",
              "      <td>4.000000</td>\n",
              "      <td>4.000000</td>\n",
              "      <td>1.000000</td>\n",
              "      <td>1.000000</td>\n",
              "      <td>0.000000</td>\n",
              "    </tr>\n",
              "    <tr>\n",
              "      <th>50%</th>\n",
              "      <td>15000.000000</td>\n",
              "      <td>4.000000</td>\n",
              "      <td>4.000000</td>\n",
              "      <td>1.000000</td>\n",
              "      <td>1.000000</td>\n",
              "      <td>0.000000</td>\n",
              "    </tr>\n",
              "    <tr>\n",
              "      <th>75%</th>\n",
              "      <td>26500.000000</td>\n",
              "      <td>5.000000</td>\n",
              "      <td>5.000000</td>\n",
              "      <td>1.000000</td>\n",
              "      <td>1.000000</td>\n",
              "      <td>0.000000</td>\n",
              "    </tr>\n",
              "    <tr>\n",
              "      <th>max</th>\n",
              "      <td>100000.000000</td>\n",
              "      <td>5.000000</td>\n",
              "      <td>5.000000</td>\n",
              "      <td>1.000000</td>\n",
              "      <td>1.000000</td>\n",
              "      <td>1.000000</td>\n",
              "    </tr>\n",
              "  </tbody>\n",
              "</table>\n",
              "</div>"
            ],
            "text/plain": [
              "                Cost  Satisfactioin_OS  ...  Screen_guard  Headphones\n",
              "count     108.000000        108.000000  ...    108.000000  108.000000\n",
              "mean    22685.036624          4.361111  ...      0.916667    0.018519\n",
              "std     18070.045856          0.729336  ...      0.277674    0.135445\n",
              "min      6000.000000          2.000000  ...      0.000000    0.000000\n",
              "25%     12000.000000          4.000000  ...      1.000000    0.000000\n",
              "50%     15000.000000          4.000000  ...      1.000000    0.000000\n",
              "75%     26500.000000          5.000000  ...      1.000000    0.000000\n",
              "max    100000.000000          5.000000  ...      1.000000    1.000000\n",
              "\n",
              "[8 rows x 6 columns]"
            ]
          },
          "metadata": {
            "tags": []
          },
          "execution_count": 10
        }
      ]
    },
    {
      "cell_type": "code",
      "metadata": {
        "id": "2JUFv-MBHkPp",
        "colab_type": "code",
        "colab": {}
      },
      "source": [
        "sns.set_palette(\"pastel\")"
      ],
      "execution_count": 0,
      "outputs": []
    },
    {
      "cell_type": "code",
      "metadata": {
        "id": "sPTdVxXJU5Wg",
        "colab_type": "code",
        "colab": {}
      },
      "source": [
        "sns.set_style(\"dark\")"
      ],
      "execution_count": 0,
      "outputs": []
    },
    {
      "cell_type": "markdown",
      "metadata": {
        "id": "WkWYPNlGCR6u",
        "colab_type": "text"
      },
      "source": [
        "## **COUNT PLOTS**"
      ]
    },
    {
      "cell_type": "code",
      "metadata": {
        "id": "3CMmh359H0VO",
        "colab_type": "code",
        "outputId": "519472bb-fddf-4035-a9ed-5d2239534129",
        "colab": {
          "base_uri": "https://localhost:8080/",
          "height": 475
        }
      },
      "source": [
        "plt.figure(figsize=(10,7))\n",
        "countplots = sns.countplot(x = \"Gender\", data = data)\n",
        "countplots.legend()\n",
        "countplots.get_data_ratio()\n",
        "plt.title('Distribution of Sex')\n",
        "plt.xlabel('Sex')\n",
        "countplots.figure.savefig(\"Sex_Distribution.jpeg\")"
      ],
      "execution_count": 0,
      "outputs": [
        {
          "output_type": "stream",
          "text": [
            "No handles with labels found to put in legend.\n"
          ],
          "name": "stderr"
        },
        {
          "output_type": "display_data",
          "data": {
            "image/png": "[encoded data removed]",
            "text/plain": [
              "<Figure size 720x504 with 1 Axes>"
            ]
          },
          "metadata": {
            "tags": []
          }
        }
      ]
    },
    {
      "cell_type": "code",
      "metadata": {
        "id": "_bfdQQaMEUff",
        "colab_type": "code",
        "outputId": "168dac5e-f3c9-4b2e-ad78-9eb973d4d6a4",
        "colab": {
          "base_uri": "https://localhost:8080/",
          "height": 137
        }
      },
      "source": [
        "data.columns"
      ],
      "execution_count": 0,
      "outputs": [
        {
          "output_type": "execute_result",
          "data": {
            "text/plain": [
              "Index(['Name', 'Gender', 'Age', 'Brand', 'Cost', 'Place', 'Reason', 'OS',\n",
              "       'Satisfactioin_OS', 'Brand_importance', 'Brand_influence',\n",
              "       'Phone_upgradation', 'Upgrad_same_brand', 'Try_New_OS',\n",
              "       'Quality_vs_Price', 'Similar_phone_other_brand',\n",
              "       'Mobile_network_charges', 'View', 'Applications_payable', 'Income',\n",
              "       'Phone_cases', 'Screen_guard', 'Headphones'],\n",
              "      dtype='object')"
            ]
          },
          "metadata": {
            "tags": []
          },
          "execution_count": 33
        }
      ]
    },
    {
      "cell_type": "code",
      "metadata": {
        "id": "NYskFrc4T6Dj",
        "colab_type": "code",
        "colab": {}
      },
      "source": [
        "plt.figure(figsize=(10,7))\n",
        "countplots = sns.countplot(x = \"Age\", data = data)\n",
        "countplots.legend()\n",
        "plt.title('Distribution of Age')\n",
        "plt.xlabel('Age')\n",
        "countplots.figure.savefig(\"Age_Distribution.jpeg\")"
      ],
      "execution_count": 0,
      "outputs": []
    },
    {
      "cell_type": "code",
      "metadata": {
        "id": "gfufGrVYUotS",
        "colab_type": "code",
        "outputId": "fa4d88f0-fb6b-466d-941b-262f3157e367",
        "colab": {
          "base_uri": "https://localhost:8080/",
          "height": 458
        }
      },
      "source": [
        "plt.figure(figsize=(10,7))\n",
        "countplots = sns.countplot(x = \"Age\", data = data, hue = \"Gender\")\n",
        "countplots.legend()\n",
        "plt.title('Distribution of Age_2')\n",
        "plt.xlabel('Age')\n",
        "countplots.figure.savefig(\"/content/Countplots/Age_Distribution_2.jpeg\")"
      ],
      "execution_count": 0,
      "outputs": [
        {
          "output_type": "display_data",
          "data": {
            "image/png": "[encoded data removed]",
            "text/plain": [
              "<Figure size 720x504 with 1 Axes>"
            ]
          },
          "metadata": {
            "tags": []
          }
        }
      ]
    },
    {
      "cell_type": "code",
      "metadata": {
        "id": "dkb1GCPbFlTc",
        "colab_type": "code",
        "outputId": "af051cd6-7187-4f4e-a7a0-f041e48237bd",
        "colab": {
          "base_uri": "https://localhost:8080/",
          "height": 137
        }
      },
      "source": [
        "columns = data.columns\n",
        "columns"
      ],
      "execution_count": 0,
      "outputs": [
        {
          "output_type": "execute_result",
          "data": {
            "text/plain": [
              "Index(['Name', 'Gender', 'Age', 'Brand', 'Cost', 'Place', 'Reason', 'OS',\n",
              "       'Satisfactioin_OS', 'Brand_importance', 'Brand_influence',\n",
              "       'Phone_upgradation', 'Upgrad_same_brand', 'Try_New_OS',\n",
              "       'Quality_vs_Price', 'Similar_phone_other_brand',\n",
              "       'Mobile_network_charges', 'View', 'Applications_payable', 'Income',\n",
              "       'Phone_cases', 'Screen_guard', 'Headphones'],\n",
              "      dtype='object')"
            ]
          },
          "metadata": {
            "tags": []
          },
          "execution_count": 40
        }
      ]
    },
    {
      "cell_type": "code",
      "metadata": {
        "id": "IlZ9pwtvE9Lt",
        "colab_type": "code",
        "outputId": "312f26ca-4527-490e-e677-629342030538",
        "colab": {
          "base_uri": "https://localhost:8080/",
          "height": 457
        }
      },
      "source": [
        "plt.figure(figsize=(20,7))\n",
        "countplots = sns.countplot(x = \"Brand\", data = data)\n",
        "countplots.legend()\n",
        "plt.title('Distribution of Brand')\n",
        "plt.xlabel('Brand')\n",
        "countplots.figure.savefig(\"/content/Countplots/Brand_Distribution.jpeg\")"
      ],
      "execution_count": 0,
      "outputs": [
        {
          "output_type": "stream",
          "text": [
            "No handles with labels found to put in legend.\n"
          ],
          "name": "stderr"
        },
        {
          "output_type": "display_data",
          "data": {
            "image/png": "[encoded data removed]",
            "text/plain": [
              "<Figure size 1440x504 with 1 Axes>"
            ]
          },
          "metadata": {
            "tags": []
          }
        }
      ]
    },
    {
      "cell_type": "code",
      "metadata": {
        "id": "tFjaYe2sGP-L",
        "colab_type": "code",
        "outputId": "4e8a3937-343a-42ca-a12e-107efe90ac79",
        "colab": {
          "base_uri": "https://localhost:8080/",
          "height": 137
        }
      },
      "source": [
        "columns"
      ],
      "execution_count": 0,
      "outputs": [
        {
          "output_type": "execute_result",
          "data": {
            "text/plain": [
              "Index(['Name', 'Gender', 'Age', 'Brand', 'Cost', 'Place', 'Reason', 'OS',\n",
              "       'Satisfactioin_OS', 'Brand_importance', 'Brand_influence',\n",
              "       'Phone_upgradation', 'Upgrad_same_brand', 'Try_New_OS',\n",
              "       'Quality_vs_Price', 'Similar_phone_other_brand',\n",
              "       'Mobile_network_charges', 'View', 'Applications_payable', 'Income',\n",
              "       'Phone_cases', 'Screen_guard', 'Headphones'],\n",
              "      dtype='object')"
            ]
          },
          "metadata": {
            "tags": []
          },
          "execution_count": 44
        }
      ]
    },
    {
      "cell_type": "code",
      "metadata": {
        "id": "0rhrYWTrF128",
        "colab_type": "code",
        "outputId": "4ca3e7fa-0a89-4e6d-ff80-c1c87751f439",
        "colab": {
          "base_uri": "https://localhost:8080/",
          "height": 458
        }
      },
      "source": [
        "plt.figure(figsize=(10,7))\n",
        "countplots = sns.countplot(x = \"OS\", data = data, hue = \"Gender\")\n",
        "countplots.legend()\n",
        "plt.title('Distribution of Operating System')\n",
        "plt.xlabel('Operating System')\n",
        "countplots.figure.savefig(\"/content/Countplots/OS_2.jpeg\")"
      ],
      "execution_count": 0,
      "outputs": [
        {
          "output_type": "display_data",
          "data": {
            "image/png": "[encoded data removed]",
            "text/plain": [
              "<Figure size 720x504 with 1 Axes>"
            ]
          },
          "metadata": {
            "tags": []
          }
        }
      ]
    },
    {
      "cell_type": "code",
      "metadata": {
        "id": "KE4EC5_hHA8l",
        "colab_type": "code",
        "outputId": "36332f10-f3eb-45fc-9874-e8fe477dccf1",
        "colab": {
          "base_uri": "https://localhost:8080/",
          "height": 137
        }
      },
      "source": [
        "columns"
      ],
      "execution_count": 0,
      "outputs": [
        {
          "output_type": "execute_result",
          "data": {
            "text/plain": [
              "Index(['Name', 'Gender', 'Age', 'Brand', 'Cost', 'Place', 'Reason', 'OS',\n",
              "       'Satisfactioin_OS', 'Brand_importance', 'Brand_influence',\n",
              "       'Phone_upgradation', 'Upgrad_same_brand', 'Try_New_OS',\n",
              "       'Quality_vs_Price', 'Similar_phone_other_brand',\n",
              "       'Mobile_network_charges', 'View', 'Applications_payable', 'Income',\n",
              "       'Phone_cases', 'Screen_guard', 'Headphones'],\n",
              "      dtype='object')"
            ]
          },
          "metadata": {
            "tags": []
          },
          "execution_count": 50
        }
      ]
    },
    {
      "cell_type": "code",
      "metadata": {
        "id": "5D4tl9_8GXrY",
        "colab_type": "code",
        "outputId": "83b50d13-4639-4349-aa4e-46cb2784c46d",
        "colab": {
          "base_uri": "https://localhost:8080/",
          "height": 475
        }
      },
      "source": [
        "plt.figure(figsize=(10,7))\n",
        "countplots = sns.countplot(x = \"Phone_upgradation\", data = data)\n",
        "countplots.legend()\n",
        "plt.title('Distribution of Time taken to Upgrade their Phone')\n",
        "plt.xlabel('Phone Upgradation')\n",
        "countplots.figure.savefig(\"/content/Countplots/Phone_upgradation.jpeg\")"
      ],
      "execution_count": 0,
      "outputs": [
        {
          "output_type": "stream",
          "text": [
            "No handles with labels found to put in legend.\n"
          ],
          "name": "stderr"
        },
        {
          "output_type": "display_data",
          "data": {
            "image/png": "[encoded data removed]",
            "text/plain": [
              "<Figure size 720x504 with 1 Axes>"
            ]
          },
          "metadata": {
            "tags": []
          }
        }
      ]
    },
    {
      "cell_type": "code",
      "metadata": {
        "id": "XEI7csDtHKMM",
        "colab_type": "code",
        "outputId": "905170bc-6563-4f4d-dda8-a5dc69bf9e0e",
        "colab": {
          "base_uri": "https://localhost:8080/",
          "height": 440
        }
      },
      "source": [
        "plt.figure(figsize=(20,7))\n",
        "countplots = sns.countplot(hue = \"Upgrad_same_brand\", data = data, x = \"Brand\")\n",
        "countplots.legend()\n",
        "plt.title('Distribution of Buying new Smartphone of Same Brand')\n",
        "#plt.xlabel('Phone Upgradation')\n",
        "countplots.figure.savefig(\"/content/Countplots/Same_brand_2.jpeg\")"
      ],
      "execution_count": 0,
      "outputs": [
        {
          "output_type": "display_data",
          "data": {
            "image/png": "[encoded data removed]",
            "text/plain": [
              "<Figure size 1440x504 with 1 Axes>"
            ]
          },
          "metadata": {
            "tags": []
          }
        }
      ]
    },
    {
      "cell_type": "code",
      "metadata": {
        "id": "1L06HLuDJdEQ",
        "colab_type": "code",
        "outputId": "49810486-d848-4a29-bfbe-dfdf48ac7b0a",
        "colab": {
          "base_uri": "https://localhost:8080/",
          "height": 137
        }
      },
      "source": [
        "columns"
      ],
      "execution_count": 0,
      "outputs": [
        {
          "output_type": "execute_result",
          "data": {
            "text/plain": [
              "Index(['Name', 'Gender', 'Age', 'Brand', 'Cost', 'Place', 'Reason', 'OS',\n",
              "       'Satisfactioin_OS', 'Brand_importance', 'Brand_influence',\n",
              "       'Phone_upgradation', 'Upgrad_same_brand', 'Try_New_OS',\n",
              "       'Quality_vs_Price', 'Similar_phone_other_brand',\n",
              "       'Mobile_network_charges', 'View', 'Applications_payable', 'Income',\n",
              "       'Phone_cases', 'Screen_guard', 'Headphones'],\n",
              "      dtype='object')"
            ]
          },
          "metadata": {
            "tags": []
          },
          "execution_count": 66
        }
      ]
    },
    {
      "cell_type": "code",
      "metadata": {
        "id": "gye5De-2JiXo",
        "colab_type": "code",
        "outputId": "d0e17607-fc59-49c0-ca39-cd7e61a35c56",
        "colab": {
          "base_uri": "https://localhost:8080/",
          "height": 458
        }
      },
      "source": [
        "plt.figure(figsize=(10,7))\n",
        "countplots = sns.countplot(hue = \"Try_New_OS\", data = data, x = \"OS\")\n",
        "countplots.legend(loc = \"upper right\")\n",
        "plt.title('Distribution of trying a new Operating System')\n",
        "plt.xlabel('OS')\n",
        "countplots.figure.savefig(\"/content/Countplots/Try_New_OS_2.jpeg\")"
      ],
      "execution_count": 0,
      "outputs": [
        {
          "output_type": "display_data",
          "data": {
            "image/png": "[encoded data removed]",
            "text/plain": [
              "<Figure size 720x504 with 1 Axes>"
            ]
          },
          "metadata": {
            "tags": []
          }
        }
      ]
    },
    {
      "cell_type": "code",
      "metadata": {
        "id": "0U40X1y8Bone",
        "colab_type": "code",
        "outputId": "51481e95-76e7-4f50-a4aa-9509c8ee2b7d",
        "colab": {
          "base_uri": "https://localhost:8080/",
          "height": 458
        }
      },
      "source": [
        "plt.figure(figsize=(10,7))\n",
        "countplots = sns.countplot(hue = \"OS\", data = data, x = \"Satisfactioin_OS\")\n",
        "countplots.legend(loc = \"upper right\")\n",
        "plt.title('Distribution of trying a new Operating System')\n",
        "plt.xlabel('OS')\n",
        "countplots.figure.savefig(\"OSS.jpeg\")"
      ],
      "execution_count": 0,
      "outputs": [
        {
          "output_type": "display_data",
          "data": {
            "image/png": "[encoded data removed]",
            "text/plain": [
              "<Figure size 720x504 with 1 Axes>"
            ]
          },
          "metadata": {
            "tags": [],
            "needs_background": "light"
          }
        }
      ]
    },
    {
      "cell_type": "code",
      "metadata": {
        "id": "-RgeBxjoJ0_7",
        "colab_type": "code",
        "outputId": "4f0621c8-ef13-4fd8-8d3e-c97e9cd79c00",
        "colab": {
          "base_uri": "https://localhost:8080/",
          "height": 440
        }
      },
      "source": [
        "plt.figure(figsize=(20,7))\n",
        "countplots = sns.countplot(hue = \"Quality_vs_Price\", data = data, x = \"Gender\")\n",
        "countplots.legend()\n",
        "plt.title('Distribution of Consumer behavior on Quality and Price')\n",
        "#plt.xlabel('Phone Upgradation')\n",
        "countplots.figure.savefig(\"/content/Countplots/QvsP_3.jpeg\")"
      ],
      "execution_count": 0,
      "outputs": [
        {
          "output_type": "display_data",
          "data": {
            "image/png": "[encoded data removed]",
            "text/plain": [
              "<Figure size 1440x504 with 1 Axes>"
            ]
          },
          "metadata": {
            "tags": []
          }
        }
      ]
    },
    {
      "cell_type": "code",
      "metadata": {
        "id": "WSrzVRhnKxg-",
        "colab_type": "code",
        "outputId": "529be632-c2f2-4706-959b-61adfe3952ff",
        "colab": {
          "base_uri": "https://localhost:8080/",
          "height": 440
        }
      },
      "source": [
        "plt.figure(figsize=(20,7))\n",
        "countplots = sns.countplot(hue = \"Similar_phone_other_brand\", data = data, x = \"Brand\")\n",
        "countplots.legend()\n",
        "plt.title('Distribution of Consumer behavior on Brand and Price')\n",
        "plt.xlabel('Similar Phone other Brand')\n",
        "countplots.figure.savefig(\"/content/Countplots/SPOB_2.jpeg\")"
      ],
      "execution_count": 0,
      "outputs": [
        {
          "output_type": "display_data",
          "data": {
            "image/png": "[encoded data removed]",
            "text/plain": [
              "<Figure size 1440x504 with 1 Axes>"
            ]
          },
          "metadata": {
            "tags": []
          }
        }
      ]
    },
    {
      "cell_type": "code",
      "metadata": {
        "id": "EFWQWaoKLkWW",
        "colab_type": "code",
        "colab": {}
      },
      "source": [
        ""
      ],
      "execution_count": 0,
      "outputs": []
    },
    {
      "cell_type": "code",
      "metadata": {
        "id": "MPbQR58QMG6U",
        "colab_type": "code",
        "outputId": "074811dd-f188-4742-bdd9-a57790321da6",
        "colab": {
          "base_uri": "https://localhost:8080/",
          "height": 123
        }
      },
      "source": [
        "from google.colab import drive\n",
        "drive.mount('/content/drive/')"
      ],
      "execution_count": 0,
      "outputs": [
        {
          "output_type": "stream",
          "text": [
            "Go to this URL in a browser: https://accounts.google.com/o/oauth2/auth?client_id=947318989803-6bn6qk8qdgf4n4g3pfee6491hc0brc4i.apps.googleusercontent.com&redirect_uri=urn%3aietf%3awg%3aoauth%3a2.0%3aoob&response_type=code&scope=email%20https%3a%2f%2fwww.googleapis.com%2fauth%2fdocs.test%20https%3a%2f%2fwww.googleapis.com%2fauth%2fdrive%20https%3a%2f%2fwww.googleapis.com%2fauth%2fdrive.photos.readonly%20https%3a%2f%2fwww.googleapis.com%2fauth%2fpeopleapi.readonly\n",
            "\n",
            "Enter your authorization code:\n",
            "··········\n",
            "Mounted at /content/drive/\n"
          ],
          "name": "stdout"
        }
      ]
    },
    {
      "cell_type": "code",
      "metadata": {
        "id": "2cGUf6JJMLiU",
        "colab_type": "code",
        "outputId": "32009774-27ed-4ff6-f2fd-e19139492bc3",
        "colab": {
          "base_uri": "https://localhost:8080/",
          "height": 361
        }
      },
      "source": [
        "!zip -r /content/Countplots.zip /content/Countplots\n"
      ],
      "execution_count": 0,
      "outputs": [
        {
          "output_type": "stream",
          "text": [
            "updating: content/Countplots/ (stored 0%)\n",
            "  adding: content/Countplots/Same_brand.jpeg (deflated 42%)\n",
            "  adding: content/Countplots/Brand_Distribution.jpeg (deflated 49%)\n",
            "  adding: content/Countplots/QvsP_2.jpeg (deflated 48%)\n",
            "  adding: content/Countplots/Try_New_OS_2.jpeg (deflated 44%)\n",
            "  adding: content/Countplots/Try_New_OS.jpeg (deflated 44%)\n",
            "  adding: content/Countplots/Sex_Distribution.jpeg (deflated 56%)\n",
            "  adding: content/Countplots/OS.jpeg (deflated 51%)\n",
            "  adding: content/Countplots/.ipynb_checkpoints/ (stored 0%)\n",
            "  adding: content/Countplots/Brand_Distribution_2.jpeg (deflated 51%)\n",
            "  adding: content/Countplots/Age_Distribution.jpeg (deflated 53%)\n",
            "  adding: content/Countplots/SPOB.jpeg (deflated 60%)\n",
            "  adding: content/Countplots/QvsP.jpeg (deflated 45%)\n",
            "  adding: content/Countplots/Same_brand_2.jpeg (deflated 45%)\n",
            "  adding: content/Countplots/SPOB_2.jpeg (deflated 48%)\n",
            "  adding: content/Countplots/Age_Distribution_2.jpeg (deflated 47%)\n",
            "  adding: content/Countplots/QvsP_3.jpeg (deflated 59%)\n",
            "  adding: content/Countplots/Phone_upgradation.jpeg (deflated 45%)\n",
            "  adding: content/Countplots/OS_2.jpeg (deflated 45%)\n",
            "  adding: content/Countplots/Brand_importance.jpeg (deflated 51%)\n"
          ],
          "name": "stdout"
        }
      ]
    },
    {
      "cell_type": "code",
      "metadata": {
        "id": "_cXn4e9VNcnc",
        "colab_type": "code",
        "colab": {}
      },
      "source": [
        "youtube_reviews = [1]*98 + 10*[0]\n",
        "family_friends = [0]*62 + 46*[1]\n",
        "advertisements = [0]*80 +  28*[1]"
      ],
      "execution_count": 0,
      "outputs": []
    },
    {
      "cell_type": "code",
      "metadata": {
        "id": "w0ZOAQBqtXS8",
        "colab_type": "code",
        "colab": {}
      },
      "source": [
        "import random\n",
        "random.shuffle(youtube_reviews)\n",
        "random.shuffle(family_friends)\n",
        "random.shuffle(advertisements)"
      ],
      "execution_count": 0,
      "outputs": []
    },
    {
      "cell_type": "code",
      "metadata": {
        "id": "4jyISE82tezs",
        "colab_type": "code",
        "colab": {}
      },
      "source": [
        "data[\"reviews\"] = youtube_reviews\n",
        "data[\"ad\"] = advertisements\n",
        "data[\"family_friends\"] = family_friends\n",
        "\n"
      ],
      "execution_count": 0,
      "outputs": []
    },
    {
      "cell_type": "code",
      "metadata": {
        "id": "Q1qSeRU4tk5T",
        "colab_type": "code",
        "outputId": "e5a3e2d3-1624-4171-ab19-340850d76d98",
        "colab": {
          "base_uri": "https://localhost:8080/",
          "height": 309
        }
      },
      "source": [
        "data.head()"
      ],
      "execution_count": 0,
      "outputs": [
        {
          "output_type": "execute_result",
          "data": {
            "text/html": [
              "<div>\n",
              "<style scoped>\n",
              "    .dataframe tbody tr th:only-of-type {\n",
              "        vertical-align: middle;\n",
              "    }\n",
              "\n",
              "    .dataframe tbody tr th {\n",
              "        vertical-align: top;\n",
              "    }\n",
              "\n",
              "    .dataframe thead th {\n",
              "        text-align: right;\n",
              "    }\n",
              "</style>\n",
              "<table border=\"1\" class=\"dataframe\">\n",
              "  <thead>\n",
              "    <tr style=\"text-align: right;\">\n",
              "      <th></th>\n",
              "      <th>Name</th>\n",
              "      <th>Gender</th>\n",
              "      <th>Age</th>\n",
              "      <th>Brand</th>\n",
              "      <th>Cost</th>\n",
              "      <th>Place</th>\n",
              "      <th>Reason</th>\n",
              "      <th>OS</th>\n",
              "      <th>Satisfactioin_OS</th>\n",
              "      <th>Brand_importance</th>\n",
              "      <th>Brand_influence</th>\n",
              "      <th>Phone_upgradation</th>\n",
              "      <th>Upgrad_same_brand</th>\n",
              "      <th>Try_New_OS</th>\n",
              "      <th>Quality_vs_Price</th>\n",
              "      <th>Similar_phone_other_brand</th>\n",
              "      <th>Mobile_network_charges</th>\n",
              "      <th>View</th>\n",
              "      <th>Applications_payable</th>\n",
              "      <th>Income</th>\n",
              "      <th>Phone_cases</th>\n",
              "      <th>Screen_guard</th>\n",
              "      <th>Headphones</th>\n",
              "      <th>reviews</th>\n",
              "    </tr>\n",
              "  </thead>\n",
              "  <tbody>\n",
              "    <tr>\n",
              "      <th>0</th>\n",
              "      <td>Yasha</td>\n",
              "      <td>Female</td>\n",
              "      <td>20-24</td>\n",
              "      <td>Nokia</td>\n",
              "      <td>15000.0000</td>\n",
              "      <td>Online</td>\n",
              "      <td>Reputation</td>\n",
              "      <td>Android</td>\n",
              "      <td>4</td>\n",
              "      <td>5</td>\n",
              "      <td>Yes</td>\n",
              "      <td>2 year</td>\n",
              "      <td>Maybe</td>\n",
              "      <td>Maybe</td>\n",
              "      <td>High-quality</td>\n",
              "      <td>Yes</td>\n",
              "      <td>Less Network charges</td>\n",
              "      <td>Necessity</td>\n",
              "      <td>No</td>\n",
              "      <td>1 - 5 lakh</td>\n",
              "      <td>1</td>\n",
              "      <td>0</td>\n",
              "      <td>0</td>\n",
              "      <td>1</td>\n",
              "    </tr>\n",
              "    <tr>\n",
              "      <th>1</th>\n",
              "      <td>Anfas</td>\n",
              "      <td>Male</td>\n",
              "      <td>20-24</td>\n",
              "      <td>Real me</td>\n",
              "      <td>12000.0000</td>\n",
              "      <td>Kerala</td>\n",
              "      <td>Quality</td>\n",
              "      <td>Android</td>\n",
              "      <td>4</td>\n",
              "      <td>4</td>\n",
              "      <td>Maybe</td>\n",
              "      <td>more than 2 year</td>\n",
              "      <td>No</td>\n",
              "      <td>Maybe</td>\n",
              "      <td>Lower price</td>\n",
              "      <td>Maybe</td>\n",
              "      <td>Data at discounted rate</td>\n",
              "      <td>Necessity</td>\n",
              "      <td>Maybe</td>\n",
              "      <td>5 - 10 lakh</td>\n",
              "      <td>1</td>\n",
              "      <td>1</td>\n",
              "      <td>0</td>\n",
              "      <td>1</td>\n",
              "    </tr>\n",
              "    <tr>\n",
              "      <th>2</th>\n",
              "      <td>Gokul Menon</td>\n",
              "      <td>Male</td>\n",
              "      <td>20-24</td>\n",
              "      <td>Oneplus</td>\n",
              "      <td>32999.0000</td>\n",
              "      <td>Kerala</td>\n",
              "      <td>Quality</td>\n",
              "      <td>Android</td>\n",
              "      <td>5</td>\n",
              "      <td>3</td>\n",
              "      <td>Yes</td>\n",
              "      <td>more than 2 year</td>\n",
              "      <td>Yes</td>\n",
              "      <td>No</td>\n",
              "      <td>High-quality</td>\n",
              "      <td>No</td>\n",
              "      <td>Less Network charges</td>\n",
              "      <td>Necessity</td>\n",
              "      <td>Yes</td>\n",
              "      <td>1 - 5 lakh</td>\n",
              "      <td>1</td>\n",
              "      <td>1</td>\n",
              "      <td>0</td>\n",
              "      <td>1</td>\n",
              "    </tr>\n",
              "    <tr>\n",
              "      <th>3</th>\n",
              "      <td>Allen John</td>\n",
              "      <td>Male</td>\n",
              "      <td>20-24</td>\n",
              "      <td>Oneplus</td>\n",
              "      <td>53000.0000</td>\n",
              "      <td>Karnataka</td>\n",
              "      <td>Performance</td>\n",
              "      <td>Android</td>\n",
              "      <td>5</td>\n",
              "      <td>4</td>\n",
              "      <td>Maybe</td>\n",
              "      <td>2 year</td>\n",
              "      <td>Yes</td>\n",
              "      <td>Yes</td>\n",
              "      <td>High-quality</td>\n",
              "      <td>Maybe</td>\n",
              "      <td>Data at discounted rate</td>\n",
              "      <td>Luxury</td>\n",
              "      <td>No</td>\n",
              "      <td>5 - 10 lakh</td>\n",
              "      <td>1</td>\n",
              "      <td>1</td>\n",
              "      <td>0</td>\n",
              "      <td>1</td>\n",
              "    </tr>\n",
              "    <tr>\n",
              "      <th>4</th>\n",
              "      <td>Vivek Yadav</td>\n",
              "      <td>Male</td>\n",
              "      <td>20-24</td>\n",
              "      <td>Oneplus</td>\n",
              "      <td>37749.9375</td>\n",
              "      <td>Online</td>\n",
              "      <td>Performance</td>\n",
              "      <td>Android</td>\n",
              "      <td>4</td>\n",
              "      <td>4</td>\n",
              "      <td>Yes</td>\n",
              "      <td>2 year</td>\n",
              "      <td>Maybe</td>\n",
              "      <td>No</td>\n",
              "      <td>High-quality</td>\n",
              "      <td>Maybe</td>\n",
              "      <td>Data at discounted rate</td>\n",
              "      <td>Luxury</td>\n",
              "      <td>Yes</td>\n",
              "      <td>5 - 10 lakh</td>\n",
              "      <td>1</td>\n",
              "      <td>1</td>\n",
              "      <td>0</td>\n",
              "      <td>1</td>\n",
              "    </tr>\n",
              "  </tbody>\n",
              "</table>\n",
              "</div>"
            ],
            "text/plain": [
              "          Name  Gender    Age  ... Screen_guard  Headphones reviews\n",
              "0       Yasha   Female  20-24  ...            0           0       1\n",
              "1        Anfas    Male  20-24  ...            1           0       1\n",
              "2  Gokul Menon    Male  20-24  ...            1           0       1\n",
              "3   Allen John    Male  20-24  ...            1           0       1\n",
              "4  Vivek Yadav    Male  20-24  ...            1           0       1\n",
              "\n",
              "[5 rows x 24 columns]"
            ]
          },
          "metadata": {
            "tags": []
          },
          "execution_count": 18
        }
      ]
    },
    {
      "cell_type": "code",
      "metadata": {
        "id": "LfmmPN4T2lBD",
        "colab_type": "code",
        "outputId": "7c6db4fc-1160-47d1-8559-face82640fec",
        "colab": {
          "base_uri": "https://localhost:8080/",
          "height": 69
        }
      },
      "source": [
        "data.Gender.value_counts()"
      ],
      "execution_count": 0,
      "outputs": [
        {
          "output_type": "execute_result",
          "data": {
            "text/plain": [
              "Male      81\n",
              "Female    27\n",
              "Name: Gender, dtype: int64"
            ]
          },
          "metadata": {
            "tags": []
          },
          "execution_count": 30
        }
      ]
    },
    {
      "cell_type": "code",
      "metadata": {
        "id": "4ulS3bHcyYrD",
        "colab_type": "code",
        "outputId": "df61f175-ca09-458a-fc22-dec0530863d4",
        "colab": {
          "base_uri": "https://localhost:8080/",
          "height": 281
        }
      },
      "source": [
        "plt.figure(figsize=(20,20))\n",
        "labels = 'Male', 'Female'\n",
        "sizes = 81, 27\n",
        "explode = (0, 0.1)  # only \"explode\" the 2nd slice (i.e. 'Hogs')\n",
        "\n",
        "fig1, ax1 = plt.subplots()\n",
        "ax1.pie(sizes, explode=explode, labels=labels, autopct='%1.1f%%',\n",
        "        shadow=True, startangle=90)\n",
        "ax1.axis('equal')  # Equal aspect ratio ensures that pie is drawn as a circle.\n",
        "plt.title(\"Gender Distribution\")\n",
        "plt.show()\n",
        "fig1.savefig(\"Male-Female.jpeg\")"
      ],
      "execution_count": 0,
      "outputs": [
        {
          "output_type": "display_data",
          "data": {
            "text/plain": [
              "<Figure size 1440x1440 with 0 Axes>"
            ]
          },
          "metadata": {
            "tags": []
          }
        },
        {
          "output_type": "display_data",
          "data": {
            "image/png": "[encoded data removed]",
            "text/plain": [
              "<Figure size 432x288 with 1 Axes>"
            ]
          },
          "metadata": {
            "tags": []
          }
        }
      ]
    },
    {
      "cell_type": "code",
      "metadata": {
        "id": "xpAOprONSMdZ",
        "colab_type": "code",
        "outputId": "867da0a7-9c96-4e7e-c7f7-505b432a84fb",
        "colab": {
          "base_uri": "https://localhost:8080/",
          "height": 155
        }
      },
      "source": [
        "data.columns"
      ],
      "execution_count": 0,
      "outputs": [
        {
          "output_type": "execute_result",
          "data": {
            "text/plain": [
              "Index(['Name', 'Gender', 'Age', 'Brand', 'Cost', 'Place', 'Reason', 'OS',\n",
              "       'Satisfactioin_OS', 'Brand_importance', 'Brand_influence',\n",
              "       'Phone_upgradation', 'Upgrad_same_brand', 'Try_New_OS',\n",
              "       'Quality_vs_Price', 'Similar_phone_other_brand',\n",
              "       'Mobile_network_charges', 'View', 'Applications_payable', 'Income',\n",
              "       'Phone_cases', 'Screen_guard', 'Headphones', 'reviews', 'ad',\n",
              "       'family_friends'],\n",
              "      dtype='object')"
            ]
          },
          "metadata": {
            "tags": []
          },
          "execution_count": 39
        }
      ]
    },
    {
      "cell_type": "code",
      "metadata": {
        "id": "9CDIZ1LOSOsu",
        "colab_type": "code",
        "outputId": "3528a247-14a0-4664-98d6-f5c00ad42605",
        "colab": {
          "base_uri": "https://localhost:8080/",
          "height": 343
        }
      },
      "source": [
        "data[[\"reviews\", \"ad\", \"family_friends\"]].sum().plot(kind = \"bar\")"
      ],
      "execution_count": 0,
      "outputs": [
        {
          "output_type": "execute_result",
          "data": {
            "text/plain": [
              "<matplotlib.axes._subplots.AxesSubplot at 0x7f0b3b3f34a8>"
            ]
          },
          "metadata": {
            "tags": []
          },
          "execution_count": 52
        },
        {
          "output_type": "display_data",
          "data": {
            "image/png": "[encoded data removed]",
            "text/plain": [
              "<Figure size 432x288 with 1 Axes>"
            ]
          },
          "metadata": {
            "tags": [],
            "needs_background": "light"
          }
        }
      ]
    },
    {
      "cell_type": "code",
      "metadata": {
        "id": "95a1UuI40VnY",
        "colab_type": "code",
        "outputId": "27f53c65-ffa6-4e7a-a83f-9a31b4cba5b3",
        "colab": {
          "base_uri": "https://localhost:8080/",
          "height": 344
        }
      },
      "source": [
        "data.groupby(\"Brand\").mean()[\"Cost\"]"
      ],
      "execution_count": 0,
      "outputs": [
        {
          "output_type": "execute_result",
          "data": {
            "text/plain": [
              "Brand\n",
              "Apple       62000.000000\n",
              "Asus        11500.000000\n",
              "Coolpad     20000.000000\n",
              "HTC         20000.000000\n",
              "Honor        8000.000000\n",
              "Huawei      14999.000000\n",
              "Lenovo      10000.000000\n",
              "Micromax     8000.000000\n",
              "Motorola    14857.142857\n",
              "Nokia       20333.333333\n",
              "Oneplus     37749.937500\n",
              "Oppo        14666.666667\n",
              "Real me     13999.875000\n",
              "Samsung     20656.250000\n",
              "Sony        20000.000000\n",
              "Vivo        13875.000000\n",
              "Xiomi       12880.000000\n",
              "Name: Cost, dtype: float64"
            ]
          },
          "metadata": {
            "tags": []
          },
          "execution_count": 123
        }
      ]
    },
    {
      "cell_type": "code",
      "metadata": {
        "id": "9M4O9zJ01Cnr",
        "colab_type": "code",
        "outputId": "11c56e20-c1a2-485a-cb26-a94554e40949",
        "colab": {
          "base_uri": "https://localhost:8080/",
          "height": 309
        }
      },
      "source": [
        "data[data[\"Cost\"] <= 20000][\"Brand\"].value_counts()"
      ],
      "execution_count": 0,
      "outputs": [
        {
          "output_type": "execute_result",
          "data": {
            "text/plain": [
              "Xiomi       26\n",
              "Samsung     13\n",
              "Motorola     8\n",
              "Real me      8\n",
              "Vivo         7\n",
              "Oppo         2\n",
              "Asus         2\n",
              "Nokia        2\n",
              "Micromax     1\n",
              "Huawei       1\n",
              "Lenovo       1\n",
              "Honor        1\n",
              "Coolpad      1\n",
              "Sony         1\n",
              "Apple        1\n",
              "HTC          1\n",
              "Name: Brand, dtype: int64"
            ]
          },
          "metadata": {
            "tags": []
          },
          "execution_count": 146
        }
      ]
    },
    {
      "cell_type": "code",
      "metadata": {
        "id": "nJRqQ44z1Pmr",
        "colab_type": "code",
        "outputId": "83706650-972e-45ac-98aa-83524cca5a77",
        "colab": {
          "base_uri": "https://localhost:8080/",
          "height": 649
        }
      },
      "source": [
        "plt.figure(figsize=(20,7))\n",
        "fig, (ax1, ax2) = plt.subplots(1, 2)\n",
        "fig.suptitle('Brands and Cost')\n",
        "ax1.bar(data[data[\"Cost\"] <= 20000][\"Brand\"].value_counts())\n",
        "ax1.set_title(\"Smartphones under 25000\")\n",
        "countplots.legend()\n",
        "plt.title('Influencers')\n",
        "plt.xlabel('Influencers')\n",
        "countplots.figure.savefig(\"LOL.jpeg\")\n",
        "\n"
      ],
      "execution_count": 0,
      "outputs": [
        {
          "output_type": "error",
          "ename": "TypeError",
          "evalue": "ignored",
          "traceback": [
            "\u001b[0;31m---------------------------------------------------------------------------\u001b[0m",
            "\u001b[0;31mTypeError\u001b[0m                                 Traceback (most recent call last)",
            "\u001b[0;32m<ipython-input-157-8adcc2309089>\u001b[0m in \u001b[0;36m<module>\u001b[0;34m()\u001b[0m\n\u001b[1;32m      2\u001b[0m \u001b[0mfig\u001b[0m\u001b[0;34m,\u001b[0m \u001b[0;34m(\u001b[0m\u001b[0max1\u001b[0m\u001b[0;34m,\u001b[0m \u001b[0max2\u001b[0m\u001b[0;34m)\u001b[0m \u001b[0;34m=\u001b[0m \u001b[0mplt\u001b[0m\u001b[0;34m.\u001b[0m\u001b[0msubplots\u001b[0m\u001b[0;34m(\u001b[0m\u001b[0;36m1\u001b[0m\u001b[0;34m,\u001b[0m \u001b[0;36m2\u001b[0m\u001b[0;34m)\u001b[0m\u001b[0;34m\u001b[0m\u001b[0;34m\u001b[0m\u001b[0m\n\u001b[1;32m      3\u001b[0m \u001b[0mfig\u001b[0m\u001b[0;34m.\u001b[0m\u001b[0msuptitle\u001b[0m\u001b[0;34m(\u001b[0m\u001b[0;34m'Brands and Cost'\u001b[0m\u001b[0;34m)\u001b[0m\u001b[0;34m\u001b[0m\u001b[0;34m\u001b[0m\u001b[0m\n\u001b[0;32m----> 4\u001b[0;31m \u001b[0max1\u001b[0m\u001b[0;34m.\u001b[0m\u001b[0mbar\u001b[0m\u001b[0;34m(\u001b[0m\u001b[0mdata\u001b[0m\u001b[0;34m[\u001b[0m\u001b[0mdata\u001b[0m\u001b[0;34m[\u001b[0m\u001b[0;34m\"Cost\"\u001b[0m\u001b[0;34m]\u001b[0m \u001b[0;34m<=\u001b[0m \u001b[0;36m20000\u001b[0m\u001b[0;34m]\u001b[0m\u001b[0;34m[\u001b[0m\u001b[0;34m\"Brand\"\u001b[0m\u001b[0;34m]\u001b[0m\u001b[0;34m.\u001b[0m\u001b[0mvalue_counts\u001b[0m\u001b[0;34m(\u001b[0m\u001b[0;34m)\u001b[0m\u001b[0;34m)\u001b[0m\u001b[0;34m\u001b[0m\u001b[0;34m\u001b[0m\u001b[0m\n\u001b[0m\u001b[1;32m      5\u001b[0m \u001b[0max1\u001b[0m\u001b[0;34m.\u001b[0m\u001b[0mset_title\u001b[0m\u001b[0;34m(\u001b[0m\u001b[0;34m\"Smartphones under 25000\"\u001b[0m\u001b[0;34m)\u001b[0m\u001b[0;34m\u001b[0m\u001b[0;34m\u001b[0m\u001b[0m\n\u001b[1;32m      6\u001b[0m \u001b[0mcountplots\u001b[0m\u001b[0;34m.\u001b[0m\u001b[0mlegend\u001b[0m\u001b[0;34m(\u001b[0m\u001b[0;34m)\u001b[0m\u001b[0;34m\u001b[0m\u001b[0;34m\u001b[0m\u001b[0m\n",
            "\u001b[0;32m/usr/local/lib/python3.6/dist-packages/matplotlib/__init__.py\u001b[0m in \u001b[0;36minner\u001b[0;34m(ax, data, *args, **kwargs)\u001b[0m\n\u001b[1;32m   1563\u001b[0m     \u001b[0;32mdef\u001b[0m \u001b[0minner\u001b[0m\u001b[0;34m(\u001b[0m\u001b[0max\u001b[0m\u001b[0;34m,\u001b[0m \u001b[0;34m*\u001b[0m\u001b[0margs\u001b[0m\u001b[0;34m,\u001b[0m \u001b[0mdata\u001b[0m\u001b[0;34m=\u001b[0m\u001b[0;32mNone\u001b[0m\u001b[0;34m,\u001b[0m \u001b[0;34m**\u001b[0m\u001b[0mkwargs\u001b[0m\u001b[0;34m)\u001b[0m\u001b[0;34m:\u001b[0m\u001b[0;34m\u001b[0m\u001b[0;34m\u001b[0m\u001b[0m\n\u001b[1;32m   1564\u001b[0m         \u001b[0;32mif\u001b[0m \u001b[0mdata\u001b[0m \u001b[0;32mis\u001b[0m \u001b[0;32mNone\u001b[0m\u001b[0;34m:\u001b[0m\u001b[0;34m\u001b[0m\u001b[0;34m\u001b[0m\u001b[0m\n\u001b[0;32m-> 1565\u001b[0;31m             \u001b[0;32mreturn\u001b[0m \u001b[0mfunc\u001b[0m\u001b[0;34m(\u001b[0m\u001b[0max\u001b[0m\u001b[0;34m,\u001b[0m \u001b[0;34m*\u001b[0m\u001b[0mmap\u001b[0m\u001b[0;34m(\u001b[0m\u001b[0msanitize_sequence\u001b[0m\u001b[0;34m,\u001b[0m \u001b[0margs\u001b[0m\u001b[0;34m)\u001b[0m\u001b[0;34m,\u001b[0m \u001b[0;34m**\u001b[0m\u001b[0mkwargs\u001b[0m\u001b[0;34m)\u001b[0m\u001b[0;34m\u001b[0m\u001b[0;34m\u001b[0m\u001b[0m\n\u001b[0m\u001b[1;32m   1566\u001b[0m \u001b[0;34m\u001b[0m\u001b[0m\n\u001b[1;32m   1567\u001b[0m         \u001b[0mbound\u001b[0m \u001b[0;34m=\u001b[0m \u001b[0mnew_sig\u001b[0m\u001b[0;34m.\u001b[0m\u001b[0mbind\u001b[0m\u001b[0;34m(\u001b[0m\u001b[0max\u001b[0m\u001b[0;34m,\u001b[0m \u001b[0;34m*\u001b[0m\u001b[0margs\u001b[0m\u001b[0;34m,\u001b[0m \u001b[0;34m**\u001b[0m\u001b[0mkwargs\u001b[0m\u001b[0;34m)\u001b[0m\u001b[0;34m\u001b[0m\u001b[0;34m\u001b[0m\u001b[0m\n",
            "\u001b[0;31mTypeError\u001b[0m: bar() missing 1 required positional argument: 'height'"
          ]
        },
        {
          "output_type": "display_data",
          "data": {
            "text/plain": [
              "<Figure size 1440x504 with 0 Axes>"
            ]
          },
          "metadata": {
            "tags": []
          }
        },
        {
          "output_type": "display_data",
          "data": {
            "image/png": "[encoded data removed]",
            "text/plain": [
              "<Figure size 432x288 with 2 Axes>"
            ]
          },
          "metadata": {
            "tags": [],
            "needs_background": "light"
          }
        }
      ]
    },
    {
      "cell_type": "code",
      "metadata": {
        "id": "hUp0hgTdSn0e",
        "colab_type": "code",
        "outputId": "5cfd2797-e1dd-4459-efc7-8aa625a42a94",
        "colab": {
          "base_uri": "https://localhost:8080/",
          "height": 456
        }
      },
      "source": [
        "plt.figure(figsize=(20,7))\n",
        "countplots = sns.countplot(data = data, x = \"Reason\")\n",
        "countplots.legend()\n",
        "plt.title('Distribution of Consumer behavior')\n",
        "plt.xlabel('Reason')\n",
        "countplots.figure.savefig(\"Reason.jpeg\")"
      ],
      "execution_count": 0,
      "outputs": [
        {
          "output_type": "stream",
          "text": [
            "No handles with labels found to put in legend.\n"
          ],
          "name": "stderr"
        },
        {
          "output_type": "display_data",
          "data": {
            "image/png": "[encoded data removed]",
            "text/plain": [
              "<Figure size 1440x504 with 1 Axes>"
            ]
          },
          "metadata": {
            "tags": []
          }
        }
      ]
    },
    {
      "cell_type": "code",
      "metadata": {
        "id": "Mcxkfruteo0s",
        "colab_type": "code",
        "outputId": "4b522a64-2011-4943-c35c-b7af8f62a038",
        "colab": {
          "base_uri": "https://localhost:8080/",
          "height": 475
        }
      },
      "source": [
        "plt.figure(figsize=(10,7))\n",
        "countplots = sns.distplot(data.Cost, bins = 50, kde = False, color=\"Red\")\n",
        "countplots.legend()\n",
        "plt.title('Distribution of Cost of Mobile')\n",
        "plt.xlabel('Cost of the mobile')\n",
        "countplots.figure.savefig(\"Cost_2.jpeg\")"
      ],
      "execution_count": 0,
      "outputs": [
        {
          "output_type": "stream",
          "text": [
            "No handles with labels found to put in legend.\n"
          ],
          "name": "stderr"
        },
        {
          "output_type": "display_data",
          "data": {
            "image/png": "[encoded data removed]",
            "text/plain": [
              "<Figure size 720x504 with 1 Axes>"
            ]
          },
          "metadata": {
            "tags": []
          }
        }
      ]
    },
    {
      "cell_type": "code",
      "metadata": {
        "id": "I62IiH4ZkYcS",
        "colab_type": "code",
        "outputId": "592e66a0-8fa6-48e3-b1f3-deb80395c847",
        "colab": {
          "base_uri": "https://localhost:8080/",
          "height": 456
        }
      },
      "source": [
        "plt.figure(figsize=(20,7))\n",
        "countplots = sns.countplot(data = data, x = \"Place\")\n",
        "countplots.legend()\n",
        "plt.title('Distribution of Consumer behavior')\n",
        "plt.xlabel('Reason')\n",
        "countplots.figure.savefig(\"Reason.jpeg\")"
      ],
      "execution_count": 0,
      "outputs": [
        {
          "output_type": "stream",
          "text": [
            "No handles with labels found to put in legend.\n"
          ],
          "name": "stderr"
        },
        {
          "output_type": "display_data",
          "data": {
            "image/png": "[encoded data removed]",
            "text/plain": [
              "<Figure size 1440x504 with 1 Axes>"
            ]
          },
          "metadata": {
            "tags": []
          }
        }
      ]
    },
    {
      "cell_type": "code",
      "metadata": {
        "id": "8m27EjaDnbme",
        "colab_type": "code",
        "colab": {}
      },
      "source": [
        "import numpy as np\n",
        "data[\"O/R\"] = \"Retailer\""
      ],
      "execution_count": 0,
      "outputs": []
    },
    {
      "cell_type": "code",
      "metadata": {
        "id": "Ddh-7SEGrkmq",
        "colab_type": "code",
        "colab": {}
      },
      "source": [
        "for i in range(0, data.shape[0]):\n",
        "  if data.loc[i, \"Place\"] == \"Online\":\n",
        "    data.loc[i, \"O/R\"] = \"Online\""
      ],
      "execution_count": 0,
      "outputs": []
    },
    {
      "cell_type": "code",
      "metadata": {
        "id": "H4jdrjArsvC3",
        "colab_type": "code",
        "outputId": "99c4232c-9291-4299-af4b-787e7fa983fb",
        "colab": {
          "base_uri": "https://localhost:8080/",
          "height": 34
        }
      },
      "source": [
        "data[\"O/R\"].unique()"
      ],
      "execution_count": 0,
      "outputs": [
        {
          "output_type": "execute_result",
          "data": {
            "text/plain": [
              "array(['Online', 'Retailer'], dtype=object)"
            ]
          },
          "metadata": {
            "tags": []
          },
          "execution_count": 109
        }
      ]
    },
    {
      "cell_type": "code",
      "metadata": {
        "id": "oFNHAAh0sUZG",
        "colab_type": "code",
        "outputId": "9899955d-a094-4020-9d64-fe9db195cb67",
        "colab": {
          "base_uri": "https://localhost:8080/",
          "height": 475
        }
      },
      "source": [
        "plt.figure(figsize=(10,7))\n",
        "countplots = sns.countplot(data = data, x = \"O/R\")\n",
        "countplots.legend()\n",
        "plt.title('Online Vs Retailer')\n",
        "countplots.figure.savefig(\"OR.jpeg\")"
      ],
      "execution_count": 0,
      "outputs": [
        {
          "output_type": "stream",
          "text": [
            "No handles with labels found to put in legend.\n"
          ],
          "name": "stderr"
        },
        {
          "output_type": "display_data",
          "data": {
            "image/png": "[encoded data removed]",
            "text/plain": [
              "<Figure size 720x504 with 1 Axes>"
            ]
          },
          "metadata": {
            "tags": [],
            "needs_background": "light"
          }
        }
      ]
    },
    {
      "cell_type": "code",
      "metadata": {
        "id": "t65U0Ae9shDR",
        "colab_type": "code",
        "outputId": "b05f7ecd-160c-4634-eeda-7be249423327",
        "colab": {
          "base_uri": "https://localhost:8080/",
          "height": 456
        }
      },
      "source": [
        "plt.figure(figsize=(20,7))\n",
        "countplots = sns.countplot(data = data[data[\"Cost\"] > 25000], x = \"Brand\")\n",
        "countplots.legend()\n",
        "plt.title('Smartphones above 25000 ')\n",
        "plt.xlabel('Brands')\n",
        "countplots.figure.savefig(\"S>25k.jpeg\")"
      ],
      "execution_count": 0,
      "outputs": [
        {
          "output_type": "stream",
          "text": [
            "No handles with labels found to put in legend.\n"
          ],
          "name": "stderr"
        },
        {
          "output_type": "display_data",
          "data": {
            "image/png": "[encoded data removed]",
            "text/plain": [
              "<Figure size 1440x504 with 1 Axes>"
            ]
          },
          "metadata": {
            "tags": [],
            "needs_background": "light"
          }
        }
      ]
    },
    {
      "cell_type": "code",
      "metadata": {
        "id": "75xz9qwV6QdB",
        "colab_type": "code",
        "outputId": "706b2025-35b5-4db4-ccfe-f250b8bd88bb",
        "colab": {
          "base_uri": "https://localhost:8080/",
          "height": 476
        }
      },
      "source": [
        "plt.figure(figsize=(10,7))\n",
        "countplots = sns.countplot(data = data, x = \"Brand_influence\")\n",
        "countplots.legend()\n",
        "plt.title('Whether Brand value influences their decision?')\n",
        "countplots.figure.savefig(\"Influence.jpeg\")"
      ],
      "execution_count": 0,
      "outputs": [
        {
          "output_type": "stream",
          "text": [
            "No handles with labels found to put in legend.\n"
          ],
          "name": "stderr"
        },
        {
          "output_type": "display_data",
          "data": {
            "image/png": "[encoded data removed]",
            "text/plain": [
              "<Figure size 720x504 with 1 Axes>"
            ]
          },
          "metadata": {
            "tags": [],
            "needs_background": "light"
          }
        }
      ]
    },
    {
      "cell_type": "code",
      "metadata": {
        "id": "1WJtGfFgGQiy",
        "colab_type": "code",
        "outputId": "cb1a70bf-46ef-4fb4-fc54-887ac4c46016",
        "colab": {
          "base_uri": "https://localhost:8080/",
          "height": 155
        }
      },
      "source": [
        "data.columns"
      ],
      "execution_count": 0,
      "outputs": [
        {
          "output_type": "execute_result",
          "data": {
            "text/plain": [
              "Index(['Name', 'Gender', 'Age', 'Brand', 'Cost', 'Place', 'Reason', 'OS',\n",
              "       'Satisfactioin_OS', 'Brand_importance', 'Brand_influence',\n",
              "       'Phone_upgradation', 'Upgrad_same_brand', 'Try_New_OS',\n",
              "       'Quality_vs_Price', 'Similar_phone_other_brand',\n",
              "       'Mobile_network_charges', 'View', 'Applications_payable', 'Income',\n",
              "       'Phone_cases', 'Screen_guard', 'Headphones', 'reviews', 'ad',\n",
              "       'family_friends', 'O/R'],\n",
              "      dtype='object')"
            ]
          },
          "metadata": {
            "tags": []
          },
          "execution_count": 172
        }
      ]
    },
    {
      "cell_type": "code",
      "metadata": {
        "id": "vuiAf7BL-58k",
        "colab_type": "code",
        "outputId": "fd57944a-f188-448a-e648-773995f75e45",
        "colab": {
          "base_uri": "https://localhost:8080/",
          "height": 475
        }
      },
      "source": [
        "plt.figure(figsize=(10,7))\n",
        "countplots = sns.barplot(data = data, x = [\"Phone cases\", \"Screen guard\", \"Headphones\"], y = [data.Phone_cases.sum(), data.Screen_guard.sum(), data.Headphones.sum()])\n",
        "countplots.legend()\n",
        "plt.title('Complementary Goods')\n",
        "plt.xlabel('Complementary Goods')\n",
        "countplots.figure.savefig(\"Comp.jpeg\")"
      ],
      "execution_count": 0,
      "outputs": [
        {
          "output_type": "stream",
          "text": [
            "No handles with labels found to put in legend.\n"
          ],
          "name": "stderr"
        },
        {
          "output_type": "display_data",
          "data": {
            "image/png": "[encoded data removed]",
            "text/plain": [
              "<Figure size 720x504 with 1 Axes>"
            ]
          },
          "metadata": {
            "tags": [],
            "needs_background": "light"
          }
        }
      ]
    },
    {
      "cell_type": "code",
      "metadata": {
        "id": "i_J1pCuRJ1Wf",
        "colab_type": "code",
        "outputId": "1f4faf6b-30e8-480d-b9a8-92fffc9d8895",
        "colab": {
          "base_uri": "https://localhost:8080/",
          "height": 155
        }
      },
      "source": [
        "data.columns"
      ],
      "execution_count": 0,
      "outputs": [
        {
          "output_type": "execute_result",
          "data": {
            "text/plain": [
              "Index(['Name', 'Gender', 'Age', 'Brand', 'Cost', 'Place', 'Reason', 'OS',\n",
              "       'Satisfactioin_OS', 'Brand_importance', 'Brand_influence',\n",
              "       'Phone_upgradation', 'Upgrad_same_brand', 'Try_New_OS',\n",
              "       'Quality_vs_Price', 'Similar_phone_other_brand',\n",
              "       'Mobile_network_charges', 'View', 'Applications_payable', 'Income',\n",
              "       'Phone_cases', 'Screen_guard', 'Headphones', 'reviews', 'ad',\n",
              "       'family_friends', 'O/R'],\n",
              "      dtype='object')"
            ]
          },
          "metadata": {
            "tags": []
          },
          "execution_count": 175
        }
      ]
    },
    {
      "cell_type": "code",
      "metadata": {
        "id": "aDVPiekjGjj6",
        "colab_type": "code",
        "outputId": "51ffe123-e88a-49d4-c845-18c13679ce8e",
        "colab": {
          "base_uri": "https://localhost:8080/",
          "height": 476
        }
      },
      "source": [
        "plt.figure(figsize=(10,7))\n",
        "countplots = sns.countplot(data = data, x = \"Applications_payable\")\n",
        "countplots.legend()\n",
        "plt.title('Will you use smartphone if apps are charged?')\n",
        "countplots.figure.savefig(\"app.jpeg\")"
      ],
      "execution_count": 0,
      "outputs": [
        {
          "output_type": "stream",
          "text": [
            "No handles with labels found to put in legend.\n"
          ],
          "name": "stderr"
        },
        {
          "output_type": "display_data",
          "data": {
            "image/png": "[encoded data removed]",
            "text/plain": [
              "<Figure size 720x504 with 1 Axes>"
            ]
          },
          "metadata": {
            "tags": [],
            "needs_background": "light"
          }
        }
      ]
    },
    {
      "cell_type": "code",
      "metadata": {
        "id": "ptTEUWggKFI3",
        "colab_type": "code",
        "colab": {}
      },
      "source": [
        "data.to_excel(\"LOL.xlsx\")"
      ],
      "execution_count": 0,
      "outputs": []
    },
    {
      "cell_type": "code",
      "metadata": {
        "id": "hddJJc83PGqH",
        "colab_type": "code",
        "colab": {}
      },
      "source": [
        "data = pd.read_excel(\"Final.xlsx\")"
      ],
      "execution_count": 0,
      "outputs": []
    },
    {
      "cell_type": "code",
      "metadata": {
        "id": "jSRBh2bdLYEK",
        "colab_type": "code",
        "colab": {}
      },
      "source": [
        "data = data[[\"reviews\", \"ad\", \"family_friends\"]]"
      ],
      "execution_count": 0,
      "outputs": []
    },
    {
      "cell_type": "code",
      "metadata": {
        "id": "sMHS1vsbLzO-",
        "colab_type": "code",
        "outputId": "9312b378-a6d9-4616-d560-d75f5dadc09e",
        "colab": {
          "base_uri": "https://localhost:8080/",
          "height": 203
        }
      },
      "source": [
        "data.head()"
      ],
      "execution_count": 0,
      "outputs": [
        {
          "output_type": "execute_result",
          "data": {
            "text/html": [
              "<div>\n",
              "<style scoped>\n",
              "    .dataframe tbody tr th:only-of-type {\n",
              "        vertical-align: middle;\n",
              "    }\n",
              "\n",
              "    .dataframe tbody tr th {\n",
              "        vertical-align: top;\n",
              "    }\n",
              "\n",
              "    .dataframe thead th {\n",
              "        text-align: right;\n",
              "    }\n",
              "</style>\n",
              "<table border=\"1\" class=\"dataframe\">\n",
              "  <thead>\n",
              "    <tr style=\"text-align: right;\">\n",
              "      <th></th>\n",
              "      <th>reviews</th>\n",
              "      <th>ad</th>\n",
              "      <th>family_friends</th>\n",
              "    </tr>\n",
              "  </thead>\n",
              "  <tbody>\n",
              "    <tr>\n",
              "      <th>0</th>\n",
              "      <td>1</td>\n",
              "      <td>0</td>\n",
              "      <td>1</td>\n",
              "    </tr>\n",
              "    <tr>\n",
              "      <th>1</th>\n",
              "      <td>1</td>\n",
              "      <td>0</td>\n",
              "      <td>0</td>\n",
              "    </tr>\n",
              "    <tr>\n",
              "      <th>2</th>\n",
              "      <td>1</td>\n",
              "      <td>0</td>\n",
              "      <td>1</td>\n",
              "    </tr>\n",
              "    <tr>\n",
              "      <th>3</th>\n",
              "      <td>1</td>\n",
              "      <td>0</td>\n",
              "      <td>0</td>\n",
              "    </tr>\n",
              "    <tr>\n",
              "      <th>4</th>\n",
              "      <td>1</td>\n",
              "      <td>0</td>\n",
              "      <td>0</td>\n",
              "    </tr>\n",
              "  </tbody>\n",
              "</table>\n",
              "</div>"
            ],
            "text/plain": [
              "   reviews  ad  family_friends\n",
              "0        1   0               1\n",
              "1        1   0               0\n",
              "2        1   0               1\n",
              "3        1   0               0\n",
              "4        1   0               0"
            ]
          },
          "metadata": {
            "tags": []
          },
          "execution_count": 10
        }
      ]
    },
    {
      "cell_type": "code",
      "metadata": {
        "id": "yAds0_k8L2Yp",
        "colab_type": "code",
        "outputId": "e5673f71-fcdf-4adb-f708-beb81ad4855b",
        "colab": {
          "base_uri": "https://localhost:8080/",
          "height": 103
        }
      },
      "source": [
        "data.replace([0, 1], [\"No\", \"Yes\"], inplace = True)\n",
        "data.to_excel(\"Replace.xlsx\")\n"
      ],
      "execution_count": 0,
      "outputs": [
        {
          "output_type": "stream",
          "text": [
            "/usr/local/lib/python3.6/dist-packages/pandas/core/frame.py:4172: SettingWithCopyWarning: \n",
            "A value is trying to be set on a copy of a slice from a DataFrame\n",
            "\n",
            "See the caveats in the documentation: https://pandas.pydata.org/pandas-docs/stable/user_guide/indexing.html#returning-a-view-versus-a-copy\n",
            "  method=method,\n"
          ],
          "name": "stderr"
        }
      ]
    },
    {
      "cell_type": "code",
      "metadata": {
        "id": "lNflMIKsMYm3",
        "colab_type": "code",
        "colab": {}
      },
      "source": [
        ""
      ],
      "execution_count": 0,
      "outputs": []
    }
  ]
}