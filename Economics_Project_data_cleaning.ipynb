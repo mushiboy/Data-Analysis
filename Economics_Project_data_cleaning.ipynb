{
  "nbformat": 4,
  "nbformat_minor": 0,
  "metadata": {
    "colab": {
      "name": "Economics Project - data_cleaning",
      "provenance": [],
      "authorship_tag": "ABX9TyM5C2zh+X1O7JvFL63Y5cpn",
      "include_colab_link": true
    },
    "kernelspec": {
      "name": "python3",
      "display_name": "Python 3"
    }
  },
  "cells": [
    {
      "cell_type": "markdown",
      "metadata": {
        "id": "view-in-github",
        "colab_type": "text"
      },
      "source": [
        "<a href=\"https://colab.research.google.com/github/mushiboy/Data-Analysis/blob/master/Economics_Project_data_cleaning.ipynb\" target=\"_parent\"><img src=\"https://colab.research.google.com/assets/colab-badge.svg\" alt=\"Open In Colab\"/></a>"
      ]
    },
    {
      "cell_type": "markdown",
      "metadata": {
        "id": "HPIuFK4BEJw_",
        "colab_type": "text"
      },
      "source": [
        "Importing Libraries"
      ]
    },
    {
      "cell_type": "code",
      "metadata": {
        "id": "fHLA0wdZR3Fv",
        "colab_type": "code",
        "outputId": "f03e853f-1ea6-440f-8218-87355159a604",
        "colab": {
          "base_uri": "https://localhost:8080/",
          "height": 51
        }
      },
      "source": [
        "!curl -s https://course.fast.ai/setup/colab | bash"
      ],
      "execution_count": 0,
      "outputs": [
        {
          "output_type": "stream",
          "text": [
            "Updating fastai...\n",
            "Done.\n"
          ],
          "name": "stdout"
        }
      ]
    },
    {
      "cell_type": "code",
      "metadata": {
        "id": "0DazoAl67pfk",
        "colab_type": "code",
        "outputId": "72ec2f49-d0e4-4cdd-9654-79f0737e4f18",
        "colab": {
          "base_uri": "https://localhost:8080/",
          "height": 71
        }
      },
      "source": [
        "import pandas as pd\n",
        "import numpy as np\n",
        "import matplotlib.pyplot as plt\n",
        "import seaborn as sns"
      ],
      "execution_count": 0,
      "outputs": [
        {
          "output_type": "stream",
          "text": [
            "/usr/local/lib/python3.6/dist-packages/statsmodels/tools/_testing.py:19: FutureWarning: pandas.util.testing is deprecated. Use the functions in the public API at pandas.testing instead.\n",
            "  import pandas.util.testing as tm\n"
          ],
          "name": "stderr"
        }
      ]
    },
    {
      "cell_type": "code",
      "metadata": {
        "id": "dU1FfqDZR1p8",
        "colab_type": "code",
        "colab": {}
      },
      "source": [
        "from fastai.tabular import *\n",
        "from fastai import *"
      ],
      "execution_count": 0,
      "outputs": []
    },
    {
      "cell_type": "code",
      "metadata": {
        "id": "JkY5px4B8tcb",
        "colab_type": "code",
        "outputId": "74a9e068-bde4-492f-ce9a-6ebbdfd0ede2",
        "colab": {
          "base_uri": "https://localhost:8080/",
          "height": 103
        }
      },
      "source": [
        "!pip3 install pandas --upgrade"
      ],
      "execution_count": 0,
      "outputs": [
        {
          "output_type": "stream",
          "text": [
            "Requirement already up-to-date: pandas in /usr/local/lib/python3.6/dist-packages (1.0.3)\n",
            "Requirement already satisfied, skipping upgrade: numpy>=1.13.3 in /usr/local/lib/python3.6/dist-packages (from pandas) (1.18.3)\n",
            "Requirement already satisfied, skipping upgrade: pytz>=2017.2 in /usr/local/lib/python3.6/dist-packages (from pandas) (2018.9)\n",
            "Requirement already satisfied, skipping upgrade: python-dateutil>=2.6.1 in /usr/local/lib/python3.6/dist-packages (from pandas) (2.8.1)\n",
            "Requirement already satisfied, skipping upgrade: six>=1.5 in /usr/local/lib/python3.6/dist-packages (from python-dateutil>=2.6.1->pandas) (1.12.0)\n"
          ],
          "name": "stdout"
        }
      ]
    },
    {
      "cell_type": "code",
      "metadata": {
        "id": "roM0C4lf9ic6",
        "colab_type": "code",
        "colab": {}
      },
      "source": [
        "from google.colab import files\n",
        "files.upload()"
      ],
      "execution_count": 0,
      "outputs": []
    },
    {
      "cell_type": "code",
      "metadata": {
        "id": "-OMbgcah9BTP",
        "colab_type": "code",
        "colab": {}
      },
      "source": [
        "data = pd.read_excel(\"/content/Data/Data.xlsx\")"
      ],
      "execution_count": 0,
      "outputs": []
    },
    {
      "cell_type": "code",
      "metadata": {
        "id": "xTMI4jQJOPrk",
        "colab_type": "code",
        "colab": {}
      },
      "source": [
        "data.rename(index = {\"Will you switch to other alternative brands if they offer a similar but cheaper Smartphone?\":\"Similar_Specs_Switch\"}, inplace = True)"
      ],
      "execution_count": 0,
      "outputs": []
    },
    {
      "cell_type": "code",
      "metadata": {
        "id": "joR-FSJPOu1m",
        "colab_type": "code",
        "outputId": "5668e22a-9b47-499d-947e-2c86425b1f4c",
        "colab": {
          "base_uri": "https://localhost:8080/",
          "height": 155
        }
      },
      "source": [
        "data.columns"
      ],
      "execution_count": 0,
      "outputs": [
        {
          "output_type": "execute_result",
          "data": {
            "text/plain": [
              "Index(['Timestamp', 'Name', 'Gender', 'Age', 'Brand', 'Cost', 'Place',\n",
              "       'Reason', 'OS', 'Satisfactioin_OS', 'Brand_importance',\n",
              "       'Brand_influence', 'Phone_upgradation', 'Upgrad_same_brand',\n",
              "       'Similar_phone_other_brand_2', 'Brand_influence_2', 'Try_New_OS',\n",
              "       'Quality_vs_Price', 'Similiar_phone_other_brand',\n",
              "       'Mobile_network_charges', 'View', 'Applications_payable', 'Accessories',\n",
              "       'Income'],\n",
              "      dtype='object')"
            ]
          },
          "metadata": {
            "tags": []
          },
          "execution_count": 253
        }
      ]
    },
    {
      "cell_type": "code",
      "metadata": {
        "id": "gzqxjTDOQtIK",
        "colab_type": "code",
        "colab": {}
      },
      "source": [
        "data.head(20)"
      ],
      "execution_count": 0,
      "outputs": []
    },
    {
      "cell_type": "code",
      "metadata": {
        "id": "UtHwnIRpQoBd",
        "colab_type": "code",
        "colab": {}
      },
      "source": [
        "data.drop(\"Timestamp\", axis = 1, inplace = True)"
      ],
      "execution_count": 0,
      "outputs": []
    },
    {
      "cell_type": "markdown",
      "metadata": {
        "id": "WO3dEhQBFhRo",
        "colab_type": "text"
      },
      "source": [
        "**Cleaning Cost**"
      ]
    },
    {
      "cell_type": "code",
      "metadata": {
        "id": "W3_hf-VlV51f",
        "colab_type": "code",
        "outputId": "f8744788-e42c-4274-c918-66c6eaee7ace",
        "colab": {
          "base_uri": "https://localhost:8080/",
          "height": 69
        }
      },
      "source": [
        "data[data.Cost.str.contains(\"k\", case = False, na = False)]"
      ],
      "execution_count": 0,
      "outputs": [
        {
          "output_type": "execute_result",
          "data": {
            "text/html": [
              "<div>\n",
              "<style scoped>\n",
              "    .dataframe tbody tr th:only-of-type {\n",
              "        vertical-align: middle;\n",
              "    }\n",
              "\n",
              "    .dataframe tbody tr th {\n",
              "        vertical-align: top;\n",
              "    }\n",
              "\n",
              "    .dataframe thead th {\n",
              "        text-align: right;\n",
              "    }\n",
              "</style>\n",
              "<table border=\"1\" class=\"dataframe\">\n",
              "  <thead>\n",
              "    <tr style=\"text-align: right;\">\n",
              "      <th></th>\n",
              "      <th>Name</th>\n",
              "      <th>Gender</th>\n",
              "      <th>Age</th>\n",
              "      <th>Brand</th>\n",
              "      <th>Cost</th>\n",
              "      <th>Place</th>\n",
              "      <th>Reason</th>\n",
              "      <th>OS</th>\n",
              "      <th>Satisfactioin_OS</th>\n",
              "      <th>Brand_importance</th>\n",
              "      <th>Brand_influence</th>\n",
              "      <th>Phone_upgradation</th>\n",
              "      <th>Upgrad_same_brand</th>\n",
              "      <th>Similar_phone_other_brand_2</th>\n",
              "      <th>Brand_influence_2</th>\n",
              "      <th>Try_New_OS</th>\n",
              "      <th>Quality_vs_Price</th>\n",
              "      <th>Similiar_phone_other_brand</th>\n",
              "      <th>Mobile_network_charges</th>\n",
              "      <th>View</th>\n",
              "      <th>Applications_payable</th>\n",
              "      <th>Accessories</th>\n",
              "      <th>Income</th>\n",
              "    </tr>\n",
              "  </thead>\n",
              "  <tbody>\n",
              "  </tbody>\n",
              "</table>\n",
              "</div>"
            ],
            "text/plain": [
              "Empty DataFrame\n",
              "Columns: [Name, Gender, Age, Brand, Cost, Place, Reason, OS, Satisfactioin_OS, Brand_importance, Brand_influence, Phone_upgradation, Upgrad_same_brand, Similar_phone_other_brand_2, Brand_influence_2, Try_New_OS, Quality_vs_Price, Similiar_phone_other_brand, Mobile_network_charges, View, Applications_payable, Accessories, Income]\n",
              "Index: []"
            ]
          },
          "metadata": {
            "tags": []
          },
          "execution_count": 267
        }
      ]
    },
    {
      "cell_type": "code",
      "metadata": {
        "id": "5ycyvswVseRC",
        "colab_type": "code",
        "colab": {}
      },
      "source": [
        "for i in range(0, data.shape[0]):\n",
        "  if \"k\" in str(data.iloc[i, 4]):\n",
        "    data.iloc[i, 4] = data.iloc[i, 4][:2] + \"000\""
      ],
      "execution_count": 0,
      "outputs": []
    },
    {
      "cell_type": "code",
      "metadata": {
        "id": "2bu_9M37wPQY",
        "colab_type": "code",
        "colab": {}
      },
      "source": [
        "data[data.Cost.str.contains(\".\", case = False, na = False)]"
      ],
      "execution_count": 0,
      "outputs": []
    },
    {
      "cell_type": "code",
      "metadata": {
        "id": "8ov-_I4ovgvM",
        "colab_type": "code",
        "colab": {}
      },
      "source": [
        "for i in range(0, data.shape[0]):\n",
        "  if \".\" in str(data.iloc[i, 4]):\n",
        "    print(\"LOL\")\n",
        "    data.iloc[i, 4] = data.iloc[i, 4][1:]"
      ],
      "execution_count": 0,
      "outputs": []
    },
    {
      "cell_type": "code",
      "metadata": {
        "id": "4GP_RwmFtSbs",
        "colab_type": "code",
        "colab": {}
      },
      "source": [
        "data.iloc[42, 4] = 28000\n"
      ],
      "execution_count": 0,
      "outputs": []
    },
    {
      "cell_type": "code",
      "metadata": {
        "id": "kax3Wd58spuO",
        "colab_type": "code",
        "colab": {}
      },
      "source": [
        "data.iloc[56, 4] = 8000"
      ],
      "execution_count": 0,
      "outputs": []
    },
    {
      "cell_type": "code",
      "metadata": {
        "id": "eroz3PBDHEth",
        "colab_type": "code",
        "colab": {}
      },
      "source": [
        "list(data.Cost)"
      ],
      "execution_count": 0,
      "outputs": []
    },
    {
      "cell_type": "code",
      "metadata": {
        "id": "QMqZJ1kcyDxQ",
        "colab_type": "code",
        "colab": {}
      },
      "source": [
        "for i in range(0, data.shape[0]):\n",
        "  if \",\" in str(data.iloc[i, 4]):\n",
        "    data.iloc[i, 4] = data.iloc[i, 4].replace(\",\", \"\")"
      ],
      "execution_count": 0,
      "outputs": []
    },
    {
      "cell_type": "code",
      "metadata": {
        "id": "2cp-l78SHd4E",
        "colab_type": "code",
        "outputId": "2533648f-04c2-4d64-ac9e-9769ec849ffe",
        "colab": {
          "base_uri": "https://localhost:8080/",
          "height": 34
        }
      },
      "source": [
        "for i in range(0, data.shape[0]):\n",
        "  if \"Rs\" in str(data.iloc[i, 4]):\n",
        "    print(\"LOL\")\n",
        "    data.iloc[i, 4] = data.iloc[i, 4].replace(\"Rs\", \"\")"
      ],
      "execution_count": 0,
      "outputs": [
        {
          "output_type": "stream",
          "text": [
            "LOL\n"
          ],
          "name": "stdout"
        }
      ]
    },
    {
      "cell_type": "code",
      "metadata": {
        "id": "eHjoK_BYH_NY",
        "colab_type": "code",
        "outputId": "53cbe4c4-2870-4c4c-d785-7d039f2087be",
        "colab": {
          "base_uri": "https://localhost:8080/",
          "height": 51
        }
      },
      "source": [
        "for i in range(0, data.shape[0]):\n",
        "  if \"/\" in str(data.iloc[i, 4]):\n",
        "    print(\"LOL\")\n",
        "    data.iloc[i, 4] = data.iloc[i, 4].replace(\"/-\", \"\")"
      ],
      "execution_count": 0,
      "outputs": [
        {
          "output_type": "stream",
          "text": [
            "LOL\n",
            "LOL\n"
          ],
          "name": "stdout"
        }
      ]
    },
    {
      "cell_type": "code",
      "metadata": {
        "id": "Gm_7eI-OIg1y",
        "colab_type": "code",
        "outputId": "3ff47523-55ec-4414-a6a9-7f6ac0941b3b",
        "colab": {
          "base_uri": "https://localhost:8080/",
          "height": 34
        }
      },
      "source": [
        "data[data[\"Cost\"] == \"Redmi Y3\"][\"Cost\"]\n",
        "data.loc[49, \"Cost\"] = 10000\n",
        "data.loc[49, \"Cost\"]"
      ],
      "execution_count": 0,
      "outputs": [
        {
          "output_type": "execute_result",
          "data": {
            "text/plain": [
              "10000"
            ]
          },
          "metadata": {
            "tags": []
          },
          "execution_count": 306
        }
      ]
    },
    {
      "cell_type": "code",
      "metadata": {
        "id": "xDvyIpfIyVdr",
        "colab_type": "code",
        "colab": {}
      },
      "source": [
        "for i in range(0, data.shape[0]):\n",
        "  if \"+\" in str(data.iloc[i, 4]):\n",
        "    data.iloc[i, 4] = float(\"NaN\")"
      ],
      "execution_count": 0,
      "outputs": []
    },
    {
      "cell_type": "code",
      "metadata": {
        "id": "-dT1buPVy57C",
        "colab_type": "code",
        "colab": {}
      },
      "source": [
        "data[\"Cost\"] = data[\"Cost\"].apply(pd.to_numeric)"
      ],
      "execution_count": 0,
      "outputs": []
    },
    {
      "cell_type": "code",
      "metadata": {
        "id": "hJNckXzdyVYY",
        "colab_type": "code",
        "outputId": "689f67dd-92b7-4616-c1bf-ef816b720bdb",
        "colab": {
          "base_uri": "https://localhost:8080/",
          "height": 69
        }
      },
      "source": [
        "data[data[\"Cost\"] > 100000][\"Cost\"]"
      ],
      "execution_count": 0,
      "outputs": [
        {
          "output_type": "execute_result",
          "data": {
            "text/plain": [
              "4      7.905850e+09\n",
              "106    9.608206e+09\n",
              "Name: Cost, dtype: float64"
            ]
          },
          "metadata": {
            "tags": []
          },
          "execution_count": 308
        }
      ]
    },
    {
      "cell_type": "code",
      "metadata": {
        "id": "q5Rqa4uI3RI9",
        "colab_type": "code",
        "colab": {}
      },
      "source": [
        "data.iloc[4, 4]= float(\"NaN\")\n",
        "data.iloc[106, 4] = float(\"NaN\")"
      ],
      "execution_count": 0,
      "outputs": []
    },
    {
      "cell_type": "code",
      "metadata": {
        "id": "BtBBrEqU1wQ0",
        "colab_type": "code",
        "outputId": "274373fb-7957-40e8-b9b1-996694a12d46",
        "colab": {
          "base_uri": "https://localhost:8080/",
          "height": 69
        }
      },
      "source": [
        "data[data[\"Cost\"].isnull()]"
      ],
      "execution_count": 0,
      "outputs": [
        {
          "output_type": "execute_result",
          "data": {
            "text/html": [
              "<div>\n",
              "<style scoped>\n",
              "    .dataframe tbody tr th:only-of-type {\n",
              "        vertical-align: middle;\n",
              "    }\n",
              "\n",
              "    .dataframe tbody tr th {\n",
              "        vertical-align: top;\n",
              "    }\n",
              "\n",
              "    .dataframe thead th {\n",
              "        text-align: right;\n",
              "    }\n",
              "</style>\n",
              "<table border=\"1\" class=\"dataframe\">\n",
              "  <thead>\n",
              "    <tr style=\"text-align: right;\">\n",
              "      <th></th>\n",
              "      <th>Name</th>\n",
              "      <th>Gender</th>\n",
              "      <th>Age</th>\n",
              "      <th>Brand</th>\n",
              "      <th>Cost</th>\n",
              "      <th>Place</th>\n",
              "      <th>Reason</th>\n",
              "      <th>OS</th>\n",
              "      <th>Satisfactioin_OS</th>\n",
              "      <th>Brand_importance</th>\n",
              "      <th>Brand_influence</th>\n",
              "      <th>Phone_upgradation</th>\n",
              "      <th>Upgrad_same_brand</th>\n",
              "      <th>Similar_phone_other_brand_2</th>\n",
              "      <th>Brand_influence_2</th>\n",
              "      <th>Try_New_OS</th>\n",
              "      <th>Quality_vs_Price</th>\n",
              "      <th>Similiar_phone_other_brand</th>\n",
              "      <th>Mobile_network_charges</th>\n",
              "      <th>View</th>\n",
              "      <th>Applications_payable</th>\n",
              "      <th>Accessories</th>\n",
              "      <th>Income</th>\n",
              "    </tr>\n",
              "  </thead>\n",
              "  <tbody>\n",
              "  </tbody>\n",
              "</table>\n",
              "</div>"
            ],
            "text/plain": [
              "Empty DataFrame\n",
              "Columns: [Name, Gender, Age, Brand, Cost, Place, Reason, OS, Satisfactioin_OS, Brand_importance, Brand_influence, Phone_upgradation, Upgrad_same_brand, Similar_phone_other_brand_2, Brand_influence_2, Try_New_OS, Quality_vs_Price, Similiar_phone_other_brand, Mobile_network_charges, View, Applications_payable, Accessories, Income]\n",
              "Index: []"
            ]
          },
          "metadata": {
            "tags": []
          },
          "execution_count": 313
        }
      ]
    },
    {
      "cell_type": "code",
      "metadata": {
        "id": "qM9ylkn-BN4w",
        "colab_type": "code",
        "outputId": "0959ba0b-67a7-4d8a-bd28-6ff997fb5329",
        "colab": {
          "base_uri": "https://localhost:8080/",
          "height": 103
        }
      },
      "source": [
        "for i in range(0, data.shape[0]):\n",
        "  if pd.isnull(data.loc[i, \"Cost\"]):\n",
        "    data[\"Cost\"][i] = data[data[\"Brand\"] == data[\"Brand\"][i]][\"Cost\"].mean()"
      ],
      "execution_count": 0,
      "outputs": [
        {
          "output_type": "stream",
          "text": [
            "/usr/local/lib/python3.6/dist-packages/ipykernel_launcher.py:3: SettingWithCopyWarning: \n",
            "A value is trying to be set on a copy of a slice from a DataFrame\n",
            "\n",
            "See the caveats in the documentation: https://pandas.pydata.org/pandas-docs/stable/user_guide/indexing.html#returning-a-view-versus-a-copy\n",
            "  This is separate from the ipykernel package so we can avoid doing imports until\n"
          ],
          "name": "stderr"
        }
      ]
    },
    {
      "cell_type": "code",
      "metadata": {
        "id": "zFRMJZlrCZ7t",
        "colab_type": "code",
        "outputId": "4d89aff3-6dcc-4327-a2fd-be1570abd288",
        "colab": {
          "base_uri": "https://localhost:8080/",
          "height": 120
        }
      },
      "source": [
        "data.loc[[4, 8, 45, 61, 106], \"Cost\"]"
      ],
      "execution_count": 0,
      "outputs": [
        {
          "output_type": "execute_result",
          "data": {
            "text/plain": [
              "4      37749.937500\n",
              "8      14857.142857\n",
              "45     62000.000000\n",
              "61     12880.000000\n",
              "106    13999.875000\n",
              "Name: Cost, dtype: float64"
            ]
          },
          "metadata": {
            "tags": []
          },
          "execution_count": 315
        }
      ]
    },
    {
      "cell_type": "markdown",
      "metadata": {
        "id": "wZ2565jOMlva",
        "colab_type": "text"
      },
      "source": [
        "Cleaning Brand"
      ]
    },
    {
      "cell_type": "code",
      "metadata": {
        "id": "E34Xeyr5DcCu",
        "colab_type": "code",
        "outputId": "60c5df6d-95c9-4ad9-807e-b360c18797ff",
        "colab": {
          "base_uri": "https://localhost:8080/",
          "height": 51
        }
      },
      "source": [
        "data[\"Brand\"].unique()"
      ],
      "execution_count": 0,
      "outputs": [
        {
          "output_type": "execute_result",
          "data": {
            "text/plain": [
              "array(['Nokia', 'Real me', 'Oneplus', 'Apple', 'Motorola', 'Lenovo', 'Coolpad', 'Samsung', 'Huawei', 'Xiomi', 'Vivo',\n",
              "       'itel', 'Oppo', 'Honor', 'Asus', 'Sony', 'HTC', 'Micromax'], dtype=object)"
            ]
          },
          "metadata": {
            "tags": []
          },
          "execution_count": 316
        }
      ]
    },
    {
      "cell_type": "code",
      "metadata": {
        "id": "mLqQ_iw-JqSX",
        "colab_type": "code",
        "outputId": "96196fae-a5f1-4c2e-88e2-ac1805fff74b",
        "colab": {
          "base_uri": "https://localhost:8080/",
          "height": 134
        }
      },
      "source": [
        "data[data[\"Brand\"] == \"itel\"]"
      ],
      "execution_count": 0,
      "outputs": [
        {
          "output_type": "execute_result",
          "data": {
            "text/html": [
              "<div>\n",
              "<style scoped>\n",
              "    .dataframe tbody tr th:only-of-type {\n",
              "        vertical-align: middle;\n",
              "    }\n",
              "\n",
              "    .dataframe tbody tr th {\n",
              "        vertical-align: top;\n",
              "    }\n",
              "\n",
              "    .dataframe thead th {\n",
              "        text-align: right;\n",
              "    }\n",
              "</style>\n",
              "<table border=\"1\" class=\"dataframe\">\n",
              "  <thead>\n",
              "    <tr style=\"text-align: right;\">\n",
              "      <th></th>\n",
              "      <th>Name</th>\n",
              "      <th>Gender</th>\n",
              "      <th>Age</th>\n",
              "      <th>Brand</th>\n",
              "      <th>Cost</th>\n",
              "      <th>Place</th>\n",
              "      <th>Reason</th>\n",
              "      <th>OS</th>\n",
              "      <th>Satisfactioin_OS</th>\n",
              "      <th>Brand_importance</th>\n",
              "      <th>Brand_influence</th>\n",
              "      <th>Phone_upgradation</th>\n",
              "      <th>Upgrad_same_brand</th>\n",
              "      <th>Similar_phone_other_brand_2</th>\n",
              "      <th>Brand_influence_2</th>\n",
              "      <th>Try_New_OS</th>\n",
              "      <th>Quality_vs_Price</th>\n",
              "      <th>Similiar_phone_other_brand</th>\n",
              "      <th>Mobile_network_charges</th>\n",
              "      <th>View</th>\n",
              "      <th>Applications_payable</th>\n",
              "      <th>Accessories</th>\n",
              "      <th>Income</th>\n",
              "    </tr>\n",
              "  </thead>\n",
              "  <tbody>\n",
              "    <tr>\n",
              "      <th>50</th>\n",
              "      <td>Professor</td>\n",
              "      <td>Prefer not to say</td>\n",
              "      <td>over 40</td>\n",
              "      <td>itel</td>\n",
              "      <td>500.0</td>\n",
              "      <td>Hazaribagh</td>\n",
              "      <td>Price</td>\n",
              "      <td>Others</td>\n",
              "      <td>1</td>\n",
              "      <td>1</td>\n",
              "      <td>No</td>\n",
              "      <td>more than 2 year</td>\n",
              "      <td>Yes</td>\n",
              "      <td>No</td>\n",
              "      <td>No</td>\n",
              "      <td>Yes</td>\n",
              "      <td>Lower price</td>\n",
              "      <td>Yes</td>\n",
              "      <td>Less Network charges</td>\n",
              "      <td>Luxury</td>\n",
              "      <td>Yes</td>\n",
              "      <td>Screen guard</td>\n",
              "      <td>&lt; 1 lakh</td>\n",
              "    </tr>\n",
              "  </tbody>\n",
              "</table>\n",
              "</div>"
            ],
            "text/plain": [
              "         Name             Gender  ...   Accessories    Income\n",
              "50  Professor  Prefer not to say  ...  Screen guard  < 1 lakh\n",
              "\n",
              "[1 rows x 23 columns]"
            ]
          },
          "metadata": {
            "tags": []
          },
          "execution_count": 317
        }
      ]
    },
    {
      "cell_type": "code",
      "metadata": {
        "id": "jJdZf8n8J9a1",
        "colab_type": "code",
        "colab": {}
      },
      "source": [
        "data = data[data[\"Brand\"] != \"itel\"] "
      ],
      "execution_count": 0,
      "outputs": []
    },
    {
      "cell_type": "markdown",
      "metadata": {
        "id": "nmhd6bd7Muo_",
        "colab_type": "text"
      },
      "source": [
        "Cleaning Brand"
      ]
    },
    {
      "cell_type": "code",
      "metadata": {
        "id": "SLxecl5KMFWM",
        "colab_type": "code",
        "outputId": "ec1d9884-d8a4-4d78-e4d0-e16bb9b5ce21",
        "colab": {
          "base_uri": "https://localhost:8080/",
          "height": 34
        }
      },
      "source": [
        "data2 = pd.read_excel(\"/content/Data/Data.xlsx\")\n",
        "data2 = data[data[\"Brand\"] != \"itel\"]\n",
        "data2.shape"
      ],
      "execution_count": 0,
      "outputs": [
        {
          "output_type": "execute_result",
          "data": {
            "text/plain": [
              "(109, 23)"
            ]
          },
          "metadata": {
            "tags": []
          },
          "execution_count": 342
        }
      ]
    },
    {
      "cell_type": "code",
      "metadata": {
        "id": "KCl2HsuDQ-pI",
        "colab_type": "code",
        "outputId": "6f2bc01b-13e7-4831-a276-3a0f6ff5c81f",
        "colab": {
          "base_uri": "https://localhost:8080/",
          "height": 86
        }
      },
      "source": [
        "data.Gender.value_counts()"
      ],
      "execution_count": 0,
      "outputs": [
        {
          "output_type": "execute_result",
          "data": {
            "text/plain": [
              "Male                 80\n",
              "Female               27\n",
              "Prefer not to say     2\n",
              "Name: Gender, dtype: int64"
            ]
          },
          "metadata": {
            "tags": []
          },
          "execution_count": 346
        }
      ]
    },
    {
      "cell_type": "code",
      "metadata": {
        "id": "cZ6VrA8UNhle",
        "colab_type": "code",
        "outputId": "d1ceba85-89d7-4abd-9c2e-898efa66505f",
        "colab": {
          "base_uri": "https://localhost:8080/",
          "height": 199
        }
      },
      "source": [
        "data2[data2[\"Gender\"] == \"Prefer not to say\"]"
      ],
      "execution_count": 0,
      "outputs": [
        {
          "output_type": "execute_result",
          "data": {
            "text/html": [
              "<div>\n",
              "<style scoped>\n",
              "    .dataframe tbody tr th:only-of-type {\n",
              "        vertical-align: middle;\n",
              "    }\n",
              "\n",
              "    .dataframe tbody tr th {\n",
              "        vertical-align: top;\n",
              "    }\n",
              "\n",
              "    .dataframe thead th {\n",
              "        text-align: right;\n",
              "    }\n",
              "</style>\n",
              "<table border=\"1\" class=\"dataframe\">\n",
              "  <thead>\n",
              "    <tr style=\"text-align: right;\">\n",
              "      <th></th>\n",
              "      <th>Name</th>\n",
              "      <th>Gender</th>\n",
              "      <th>Age</th>\n",
              "      <th>Brand</th>\n",
              "      <th>Cost</th>\n",
              "      <th>Place</th>\n",
              "      <th>Reason</th>\n",
              "      <th>OS</th>\n",
              "      <th>Satisfactioin_OS</th>\n",
              "      <th>Brand_importance</th>\n",
              "      <th>Brand_influence</th>\n",
              "      <th>Phone_upgradation</th>\n",
              "      <th>Upgrad_same_brand</th>\n",
              "      <th>Similar_phone_other_brand_2</th>\n",
              "      <th>Brand_influence_2</th>\n",
              "      <th>Try_New_OS</th>\n",
              "      <th>Quality_vs_Price</th>\n",
              "      <th>Similar_phone_other_brand</th>\n",
              "      <th>Mobile_network_charges</th>\n",
              "      <th>View</th>\n",
              "      <th>Applications_payable</th>\n",
              "      <th>Accessories</th>\n",
              "      <th>Income</th>\n",
              "    </tr>\n",
              "  </thead>\n",
              "  <tbody>\n",
              "    <tr>\n",
              "      <th>44</th>\n",
              "      <td>Ankit</td>\n",
              "      <td>Prefer not to say</td>\n",
              "      <td>20-24</td>\n",
              "      <td>Xiomi</td>\n",
              "      <td>14000.0</td>\n",
              "      <td>Online</td>\n",
              "      <td>Value</td>\n",
              "      <td>Android</td>\n",
              "      <td>4</td>\n",
              "      <td>3</td>\n",
              "      <td>Yes</td>\n",
              "      <td>2 year</td>\n",
              "      <td>Yes</td>\n",
              "      <td>Yes</td>\n",
              "      <td>Yes</td>\n",
              "      <td>Yes</td>\n",
              "      <td>Lower price</td>\n",
              "      <td>Yes</td>\n",
              "      <td>Less Network charges</td>\n",
              "      <td>Necessity</td>\n",
              "      <td>Maybe</td>\n",
              "      <td>Screen guard</td>\n",
              "      <td>1 - 5 lakh</td>\n",
              "    </tr>\n",
              "    <tr>\n",
              "      <th>76</th>\n",
              "      <td>Thaju Habeeb</td>\n",
              "      <td>Prefer not to say</td>\n",
              "      <td>over 40</td>\n",
              "      <td>Apple</td>\n",
              "      <td>100000.0</td>\n",
              "      <td>Online</td>\n",
              "      <td>Brand</td>\n",
              "      <td>Apple iOS</td>\n",
              "      <td>5</td>\n",
              "      <td>5</td>\n",
              "      <td>Yes</td>\n",
              "      <td>more than 2 year</td>\n",
              "      <td>Yes</td>\n",
              "      <td>No</td>\n",
              "      <td>Maybe</td>\n",
              "      <td>No</td>\n",
              "      <td>High-quality</td>\n",
              "      <td>No</td>\n",
              "      <td>Data at discounted rate</td>\n",
              "      <td>Luxury</td>\n",
              "      <td>Yes</td>\n",
              "      <td>Phone cases, Screen guard</td>\n",
              "      <td>&gt; 15 lakh</td>\n",
              "    </tr>\n",
              "  </tbody>\n",
              "</table>\n",
              "</div>"
            ],
            "text/plain": [
              "            Name             Gender  ...                Accessories      Income\n",
              "44         Ankit  Prefer not to say  ...               Screen guard  1 - 5 lakh\n",
              "76  Thaju Habeeb  Prefer not to say  ...  Phone cases, Screen guard   > 15 lakh\n",
              "\n",
              "[2 rows x 23 columns]"
            ]
          },
          "metadata": {
            "tags": []
          },
          "execution_count": 478
        }
      ]
    },
    {
      "cell_type": "code",
      "metadata": {
        "id": "g8WAkGzsiV-w",
        "colab_type": "code",
        "colab": {}
      },
      "source": [
        "data2.rename(columns = {\"Similiar_phone_other_brand\": \"Similar_phone_other_brand\"}, inplace= True)"
      ],
      "execution_count": 0,
      "outputs": []
    },
    {
      "cell_type": "code",
      "metadata": {
        "id": "wTlvAJzbh51S",
        "colab_type": "code",
        "colab": {}
      },
      "source": [
        ""
      ],
      "execution_count": 0,
      "outputs": []
    },
    {
      "cell_type": "code",
      "metadata": {
        "id": "gGdg9iHvRER8",
        "colab_type": "code",
        "outputId": "361c2a10-022a-4425-996f-5caeea40a561",
        "colab": {
          "base_uri": "https://localhost:8080/",
          "height": 223
        }
      },
      "source": [
        "data[data[\"Gender\"] == \"Prefer not to say\"][\"Gender\"] = \"Male\""
      ],
      "execution_count": 0,
      "outputs": [
        {
          "output_type": "stream",
          "text": [
            "/usr/local/lib/python3.6/dist-packages/ipykernel_launcher.py:1: SettingWithCopyWarning: \n",
            "A value is trying to be set on a copy of a slice from a DataFrame.\n",
            "Try using .loc[row_indexer,col_indexer] = value instead\n",
            "\n",
            "See the caveats in the documentation: https://pandas.pydata.org/pandas-docs/stable/user_guide/indexing.html#returning-a-view-versus-a-copy\n",
            "  \"\"\"Entry point for launching an IPython kernel.\n",
            "/usr/local/lib/python3.6/dist-packages/pandas/core/indexing.py:966: SettingWithCopyWarning: \n",
            "A value is trying to be set on a copy of a slice from a DataFrame.\n",
            "Try using .loc[row_indexer,col_indexer] = value instead\n",
            "\n",
            "See the caveats in the documentation: https://pandas.pydata.org/pandas-docs/stable/user_guide/indexing.html#returning-a-view-versus-a-copy\n",
            "  self.obj[item] = s\n"
          ],
          "name": "stderr"
        }
      ]
    },
    {
      "cell_type": "code",
      "metadata": {
        "id": "QAFRxp-6EYPG",
        "colab_type": "code",
        "outputId": "254acef8-22e9-4b77-ca47-09734cbd5c9f",
        "colab": {
          "base_uri": "https://localhost:8080/",
          "height": 69
        }
      },
      "source": [
        "data[data[\"Gender\"] == \"Prefer not to say\"]"
      ],
      "execution_count": 0,
      "outputs": [
        {
          "output_type": "execute_result",
          "data": {
            "text/html": [
              "<div>\n",
              "<style scoped>\n",
              "    .dataframe tbody tr th:only-of-type {\n",
              "        vertical-align: middle;\n",
              "    }\n",
              "\n",
              "    .dataframe tbody tr th {\n",
              "        vertical-align: top;\n",
              "    }\n",
              "\n",
              "    .dataframe thead th {\n",
              "        text-align: right;\n",
              "    }\n",
              "</style>\n",
              "<table border=\"1\" class=\"dataframe\">\n",
              "  <thead>\n",
              "    <tr style=\"text-align: right;\">\n",
              "      <th></th>\n",
              "      <th>Name</th>\n",
              "      <th>Gender</th>\n",
              "      <th>Age</th>\n",
              "      <th>Brand</th>\n",
              "      <th>Cost</th>\n",
              "      <th>Place</th>\n",
              "      <th>Reason</th>\n",
              "      <th>OS</th>\n",
              "      <th>Satisfactioin_OS</th>\n",
              "      <th>Brand_importance</th>\n",
              "      <th>Brand_influence</th>\n",
              "      <th>Phone_upgradation</th>\n",
              "      <th>Upgrad_same_brand</th>\n",
              "      <th>Similar_phone_other_brand_2</th>\n",
              "      <th>Brand_influence_2</th>\n",
              "      <th>Try_New_OS</th>\n",
              "      <th>Quality_vs_Price</th>\n",
              "      <th>Similiar_phone_other_brand</th>\n",
              "      <th>Mobile_network_charges</th>\n",
              "      <th>View</th>\n",
              "      <th>Applications_payable</th>\n",
              "      <th>Accessories</th>\n",
              "      <th>Income</th>\n",
              "    </tr>\n",
              "  </thead>\n",
              "  <tbody>\n",
              "  </tbody>\n",
              "</table>\n",
              "</div>"
            ],
            "text/plain": [
              "Empty DataFrame\n",
              "Columns: [Name, Gender, Age, Brand, Cost, Place, Reason, OS, Satisfactioin_OS, Brand_importance, Brand_influence, Phone_upgradation, Upgrad_same_brand, Similar_phone_other_brand_2, Brand_influence_2, Try_New_OS, Quality_vs_Price, Similiar_phone_other_brand, Mobile_network_charges, View, Applications_payable, Accessories, Income]\n",
              "Index: []"
            ]
          },
          "metadata": {
            "tags": []
          },
          "execution_count": 351
        }
      ]
    },
    {
      "cell_type": "code",
      "metadata": {
        "id": "ifn5JesmNt0p",
        "colab_type": "code",
        "outputId": "883de6cc-c641-4b99-c9f1-ed4f8ad55e48",
        "colab": {
          "base_uri": "https://localhost:8080/",
          "height": 69
        }
      },
      "source": [
        "data.Gender.value_counts()"
      ],
      "execution_count": 0,
      "outputs": [
        {
          "output_type": "execute_result",
          "data": {
            "text/plain": [
              "Male      82\n",
              "Female    27\n",
              "Name: Gender, dtype: int64"
            ]
          },
          "metadata": {
            "tags": []
          },
          "execution_count": 352
        }
      ]
    },
    {
      "cell_type": "code",
      "metadata": {
        "id": "Rev5R0AINwH-",
        "colab_type": "code",
        "colab": {}
      },
      "source": [
        "columns = data.columns"
      ],
      "execution_count": 0,
      "outputs": []
    },
    {
      "cell_type": "code",
      "metadata": {
        "id": "yN1XTT4sOJ-j",
        "colab_type": "code",
        "outputId": "1443658c-3d11-4065-c182-62305a977f47",
        "colab": {
          "base_uri": "https://localhost:8080/",
          "height": 137
        }
      },
      "source": [
        "columns"
      ],
      "execution_count": 0,
      "outputs": [
        {
          "output_type": "execute_result",
          "data": {
            "text/plain": [
              "Index(['Name', 'Gender', 'Age', 'Brand', 'Cost', 'Place', 'Reason', 'OS',\n",
              "       'Satisfactioin_OS', 'Brand_importance', 'Brand_influence',\n",
              "       'Phone_upgradation', 'Upgrad_same_brand', 'Similar_phone_other_brand_2',\n",
              "       'Brand_influence_2', 'Try_New_OS', 'Quality_vs_Price',\n",
              "       'Similiar_phone_other_brand', 'Mobile_network_charges', 'View',\n",
              "       'Applications_payable', 'Accessories', 'Income'],\n",
              "      dtype='object')"
            ]
          },
          "metadata": {
            "tags": []
          },
          "execution_count": 355
        }
      ]
    },
    {
      "cell_type": "code",
      "metadata": {
        "id": "thkc40myPLca",
        "colab_type": "code",
        "colab": {}
      },
      "source": [
        "data.to_excel(\"Cleaning.xlsx\")"
      ],
      "execution_count": 0,
      "outputs": []
    },
    {
      "cell_type": "markdown",
      "metadata": {
        "id": "dRnikZiFjFcQ",
        "colab_type": "text"
      },
      "source": [
        "CORRECTING INDEXES"
      ]
    },
    {
      "cell_type": "code",
      "metadata": {
        "id": "6V8yLuAxPyt9",
        "colab_type": "code",
        "colab": {}
      },
      "source": [
        "old_index = range(51, 111)\n",
        "new_index = range(50, 110)\n",
        "index = dict(zip(old_index, new_index))\n",
        "index"
      ],
      "execution_count": 0,
      "outputs": []
    },
    {
      "cell_type": "code",
      "metadata": {
        "id": "0BjIZPhdUZwu",
        "colab_type": "code",
        "colab": {}
      },
      "source": [
        "data.rename(index = index, inplace = True)"
      ],
      "execution_count": 0,
      "outputs": []
    },
    {
      "cell_type": "code",
      "metadata": {
        "id": "5qcKUvHGUrd8",
        "colab_type": "code",
        "colab": {}
      },
      "source": [
        "list(data.index)"
      ],
      "execution_count": 0,
      "outputs": []
    },
    {
      "cell_type": "markdown",
      "metadata": {
        "id": "gHQpk8t_O0SM",
        "colab_type": "text"
      },
      "source": [
        "**Cleaning Places**"
      ]
    },
    {
      "cell_type": "code",
      "metadata": {
        "id": "4D2VlgHBOMVo",
        "colab_type": "code",
        "outputId": "f77dd650-9d3d-4b74-cc57-b4a3d09ba5c7",
        "colab": {
          "base_uri": "https://localhost:8080/",
          "height": 86
        }
      },
      "source": [
        "data.Place.unique()"
      ],
      "execution_count": 0,
      "outputs": [
        {
          "output_type": "execute_result",
          "data": {
            "text/plain": [
              "array(['Online', 'Malappuram', 'Calicut', 'Bangalore', 'Nagpur', 'Kozhikode', 'Dubai', 'Thrissur', 'Pondicherry',\n",
              "       'Patna ', 'Gujarat', 'Guntur', 'Kanpur', 'Pondicherry ', 'Palakkad', 'Abu Dhabi', 'Sasaram', 'Muzaffarpur',\n",
              "       'Ranchi', 'Mumbai', 'New york', 'Ramgarh', 'Kozhikkode', 'Ahmedabad', 'Jodhpur', 'Delhi', 'Hajipur', 'Kochi',\n",
              "       'Chandigarh', 'Gwalior', 'Bhopal', 'Indore ', 'Patna', 'Kolkata', 'Motihari', 'Deoghar'], dtype=object)"
            ]
          },
          "metadata": {
            "tags": []
          },
          "execution_count": 420
        }
      ]
    },
    {
      "cell_type": "code",
      "metadata": {
        "id": "-_rrzdkVXALT",
        "colab_type": "code",
        "colab": {}
      },
      "source": [
        "data.loc[50, \"Place\"] = \"Ramgarh\""
      ],
      "execution_count": 0,
      "outputs": []
    },
    {
      "cell_type": "code",
      "metadata": {
        "id": "LPmiGhoGOTtl",
        "colab_type": "code",
        "colab": {}
      },
      "source": [
        "for i in range(50, data.shape[0]):\n",
        "  if any(x in data.loc[i, \"Place\"].lower() for x in [\"amazon\", \"flipkart\", \"online\"]):\n",
        "    data.loc[i, \"Place\"] = \"Online\""
      ],
      "execution_count": 0,
      "outputs": []
    },
    {
      "cell_type": "code",
      "metadata": {
        "id": "4xJnom_WVwja",
        "colab_type": "code",
        "outputId": "9b0d4032-9946-4751-9934-55d2af05edf6",
        "colab": {
          "base_uri": "https://localhost:8080/",
          "height": 86
        }
      },
      "source": [
        "data.Place.unique()"
      ],
      "execution_count": 0,
      "outputs": [
        {
          "output_type": "execute_result",
          "data": {
            "text/plain": [
              "array(['Online', 'Malappuram', 'Calicut', 'Bangalore', 'Nagpur', 'Kozhikode', 'Dubai', 'Thrissur', 'Pondicherry',\n",
              "       'Patna ', 'Gujarat', 'Guntur', 'Kanpur', 'Pondicherry ', 'Palakkad', 'Abu Dhabi', 'Sasaram', 'Muzaffarpur',\n",
              "       'Ranchi', 'Mumbai', 'New york', 'Ramgarh', 'Kozhikkode', 'Ahmedabad', 'Jodhpur', 'Delhi', 'Hajipur', 'Kochi',\n",
              "       'Chandigarh', 'Gwalior', 'Bhopal', 'Indore ', 'Patna', 'Kolkata', 'Motihari', 'Deoghar'], dtype=object)"
            ]
          },
          "metadata": {
            "tags": []
          },
          "execution_count": 421
        }
      ]
    },
    {
      "cell_type": "code",
      "metadata": {
        "id": "ZwhM22rIV4ap",
        "colab_type": "code",
        "colab": {}
      },
      "source": [
        "data.to_excel(\"Cleaning.xlsx\")"
      ],
      "execution_count": 0,
      "outputs": []
    },
    {
      "cell_type": "markdown",
      "metadata": {
        "id": "6jMk0Kmke6Ow",
        "colab_type": "text"
      },
      "source": [
        "**Cleaning Brand_influence**"
      ]
    },
    {
      "cell_type": "code",
      "metadata": {
        "id": "vIpWLOI8VzGU",
        "colab_type": "code",
        "outputId": "fe30abcc-5d92-4835-bcc3-7b1750c88c6d",
        "colab": {
          "base_uri": "https://localhost:8080/",
          "height": 137
        }
      },
      "source": [
        "columns"
      ],
      "execution_count": 0,
      "outputs": [
        {
          "output_type": "execute_result",
          "data": {
            "text/plain": [
              "Index(['Name', 'Gender', 'Age', 'Brand', 'Cost', 'Place', 'Reason', 'OS',\n",
              "       'Satisfactioin_OS', 'Brand_importance', 'Brand_influence',\n",
              "       'Phone_upgradation', 'Upgrad_same_brand', 'Similar_phone_other_brand_2',\n",
              "       'Brand_influence_2', 'Try_New_OS', 'Quality_vs_Price',\n",
              "       'Similiar_phone_other_brand', 'Mobile_network_charges', 'View',\n",
              "       'Applications_payable', 'Accessories', 'Income'],\n",
              "      dtype='object')"
            ]
          },
          "metadata": {
            "tags": []
          },
          "execution_count": 427
        }
      ]
    },
    {
      "cell_type": "code",
      "metadata": {
        "id": "N5AystwxYEg9",
        "colab_type": "code",
        "colab": {}
      },
      "source": [
        "data.drop(\"Brand_influence_2\", inplace=True, axis = 1)"
      ],
      "execution_count": 0,
      "outputs": []
    },
    {
      "cell_type": "code",
      "metadata": {
        "id": "d9upK3jCYm-0",
        "colab_type": "code",
        "outputId": "50ae52c1-98a8-4477-cb1e-fb0eda9f3fbb",
        "colab": {
          "base_uri": "https://localhost:8080/",
          "height": 137
        }
      },
      "source": [
        "columns = data.columns\n",
        "columns"
      ],
      "execution_count": 0,
      "outputs": [
        {
          "output_type": "execute_result",
          "data": {
            "text/plain": [
              "Index(['Name', 'Gender', 'Age', 'Brand', 'Cost', 'Place', 'Reason', 'OS',\n",
              "       'Satisfactioin_OS', 'Brand_importance', 'Brand_influence',\n",
              "       'Phone_upgradation', 'Upgrad_same_brand', 'Similar_phone_other_brand_2',\n",
              "       'Try_New_OS', 'Quality_vs_Price', 'Similiar_phone_other_brand',\n",
              "       'Mobile_network_charges', 'View', 'Applications_payable', 'Accessories',\n",
              "       'Income'],\n",
              "      dtype='object')"
            ]
          },
          "metadata": {
            "tags": []
          },
          "execution_count": 447
        }
      ]
    },
    {
      "cell_type": "code",
      "metadata": {
        "id": "9NbVDJmIevMx",
        "colab_type": "code",
        "colab": {}
      },
      "source": [
        "data.to_excel(\"Cleaning.xlsx\")"
      ],
      "execution_count": 0,
      "outputs": []
    },
    {
      "cell_type": "code",
      "metadata": {
        "id": "zMdruhhCf6H_",
        "colab_type": "code",
        "colab": {}
      },
      "source": [
        "data.rename(columns = {\"Similiar_phone_other_brand\": \"Similar_phone_other_brand\"}, inplace= True)"
      ],
      "execution_count": 0,
      "outputs": []
    },
    {
      "cell_type": "markdown",
      "metadata": {
        "id": "n-yDwS5vfMQZ",
        "colab_type": "text"
      },
      "source": [
        "**Cleaning Similar_phone_other_brand**"
      ]
    },
    {
      "cell_type": "code",
      "metadata": {
        "id": "ZbnS8A5Jp6ZC",
        "colab_type": "code",
        "colab": {}
      },
      "source": [
        "data.drop(\"Unnamed: 0\", axis =1, inplace = True)"
      ],
      "execution_count": 0,
      "outputs": []
    },
    {
      "cell_type": "code",
      "metadata": {
        "id": "sYfcl428fFxE",
        "colab_type": "code",
        "outputId": "15ea3158-5a67-4bcd-ae7d-b15e18788c2b",
        "colab": {
          "base_uri": "https://localhost:8080/",
          "height": 1000
        }
      },
      "source": [
        "data[(data.Similar_phone_other_brand_2 != data.Similar_phone_other_brand)][[\"Similar_phone_other_brand\", \"Similar_phone_other_brand_2\"]]"
      ],
      "execution_count": 0,
      "outputs": [
        {
          "output_type": "execute_result",
          "data": {
            "text/html": [
              "<div>\n",
              "<style scoped>\n",
              "    .dataframe tbody tr th:only-of-type {\n",
              "        vertical-align: middle;\n",
              "    }\n",
              "\n",
              "    .dataframe tbody tr th {\n",
              "        vertical-align: top;\n",
              "    }\n",
              "\n",
              "    .dataframe thead th {\n",
              "        text-align: right;\n",
              "    }\n",
              "</style>\n",
              "<table border=\"1\" class=\"dataframe\">\n",
              "  <thead>\n",
              "    <tr style=\"text-align: right;\">\n",
              "      <th></th>\n",
              "      <th>Similar_phone_other_brand</th>\n",
              "      <th>Similar_phone_other_brand_2</th>\n",
              "    </tr>\n",
              "  </thead>\n",
              "  <tbody>\n",
              "    <tr>\n",
              "      <th>1</th>\n",
              "      <td>Maybe</td>\n",
              "      <td>No</td>\n",
              "    </tr>\n",
              "    <tr>\n",
              "      <th>6</th>\n",
              "      <td>Maybe</td>\n",
              "      <td>Yes</td>\n",
              "    </tr>\n",
              "    <tr>\n",
              "      <th>9</th>\n",
              "      <td>No</td>\n",
              "      <td>Yes</td>\n",
              "    </tr>\n",
              "    <tr>\n",
              "      <th>15</th>\n",
              "      <td>No</td>\n",
              "      <td>Maybe</td>\n",
              "    </tr>\n",
              "    <tr>\n",
              "      <th>16</th>\n",
              "      <td>Maybe</td>\n",
              "      <td>Yes</td>\n",
              "    </tr>\n",
              "    <tr>\n",
              "      <th>18</th>\n",
              "      <td>Maybe</td>\n",
              "      <td>No</td>\n",
              "    </tr>\n",
              "    <tr>\n",
              "      <th>23</th>\n",
              "      <td>Yes</td>\n",
              "      <td>Maybe</td>\n",
              "    </tr>\n",
              "    <tr>\n",
              "      <th>24</th>\n",
              "      <td>Yes</td>\n",
              "      <td>Maybe</td>\n",
              "    </tr>\n",
              "    <tr>\n",
              "      <th>26</th>\n",
              "      <td>Maybe</td>\n",
              "      <td>No</td>\n",
              "    </tr>\n",
              "    <tr>\n",
              "      <th>29</th>\n",
              "      <td>Maybe</td>\n",
              "      <td>Yes</td>\n",
              "    </tr>\n",
              "    <tr>\n",
              "      <th>32</th>\n",
              "      <td>Yes</td>\n",
              "      <td>Maybe</td>\n",
              "    </tr>\n",
              "    <tr>\n",
              "      <th>33</th>\n",
              "      <td>Maybe</td>\n",
              "      <td>Yes</td>\n",
              "    </tr>\n",
              "    <tr>\n",
              "      <th>37</th>\n",
              "      <td>Maybe</td>\n",
              "      <td>No</td>\n",
              "    </tr>\n",
              "    <tr>\n",
              "      <th>43</th>\n",
              "      <td>Yes</td>\n",
              "      <td>Maybe</td>\n",
              "    </tr>\n",
              "    <tr>\n",
              "      <th>44</th>\n",
              "      <td>Male</td>\n",
              "      <td>Yes</td>\n",
              "    </tr>\n",
              "    <tr>\n",
              "      <th>45</th>\n",
              "      <td>No</td>\n",
              "      <td>Yes</td>\n",
              "    </tr>\n",
              "    <tr>\n",
              "      <th>46</th>\n",
              "      <td>Yes</td>\n",
              "      <td>Maybe</td>\n",
              "    </tr>\n",
              "    <tr>\n",
              "      <th>47</th>\n",
              "      <td>Yes</td>\n",
              "      <td>Maybe</td>\n",
              "    </tr>\n",
              "    <tr>\n",
              "      <th>59</th>\n",
              "      <td>Yes</td>\n",
              "      <td>Maybe</td>\n",
              "    </tr>\n",
              "    <tr>\n",
              "      <th>62</th>\n",
              "      <td>Maybe</td>\n",
              "      <td>Yes</td>\n",
              "    </tr>\n",
              "    <tr>\n",
              "      <th>63</th>\n",
              "      <td>Maybe</td>\n",
              "      <td>Yes</td>\n",
              "    </tr>\n",
              "    <tr>\n",
              "      <th>64</th>\n",
              "      <td>Yes</td>\n",
              "      <td>Maybe</td>\n",
              "    </tr>\n",
              "    <tr>\n",
              "      <th>66</th>\n",
              "      <td>Maybe</td>\n",
              "      <td>Yes</td>\n",
              "    </tr>\n",
              "    <tr>\n",
              "      <th>67</th>\n",
              "      <td>Yes</td>\n",
              "      <td>Maybe</td>\n",
              "    </tr>\n",
              "    <tr>\n",
              "      <th>70</th>\n",
              "      <td>No</td>\n",
              "      <td>Yes</td>\n",
              "    </tr>\n",
              "    <tr>\n",
              "      <th>71</th>\n",
              "      <td>Yes</td>\n",
              "      <td>No</td>\n",
              "    </tr>\n",
              "    <tr>\n",
              "      <th>76</th>\n",
              "      <td>No</td>\n",
              "      <td>Yes</td>\n",
              "    </tr>\n",
              "    <tr>\n",
              "      <th>77</th>\n",
              "      <td>Yes</td>\n",
              "      <td>No</td>\n",
              "    </tr>\n",
              "    <tr>\n",
              "      <th>79</th>\n",
              "      <td>No</td>\n",
              "      <td>Maybe</td>\n",
              "    </tr>\n",
              "    <tr>\n",
              "      <th>80</th>\n",
              "      <td>No</td>\n",
              "      <td>Yes</td>\n",
              "    </tr>\n",
              "    <tr>\n",
              "      <th>81</th>\n",
              "      <td>Yes</td>\n",
              "      <td>No</td>\n",
              "    </tr>\n",
              "    <tr>\n",
              "      <th>82</th>\n",
              "      <td>Maybe</td>\n",
              "      <td>No</td>\n",
              "    </tr>\n",
              "    <tr>\n",
              "      <th>83</th>\n",
              "      <td>Yes</td>\n",
              "      <td>No</td>\n",
              "    </tr>\n",
              "    <tr>\n",
              "      <th>84</th>\n",
              "      <td>Yes</td>\n",
              "      <td>No</td>\n",
              "    </tr>\n",
              "    <tr>\n",
              "      <th>88</th>\n",
              "      <td>No</td>\n",
              "      <td>Yes</td>\n",
              "    </tr>\n",
              "    <tr>\n",
              "      <th>93</th>\n",
              "      <td>No</td>\n",
              "      <td>Yes</td>\n",
              "    </tr>\n",
              "    <tr>\n",
              "      <th>95</th>\n",
              "      <td>Yes</td>\n",
              "      <td>No</td>\n",
              "    </tr>\n",
              "    <tr>\n",
              "      <th>98</th>\n",
              "      <td>Yes</td>\n",
              "      <td>No</td>\n",
              "    </tr>\n",
              "    <tr>\n",
              "      <th>101</th>\n",
              "      <td>Yes</td>\n",
              "      <td>Maybe</td>\n",
              "    </tr>\n",
              "    <tr>\n",
              "      <th>102</th>\n",
              "      <td>No</td>\n",
              "      <td>Maybe</td>\n",
              "    </tr>\n",
              "    <tr>\n",
              "      <th>103</th>\n",
              "      <td>No</td>\n",
              "      <td>Maybe</td>\n",
              "    </tr>\n",
              "    <tr>\n",
              "      <th>104</th>\n",
              "      <td>No</td>\n",
              "      <td>Yes</td>\n",
              "    </tr>\n",
              "    <tr>\n",
              "      <th>107</th>\n",
              "      <td>Yes</td>\n",
              "      <td>No</td>\n",
              "    </tr>\n",
              "  </tbody>\n",
              "</table>\n",
              "</div>"
            ],
            "text/plain": [
              "    Similar_phone_other_brand Similar_phone_other_brand_2\n",
              "1                       Maybe                          No\n",
              "6                       Maybe                         Yes\n",
              "9                          No                         Yes\n",
              "15                         No                       Maybe\n",
              "16                      Maybe                         Yes\n",
              "18                      Maybe                          No\n",
              "23                        Yes                       Maybe\n",
              "24                        Yes                       Maybe\n",
              "26                      Maybe                          No\n",
              "29                      Maybe                         Yes\n",
              "32                        Yes                       Maybe\n",
              "33                      Maybe                         Yes\n",
              "37                      Maybe                          No\n",
              "43                        Yes                       Maybe\n",
              "44                       Male                         Yes\n",
              "45                         No                         Yes\n",
              "46                        Yes                       Maybe\n",
              "47                        Yes                       Maybe\n",
              "59                        Yes                       Maybe\n",
              "62                      Maybe                         Yes\n",
              "63                      Maybe                         Yes\n",
              "64                        Yes                       Maybe\n",
              "66                      Maybe                         Yes\n",
              "67                        Yes                       Maybe\n",
              "70                         No                         Yes\n",
              "71                        Yes                          No\n",
              "76                         No                         Yes\n",
              "77                        Yes                          No\n",
              "79                         No                       Maybe\n",
              "80                         No                         Yes\n",
              "81                        Yes                          No\n",
              "82                      Maybe                          No\n",
              "83                        Yes                          No\n",
              "84                        Yes                          No\n",
              "88                         No                         Yes\n",
              "93                         No                         Yes\n",
              "95                        Yes                          No\n",
              "98                        Yes                          No\n",
              "101                       Yes                       Maybe\n",
              "102                        No                       Maybe\n",
              "103                        No                       Maybe\n",
              "104                        No                         Yes\n",
              "107                       Yes                          No"
            ]
          },
          "metadata": {
            "tags": []
          },
          "execution_count": 503
        }
      ]
    },
    {
      "cell_type": "code",
      "metadata": {
        "id": "1NEpxjHrppj_",
        "colab_type": "code",
        "outputId": "25f8e55c-336f-4ee2-8710-5165cc2ea3d1",
        "colab": {
          "base_uri": "https://localhost:8080/",
          "height": 117
        }
      },
      "source": [
        "data[data.Similar_phone_other_brand == \"Male\"]"
      ],
      "execution_count": 0,
      "outputs": [
        {
          "output_type": "execute_result",
          "data": {
            "text/html": [
              "<div>\n",
              "<style scoped>\n",
              "    .dataframe tbody tr th:only-of-type {\n",
              "        vertical-align: middle;\n",
              "    }\n",
              "\n",
              "    .dataframe tbody tr th {\n",
              "        vertical-align: top;\n",
              "    }\n",
              "\n",
              "    .dataframe thead th {\n",
              "        text-align: right;\n",
              "    }\n",
              "</style>\n",
              "<table border=\"1\" class=\"dataframe\">\n",
              "  <thead>\n",
              "    <tr style=\"text-align: right;\">\n",
              "      <th></th>\n",
              "      <th>Name</th>\n",
              "      <th>Gender</th>\n",
              "      <th>Age</th>\n",
              "      <th>Brand</th>\n",
              "      <th>Cost</th>\n",
              "      <th>Place</th>\n",
              "      <th>Reason</th>\n",
              "      <th>OS</th>\n",
              "      <th>Satisfactioin_OS</th>\n",
              "      <th>Brand_importance</th>\n",
              "      <th>Brand_influence</th>\n",
              "      <th>Phone_upgradation</th>\n",
              "      <th>Upgrad_same_brand</th>\n",
              "      <th>Similar_phone_other_brand_2</th>\n",
              "      <th>Try_New_OS</th>\n",
              "      <th>Quality_vs_Price</th>\n",
              "      <th>Similar_phone_other_brand</th>\n",
              "      <th>Mobile_network_charges</th>\n",
              "      <th>View</th>\n",
              "      <th>Applications_payable</th>\n",
              "      <th>Accessories</th>\n",
              "      <th>Income</th>\n",
              "    </tr>\n",
              "  </thead>\n",
              "  <tbody>\n",
              "    <tr>\n",
              "      <th>44</th>\n",
              "      <td>Ankit</td>\n",
              "      <td>Male</td>\n",
              "      <td>20-24</td>\n",
              "      <td>Xiomi</td>\n",
              "      <td>14000.0</td>\n",
              "      <td>Online</td>\n",
              "      <td>Value</td>\n",
              "      <td>Android</td>\n",
              "      <td>4</td>\n",
              "      <td>3</td>\n",
              "      <td>Yes</td>\n",
              "      <td>2 year</td>\n",
              "      <td>Yes</td>\n",
              "      <td>Yes</td>\n",
              "      <td>Yes</td>\n",
              "      <td>Lower price</td>\n",
              "      <td>Male</td>\n",
              "      <td>Less Network charges</td>\n",
              "      <td>Necessity</td>\n",
              "      <td>Maybe</td>\n",
              "      <td>Screen guard</td>\n",
              "      <td>1 - 5 lakh</td>\n",
              "    </tr>\n",
              "  </tbody>\n",
              "</table>\n",
              "</div>"
            ],
            "text/plain": [
              "     Name Gender    Age  ... Applications_payable   Accessories      Income\n",
              "44  Ankit   Male  20-24  ...                Maybe  Screen guard  1 - 5 lakh\n",
              "\n",
              "[1 rows x 22 columns]"
            ]
          },
          "metadata": {
            "tags": []
          },
          "execution_count": 508
        }
      ]
    },
    {
      "cell_type": "code",
      "metadata": {
        "id": "KuId_bZDqpK_",
        "colab_type": "code",
        "colab": {}
      },
      "source": [
        "data.loc[44, \"Similar_phone_other_brand\"] = \"Maybe\""
      ],
      "execution_count": 0,
      "outputs": []
    },
    {
      "cell_type": "code",
      "metadata": {
        "id": "W7La7e9XfiSP",
        "colab_type": "code",
        "outputId": "b905a9a4-41fa-4ca8-c866-686bc56e20bf",
        "colab": {
          "base_uri": "https://localhost:8080/",
          "height": 34
        }
      },
      "source": [
        "data.Similar_phone_other_brand.unique()"
      ],
      "execution_count": 0,
      "outputs": [
        {
          "output_type": "execute_result",
          "data": {
            "text/plain": [
              "array(['Yes', 'Maybe', 'No'], dtype=object)"
            ]
          },
          "metadata": {
            "tags": []
          },
          "execution_count": 510
        }
      ]
    },
    {
      "cell_type": "code",
      "metadata": {
        "id": "sBj4AzEOoyC2",
        "colab_type": "code",
        "colab": {}
      },
      "source": [
        "data.drop(\"Similar_phone_other_brand_2\", axis = 1, inplace = True)"
      ],
      "execution_count": 0,
      "outputs": []
    },
    {
      "cell_type": "code",
      "metadata": {
        "id": "Czj4yA7hpIBq",
        "colab_type": "code",
        "colab": {}
      },
      "source": [
        "columns = data.columns"
      ],
      "execution_count": 0,
      "outputs": []
    },
    {
      "cell_type": "code",
      "metadata": {
        "id": "E6BUx8PQgWho",
        "colab_type": "code",
        "outputId": "94f9afaf-64ce-4ea4-9485-08ec459ba7db",
        "colab": {
          "base_uri": "https://localhost:8080/",
          "height": 137
        }
      },
      "source": [
        "columns"
      ],
      "execution_count": 0,
      "outputs": [
        {
          "output_type": "execute_result",
          "data": {
            "text/plain": [
              "Index(['Name', 'Gender', 'Age', 'Brand', 'Cost', 'Place', 'Reason', 'OS',\n",
              "       'Satisfactioin_OS', 'Brand_importance', 'Brand_influence',\n",
              "       'Phone_upgradation', 'Upgrad_same_brand', 'Try_New_OS',\n",
              "       'Quality_vs_Price', 'Similar_phone_other_brand',\n",
              "       'Mobile_network_charges', 'View', 'Applications_payable', 'Accessories',\n",
              "       'Income'],\n",
              "      dtype='object')"
            ]
          },
          "metadata": {
            "tags": []
          },
          "execution_count": 514
        }
      ]
    },
    {
      "cell_type": "code",
      "metadata": {
        "id": "BV6ftf3sgaml",
        "colab_type": "code",
        "colab": {}
      },
      "source": [
        "data.to_excel(\"2.xlsx\")"
      ],
      "execution_count": 0,
      "outputs": []
    },
    {
      "cell_type": "code",
      "metadata": {
        "id": "RdK8oNXtt8IT",
        "colab_type": "code",
        "colab": {}
      },
      "source": [
        "data.drop(45, inplace = True)\n"
      ],
      "execution_count": 0,
      "outputs": []
    },
    {
      "cell_type": "code",
      "metadata": {
        "id": "MJQH3gXVukjw",
        "colab_type": "code",
        "outputId": "97c69344-7d97-4ff6-9702-cc68a9dde7a8",
        "colab": {
          "base_uri": "https://localhost:8080/",
          "height": 1000
        }
      },
      "source": [
        "old_index = range(46, 111)\n",
        "new_index = range(45, 110)\n",
        "index = dict(zip(old_index, new_index))\n",
        "index"
      ],
      "execution_count": 0,
      "outputs": [
        {
          "output_type": "execute_result",
          "data": {
            "text/plain": [
              "{46: 45,\n",
              " 47: 46,\n",
              " 48: 47,\n",
              " 49: 48,\n",
              " 50: 49,\n",
              " 51: 50,\n",
              " 52: 51,\n",
              " 53: 52,\n",
              " 54: 53,\n",
              " 55: 54,\n",
              " 56: 55,\n",
              " 57: 56,\n",
              " 58: 57,\n",
              " 59: 58,\n",
              " 60: 59,\n",
              " 61: 60,\n",
              " 62: 61,\n",
              " 63: 62,\n",
              " 64: 63,\n",
              " 65: 64,\n",
              " 66: 65,\n",
              " 67: 66,\n",
              " 68: 67,\n",
              " 69: 68,\n",
              " 70: 69,\n",
              " 71: 70,\n",
              " 72: 71,\n",
              " 73: 72,\n",
              " 74: 73,\n",
              " 75: 74,\n",
              " 76: 75,\n",
              " 77: 76,\n",
              " 78: 77,\n",
              " 79: 78,\n",
              " 80: 79,\n",
              " 81: 80,\n",
              " 82: 81,\n",
              " 83: 82,\n",
              " 84: 83,\n",
              " 85: 84,\n",
              " 86: 85,\n",
              " 87: 86,\n",
              " 88: 87,\n",
              " 89: 88,\n",
              " 90: 89,\n",
              " 91: 90,\n",
              " 92: 91,\n",
              " 93: 92,\n",
              " 94: 93,\n",
              " 95: 94,\n",
              " 96: 95,\n",
              " 97: 96,\n",
              " 98: 97,\n",
              " 99: 98,\n",
              " 100: 99,\n",
              " 101: 100,\n",
              " 102: 101,\n",
              " 103: 102,\n",
              " 104: 103,\n",
              " 105: 104,\n",
              " 106: 105,\n",
              " 107: 106,\n",
              " 108: 107,\n",
              " 109: 108,\n",
              " 110: 109}"
            ]
          },
          "metadata": {
            "tags": []
          },
          "execution_count": 538
        }
      ]
    },
    {
      "cell_type": "code",
      "metadata": {
        "id": "TC6fwXs8vIq8",
        "colab_type": "code",
        "colab": {}
      },
      "source": [
        "data.rename(index = index, inplace = True)"
      ],
      "execution_count": 0,
      "outputs": []
    },
    {
      "cell_type": "code",
      "metadata": {
        "id": "2FnoCAOIvKIi",
        "colab_type": "code",
        "outputId": "7e8dc5fd-5ebc-4e81-ddab-b5d62d7f8b25",
        "colab": {
          "base_uri": "https://localhost:8080/",
          "height": 117
        }
      },
      "source": [
        "data[data.Mobile_network_charges == \"No call drop and steady net connection.\"]"
      ],
      "execution_count": 0,
      "outputs": [
        {
          "output_type": "execute_result",
          "data": {
            "text/html": [
              "<div>\n",
              "<style scoped>\n",
              "    .dataframe tbody tr th:only-of-type {\n",
              "        vertical-align: middle;\n",
              "    }\n",
              "\n",
              "    .dataframe tbody tr th {\n",
              "        vertical-align: top;\n",
              "    }\n",
              "\n",
              "    .dataframe thead th {\n",
              "        text-align: right;\n",
              "    }\n",
              "</style>\n",
              "<table border=\"1\" class=\"dataframe\">\n",
              "  <thead>\n",
              "    <tr style=\"text-align: right;\">\n",
              "      <th></th>\n",
              "      <th>Name</th>\n",
              "      <th>Gender</th>\n",
              "      <th>Age</th>\n",
              "      <th>Brand</th>\n",
              "      <th>Cost</th>\n",
              "      <th>Place</th>\n",
              "      <th>Reason</th>\n",
              "      <th>OS</th>\n",
              "      <th>Satisfactioin_OS</th>\n",
              "      <th>Brand_importance</th>\n",
              "      <th>Brand_influence</th>\n",
              "      <th>Phone_upgradation</th>\n",
              "      <th>Upgrad_same_brand</th>\n",
              "      <th>Try_New_OS</th>\n",
              "      <th>Quality_vs_Price</th>\n",
              "      <th>Similar_phone_other_brand</th>\n",
              "      <th>Mobile_network_charges</th>\n",
              "      <th>View</th>\n",
              "      <th>Applications_payable</th>\n",
              "      <th>Accessories</th>\n",
              "      <th>Income</th>\n",
              "    </tr>\n",
              "  </thead>\n",
              "  <tbody>\n",
              "    <tr>\n",
              "      <th>30</th>\n",
              "      <td>Somnath Jha</td>\n",
              "      <td>Male</td>\n",
              "      <td>20-24</td>\n",
              "      <td>Vivo</td>\n",
              "      <td>7000.0</td>\n",
              "      <td>Muzaffarpur</td>\n",
              "      <td>Design</td>\n",
              "      <td>Others</td>\n",
              "      <td>3</td>\n",
              "      <td>3</td>\n",
              "      <td>Maybe</td>\n",
              "      <td>more than 2 year</td>\n",
              "      <td>Maybe</td>\n",
              "      <td>Yes</td>\n",
              "      <td>Lower price</td>\n",
              "      <td>Yes</td>\n",
              "      <td>No call drop and steady net connection.</td>\n",
              "      <td>Necessity</td>\n",
              "      <td>Maybe</td>\n",
              "      <td>Phone cases, Screen guard</td>\n",
              "      <td>1 - 5 lakh</td>\n",
              "    </tr>\n",
              "  </tbody>\n",
              "</table>\n",
              "</div>"
            ],
            "text/plain": [
              "           Name Gender  ...                Accessories      Income\n",
              "30  Somnath Jha   Male  ...  Phone cases, Screen guard  1 - 5 lakh\n",
              "\n",
              "[1 rows x 21 columns]"
            ]
          },
          "metadata": {
            "tags": []
          },
          "execution_count": 543
        }
      ]
    },
    {
      "cell_type": "code",
      "metadata": {
        "id": "DflsBnoHvgoJ",
        "colab_type": "code",
        "outputId": "e980bcdf-36ab-40ab-a7e0-b1450727979a",
        "colab": {
          "base_uri": "https://localhost:8080/",
          "height": 395
        }
      },
      "source": [
        "data.loc[30, \"Mobile_network_charges\"] = \"Good connectivity\"\n",
        "data.loc[30]"
      ],
      "execution_count": 0,
      "outputs": [
        {
          "output_type": "execute_result",
          "data": {
            "text/plain": [
              "Name                                       Somnath Jha\n",
              "Gender                                            Male\n",
              "Age                                              20-24\n",
              "Brand                                             Vivo\n",
              "Cost                                              7000\n",
              "Place                                      Muzaffarpur\n",
              "Reason                                          Design\n",
              "OS                                              Others\n",
              "Satisfactioin_OS                                     3\n",
              "Brand_importance                                     3\n",
              "Brand_influence                                  Maybe\n",
              "Phone_upgradation                     more than 2 year\n",
              "Upgrad_same_brand                                Maybe\n",
              "Try_New_OS                                         Yes\n",
              "Quality_vs_Price                           Lower price\n",
              "Similar_phone_other_brand                          Yes\n",
              "Mobile_network_charges               Good connectivity\n",
              "View                                         Necessity\n",
              "Applications_payable                             Maybe\n",
              "Accessories                  Phone cases, Screen guard\n",
              "Income                                      1 - 5 lakh\n",
              "Name: 30, dtype: object"
            ]
          },
          "metadata": {
            "tags": []
          },
          "execution_count": 554
        }
      ]
    },
    {
      "cell_type": "code",
      "metadata": {
        "id": "UzzSVZ38vvZx",
        "colab_type": "code",
        "outputId": "95ea82eb-aa23-44fe-c681-85664ba0e07c",
        "colab": {
          "base_uri": "https://localhost:8080/",
          "height": 117
        }
      },
      "source": [
        "data[data.Mobile_network_charges == \"Free incoming calls\"]"
      ],
      "execution_count": 0,
      "outputs": [
        {
          "output_type": "execute_result",
          "data": {
            "text/html": [
              "<div>\n",
              "<style scoped>\n",
              "    .dataframe tbody tr th:only-of-type {\n",
              "        vertical-align: middle;\n",
              "    }\n",
              "\n",
              "    .dataframe tbody tr th {\n",
              "        vertical-align: top;\n",
              "    }\n",
              "\n",
              "    .dataframe thead th {\n",
              "        text-align: right;\n",
              "    }\n",
              "</style>\n",
              "<table border=\"1\" class=\"dataframe\">\n",
              "  <thead>\n",
              "    <tr style=\"text-align: right;\">\n",
              "      <th></th>\n",
              "      <th>Name</th>\n",
              "      <th>Gender</th>\n",
              "      <th>Age</th>\n",
              "      <th>Brand</th>\n",
              "      <th>Cost</th>\n",
              "      <th>Place</th>\n",
              "      <th>Reason</th>\n",
              "      <th>OS</th>\n",
              "      <th>Satisfactioin_OS</th>\n",
              "      <th>Brand_importance</th>\n",
              "      <th>Brand_influence</th>\n",
              "      <th>Phone_upgradation</th>\n",
              "      <th>Upgrad_same_brand</th>\n",
              "      <th>Try_New_OS</th>\n",
              "      <th>Quality_vs_Price</th>\n",
              "      <th>Similar_phone_other_brand</th>\n",
              "      <th>Mobile_network_charges</th>\n",
              "      <th>View</th>\n",
              "      <th>Applications_payable</th>\n",
              "      <th>Accessories</th>\n",
              "      <th>Income</th>\n",
              "    </tr>\n",
              "  </thead>\n",
              "  <tbody>\n",
              "    <tr>\n",
              "      <th>102</th>\n",
              "      <td>Priya Das</td>\n",
              "      <td>Female</td>\n",
              "      <td>15-19</td>\n",
              "      <td>Micromax</td>\n",
              "      <td>8000.0</td>\n",
              "      <td>Patna</td>\n",
              "      <td>Price</td>\n",
              "      <td>Android</td>\n",
              "      <td>4</td>\n",
              "      <td>3</td>\n",
              "      <td>No</td>\n",
              "      <td>less than 1 year</td>\n",
              "      <td>Yes</td>\n",
              "      <td>Maybe</td>\n",
              "      <td>Lower price</td>\n",
              "      <td>No</td>\n",
              "      <td>Free incoming calls</td>\n",
              "      <td>Necessity</td>\n",
              "      <td>No</td>\n",
              "      <td>Screen guard</td>\n",
              "      <td>&lt; 1 lakh</td>\n",
              "    </tr>\n",
              "  </tbody>\n",
              "</table>\n",
              "</div>"
            ],
            "text/plain": [
              "          Name  Gender    Age  ... Applications_payable   Accessories    Income\n",
              "102  Priya Das  Female  15-19  ...                   No  Screen guard  < 1 lakh\n",
              "\n",
              "[1 rows x 21 columns]"
            ]
          },
          "metadata": {
            "tags": []
          },
          "execution_count": 546
        }
      ]
    },
    {
      "cell_type": "code",
      "metadata": {
        "id": "AQyrQhRov4TD",
        "colab_type": "code",
        "colab": {}
      },
      "source": [
        "data.loc[102, \"Mobile_network_charges\"] = \"All the above\"\n",
        "data.loc[102]"
      ],
      "execution_count": 0,
      "outputs": []
    },
    {
      "cell_type": "code",
      "metadata": {
        "colab_type": "code",
        "outputId": "9535e7c8-31bc-4e03-9e30-c7b952cdec08",
        "id": "7OVzr7ADwNsR",
        "colab": {
          "base_uri": "https://localhost:8080/",
          "height": 117
        }
      },
      "source": [
        "data[data.Mobile_network_charges == \"Unlimited data, Proper signal without interruption and for for an unlimited period of time\"]"
      ],
      "execution_count": 0,
      "outputs": [
        {
          "output_type": "execute_result",
          "data": {
            "text/html": [
              "<div>\n",
              "<style scoped>\n",
              "    .dataframe tbody tr th:only-of-type {\n",
              "        vertical-align: middle;\n",
              "    }\n",
              "\n",
              "    .dataframe tbody tr th {\n",
              "        vertical-align: top;\n",
              "    }\n",
              "\n",
              "    .dataframe thead th {\n",
              "        text-align: right;\n",
              "    }\n",
              "</style>\n",
              "<table border=\"1\" class=\"dataframe\">\n",
              "  <thead>\n",
              "    <tr style=\"text-align: right;\">\n",
              "      <th></th>\n",
              "      <th>Name</th>\n",
              "      <th>Gender</th>\n",
              "      <th>Age</th>\n",
              "      <th>Brand</th>\n",
              "      <th>Cost</th>\n",
              "      <th>Place</th>\n",
              "      <th>Reason</th>\n",
              "      <th>OS</th>\n",
              "      <th>Satisfactioin_OS</th>\n",
              "      <th>Brand_importance</th>\n",
              "      <th>Brand_influence</th>\n",
              "      <th>Phone_upgradation</th>\n",
              "      <th>Upgrad_same_brand</th>\n",
              "      <th>Try_New_OS</th>\n",
              "      <th>Quality_vs_Price</th>\n",
              "      <th>Similar_phone_other_brand</th>\n",
              "      <th>Mobile_network_charges</th>\n",
              "      <th>View</th>\n",
              "      <th>Applications_payable</th>\n",
              "      <th>Accessories</th>\n",
              "      <th>Income</th>\n",
              "    </tr>\n",
              "  </thead>\n",
              "  <tbody>\n",
              "    <tr>\n",
              "      <th>19</th>\n",
              "      <td>Sriram</td>\n",
              "      <td>Male</td>\n",
              "      <td>20-24</td>\n",
              "      <td>Xiomi</td>\n",
              "      <td>8000.0</td>\n",
              "      <td>Pondicherry</td>\n",
              "      <td>Value</td>\n",
              "      <td>Android</td>\n",
              "      <td>5</td>\n",
              "      <td>5</td>\n",
              "      <td>Yes</td>\n",
              "      <td>more than 2 year</td>\n",
              "      <td>Maybe</td>\n",
              "      <td>Maybe</td>\n",
              "      <td>Lower price</td>\n",
              "      <td>No</td>\n",
              "      <td>Unlimited data, Proper signal without interrup...</td>\n",
              "      <td>Necessity</td>\n",
              "      <td>No</td>\n",
              "      <td>Phone cases, Screen guard</td>\n",
              "      <td>&lt; 1 lakh</td>\n",
              "    </tr>\n",
              "  </tbody>\n",
              "</table>\n",
              "</div>"
            ],
            "text/plain": [
              "      Name Gender  ...                Accessories    Income\n",
              "19  Sriram   Male  ...  Phone cases, Screen guard  < 1 lakh\n",
              "\n",
              "[1 rows x 21 columns]"
            ]
          },
          "metadata": {
            "tags": []
          },
          "execution_count": 550
        }
      ]
    },
    {
      "cell_type": "code",
      "metadata": {
        "colab_type": "code",
        "id": "wzqGPjVjwNse",
        "outputId": "99b55693-9624-485f-b8ab-e20c10b4d4e4",
        "colab": {
          "base_uri": "https://localhost:8080/",
          "height": 395
        }
      },
      "source": [
        "data.loc[19, \"Mobile_network_charges\"] = \"All the above\"\n",
        "data.loc[19]"
      ],
      "execution_count": 0,
      "outputs": [
        {
          "output_type": "execute_result",
          "data": {
            "text/plain": [
              "Name                                            Sriram\n",
              "Gender                                            Male\n",
              "Age                                              20-24\n",
              "Brand                                            Xiomi\n",
              "Cost                                              8000\n",
              "Place                                      Pondicherry\n",
              "Reason                                           Value\n",
              "OS                                             Android\n",
              "Satisfactioin_OS                                     5\n",
              "Brand_importance                                     5\n",
              "Brand_influence                                    Yes\n",
              "Phone_upgradation                     more than 2 year\n",
              "Upgrad_same_brand                                Maybe\n",
              "Try_New_OS                                       Maybe\n",
              "Quality_vs_Price                           Lower price\n",
              "Similar_phone_other_brand                           No\n",
              "Mobile_network_charges                   All the above\n",
              "View                                         Necessity\n",
              "Applications_payable                                No\n",
              "Accessories                  Phone cases, Screen guard\n",
              "Income                                        < 1 lakh\n",
              "Name: 19, dtype: object"
            ]
          },
          "metadata": {
            "tags": []
          },
          "execution_count": 551
        }
      ]
    },
    {
      "cell_type": "code",
      "metadata": {
        "id": "Ifo53CTAwYE5",
        "colab_type": "code",
        "outputId": "4a2a0a91-67ba-415e-b241-bb87b92e37a4",
        "colab": {
          "base_uri": "https://localhost:8080/",
          "height": 117
        }
      },
      "source": [
        "data[data.Mobile_network_charges == \"Good connectivity \"]"
      ],
      "execution_count": 0,
      "outputs": [
        {
          "output_type": "execute_result",
          "data": {
            "text/html": [
              "<div>\n",
              "<style scoped>\n",
              "    .dataframe tbody tr th:only-of-type {\n",
              "        vertical-align: middle;\n",
              "    }\n",
              "\n",
              "    .dataframe tbody tr th {\n",
              "        vertical-align: top;\n",
              "    }\n",
              "\n",
              "    .dataframe thead th {\n",
              "        text-align: right;\n",
              "    }\n",
              "</style>\n",
              "<table border=\"1\" class=\"dataframe\">\n",
              "  <thead>\n",
              "    <tr style=\"text-align: right;\">\n",
              "      <th></th>\n",
              "      <th>Name</th>\n",
              "      <th>Gender</th>\n",
              "      <th>Age</th>\n",
              "      <th>Brand</th>\n",
              "      <th>Cost</th>\n",
              "      <th>Place</th>\n",
              "      <th>Reason</th>\n",
              "      <th>OS</th>\n",
              "      <th>Satisfactioin_OS</th>\n",
              "      <th>Brand_importance</th>\n",
              "      <th>Brand_influence</th>\n",
              "      <th>Phone_upgradation</th>\n",
              "      <th>Upgrad_same_brand</th>\n",
              "      <th>Try_New_OS</th>\n",
              "      <th>Quality_vs_Price</th>\n",
              "      <th>Similar_phone_other_brand</th>\n",
              "      <th>Mobile_network_charges</th>\n",
              "      <th>View</th>\n",
              "      <th>Applications_payable</th>\n",
              "      <th>Accessories</th>\n",
              "      <th>Income</th>\n",
              "    </tr>\n",
              "  </thead>\n",
              "  <tbody>\n",
              "    <tr>\n",
              "      <th>15</th>\n",
              "      <td>Mayank Raj</td>\n",
              "      <td>Male</td>\n",
              "      <td>20-24</td>\n",
              "      <td>Oneplus</td>\n",
              "      <td>54000.0</td>\n",
              "      <td>Patna</td>\n",
              "      <td>Performance</td>\n",
              "      <td>Android</td>\n",
              "      <td>4</td>\n",
              "      <td>5</td>\n",
              "      <td>Maybe</td>\n",
              "      <td>1 year</td>\n",
              "      <td>No</td>\n",
              "      <td>Maybe</td>\n",
              "      <td>High-quality</td>\n",
              "      <td>No</td>\n",
              "      <td>Good connectivity</td>\n",
              "      <td>Necessity</td>\n",
              "      <td>Maybe</td>\n",
              "      <td>Headphones</td>\n",
              "      <td>5 - 10 lakh</td>\n",
              "    </tr>\n",
              "  </tbody>\n",
              "</table>\n",
              "</div>"
            ],
            "text/plain": [
              "          Name Gender    Age  ... Applications_payable  Accessories       Income\n",
              "15  Mayank Raj   Male  20-24  ...                Maybe  Headphones   5 - 10 lakh\n",
              "\n",
              "[1 rows x 21 columns]"
            ]
          },
          "metadata": {
            "tags": []
          },
          "execution_count": 557
        }
      ]
    },
    {
      "cell_type": "code",
      "metadata": {
        "id": "x9KglKynwySs",
        "colab_type": "code",
        "outputId": "a5e87a4f-697d-45b2-8a5b-c50d04942cab",
        "colab": {
          "base_uri": "https://localhost:8080/",
          "height": 395
        }
      },
      "source": [
        "data.loc[15, \"Mobile_network_charges\"] = \"Good connectivity\"\n",
        "data.loc[15]"
      ],
      "execution_count": 0,
      "outputs": [
        {
          "output_type": "execute_result",
          "data": {
            "text/plain": [
              "Name                                Mayank Raj\n",
              "Gender                                    Male\n",
              "Age                                      20-24\n",
              "Brand                                  Oneplus\n",
              "Cost                                     54000\n",
              "Place                                   Patna \n",
              "Reason                             Performance\n",
              "OS                                     Android\n",
              "Satisfactioin_OS                             4\n",
              "Brand_importance                             5\n",
              "Brand_influence                          Maybe\n",
              "Phone_upgradation                       1 year\n",
              "Upgrad_same_brand                           No\n",
              "Try_New_OS                               Maybe\n",
              "Quality_vs_Price                  High-quality\n",
              "Similar_phone_other_brand                   No\n",
              "Mobile_network_charges       Good connectivity\n",
              "View                                 Necessity\n",
              "Applications_payable                     Maybe\n",
              "Accessories                        Headphones \n",
              "Income                             5 - 10 lakh\n",
              "Name: 15, dtype: object"
            ]
          },
          "metadata": {
            "tags": []
          },
          "execution_count": 558
        }
      ]
    },
    {
      "cell_type": "code",
      "metadata": {
        "id": "Pxk0vR0SrCUf",
        "colab_type": "code",
        "outputId": "c5fd623b-98d7-43aa-e7fd-39af96f9e426",
        "colab": {
          "base_uri": "https://localhost:8080/",
          "height": 120
        }
      },
      "source": [
        "data.Mobile_network_charges.value_counts()"
      ],
      "execution_count": 0,
      "outputs": [
        {
          "output_type": "execute_result",
          "data": {
            "text/plain": [
              "Unlimited Data for a limited period of time    39\n",
              "Data at discounted rate                        38\n",
              "Less Network charges                           26\n",
              "All the above                                   3\n",
              "Good connectivity                               2\n",
              "Name: Mobile_network_charges, dtype: int64"
            ]
          },
          "metadata": {
            "tags": []
          },
          "execution_count": 559
        }
      ]
    },
    {
      "cell_type": "code",
      "metadata": {
        "id": "Lh4efDR9sWi8",
        "colab_type": "code",
        "outputId": "f0bcd416-ff79-49d6-8429-03a4a2d5a5a3",
        "colab": {
          "base_uri": "https://localhost:8080/",
          "height": 137
        }
      },
      "source": [
        "columns"
      ],
      "execution_count": 0,
      "outputs": [
        {
          "output_type": "execute_result",
          "data": {
            "text/plain": [
              "Index(['Name', 'Gender', 'Age', 'Brand', 'Cost', 'Place', 'Reason', 'OS',\n",
              "       'Satisfactioin_OS', 'Brand_importance', 'Brand_influence',\n",
              "       'Phone_upgradation', 'Upgrad_same_brand', 'Try_New_OS',\n",
              "       'Quality_vs_Price', 'Similar_phone_other_brand',\n",
              "       'Mobile_network_charges', 'View', 'Applications_payable', 'Accessories',\n",
              "       'Income'],\n",
              "      dtype='object')"
            ]
          },
          "metadata": {
            "tags": []
          },
          "execution_count": 560
        }
      ]
    },
    {
      "cell_type": "markdown",
      "metadata": {
        "id": "7rNYZgW7xxXD",
        "colab_type": "text"
      },
      "source": [
        "Cleaning Accessories"
      ]
    },
    {
      "cell_type": "code",
      "metadata": {
        "id": "jx-mxevcxMnq",
        "colab_type": "code",
        "outputId": "07b71d64-208a-4839-9816-9c5962e29a16",
        "colab": {
          "base_uri": "https://localhost:8080/",
          "height": 51
        }
      },
      "source": [
        "data.Accessories.unique()"
      ],
      "execution_count": 0,
      "outputs": [
        {
          "output_type": "execute_result",
          "data": {
            "text/plain": [
              "array(['Phone cases', 'Phone cases, Screen guard', 'Screen guard', 'Headphones ', 'Phone cases, Earphones'],\n",
              "      dtype=object)"
            ]
          },
          "metadata": {
            "tags": []
          },
          "execution_count": 564
        }
      ]
    },
    {
      "cell_type": "code",
      "metadata": {
        "id": "EO_E98Z6xSd-",
        "colab_type": "code",
        "colab": {}
      },
      "source": [
        "data[\"Phone cases\"] = np.nan\n",
        "data[\"Scree guard\"] = np.nan\n",
        "data[\"Headphones\"] = np.nan"
      ],
      "execution_count": 0,
      "outputs": []
    },
    {
      "cell_type": "code",
      "metadata": {
        "id": "bRplbk0czS0z",
        "colab_type": "code",
        "outputId": "09694e06-86e0-4a9f-ed2b-ee5c8405ad9d",
        "colab": {
          "base_uri": "https://localhost:8080/",
          "height": 137
        }
      },
      "source": [
        "columns = data.columns\n",
        "columns"
      ],
      "execution_count": 0,
      "outputs": [
        {
          "output_type": "execute_result",
          "data": {
            "text/plain": [
              "Index(['Name', 'Gender', 'Age', 'Brand', 'Cost', 'Place', 'Reason', 'OS',\n",
              "       'Satisfactioin_OS', 'Brand_importance', 'Brand_influence',\n",
              "       'Phone_upgradation', 'Upgrad_same_brand', 'Try_New_OS',\n",
              "       'Quality_vs_Price', 'Similar_phone_other_brand',\n",
              "       'Mobile_network_charges', 'View', 'Applications_payable', 'Accessories',\n",
              "       'Income', 'Phone cases', 'Screen guard', 'Headphones'],\n",
              "      dtype='object')"
            ]
          },
          "metadata": {
            "tags": []
          },
          "execution_count": 583
        }
      ]
    },
    {
      "cell_type": "code",
      "metadata": {
        "id": "UZLTuAe55Pta",
        "colab_type": "code",
        "outputId": "92afc7ca-75a1-4bc8-f2a8-c3a3763d7e7e",
        "colab": {
          "base_uri": "https://localhost:8080/",
          "height": 51
        }
      },
      "source": [
        "data.Accessories.unique()"
      ],
      "execution_count": 0,
      "outputs": [
        {
          "output_type": "execute_result",
          "data": {
            "text/plain": [
              "array(['Phone cases', 'Phone cases, Screen guard', 'Screen guard', 'Headphones ', 'Phone cases, Earphones'],\n",
              "      dtype=object)"
            ]
          },
          "metadata": {
            "tags": []
          },
          "execution_count": 585
        }
      ]
    },
    {
      "cell_type": "code",
      "metadata": {
        "id": "ZwIwVpDfzjgO",
        "colab_type": "code",
        "outputId": "97a06a06-692b-456c-efdb-b4e89899f645",
        "colab": {
          "base_uri": "https://localhost:8080/",
          "height": 120
        }
      },
      "source": [
        "data.Accessories.value_counts()"
      ],
      "execution_count": 0,
      "outputs": [
        {
          "output_type": "execute_result",
          "data": {
            "text/plain": [
              "Phone cases, Screen guard    74\n",
              "Screen guard                 25\n",
              "Phone cases                   7\n",
              "Headphones                    1\n",
              "Phone cases, Earphones        1\n",
              "Name: Accessories, dtype: int64"
            ]
          },
          "metadata": {
            "tags": []
          },
          "execution_count": 603
        }
      ]
    },
    {
      "cell_type": "code",
      "metadata": {
        "id": "QBS4YUbt6sjo",
        "colab_type": "code",
        "colab": {}
      },
      "source": [
        ""
      ],
      "execution_count": 0,
      "outputs": []
    },
    {
      "cell_type": "code",
      "metadata": {
        "id": "8xQSf7wzzpSC",
        "colab_type": "code",
        "colab": {}
      },
      "source": [
        "for i in range(0, data.shape[0]):\n",
        "  if \"Phone cases\" in data.loc[i, \"Accessories\"]:\n",
        "    data.loc[i, \"Phone cases\"] = int(1)\n",
        "  else:\n",
        "    data.loc[i, \"Phone cases\"] = int(0)\n",
        "  if \"Screen guard\" in data.loc[i, \"Accessories\"]:\n",
        "    data.loc[i, \"Screen guard\"] = int(1)\n",
        "  else:\n",
        "    data.loc[i, \"Screen guard\"] = int(0)\n",
        "  if any(x in data.loc[i, \"Accessories\"] for x in [\"Headphones\", \"Earphones\"]):\n",
        "    data.loc[i, \"Headphones\"] = int(1)\n",
        "  else:\n",
        "    data.loc[i, \"Headphones\"] = int(0)"
      ],
      "execution_count": 0,
      "outputs": []
    },
    {
      "cell_type": "code",
      "metadata": {
        "id": "JsRX-qcm6iBz",
        "colab_type": "code",
        "colab": {}
      },
      "source": [
        "data.rename(columns = {'Phone cases' : \"Phone_cases\", \"Screen guard\" : \"Screen_guard\"}, inplace = True)"
      ],
      "execution_count": 0,
      "outputs": []
    },
    {
      "cell_type": "code",
      "metadata": {
        "id": "mRvv8_Jd7Y3z",
        "colab_type": "code",
        "outputId": "b137b01a-225c-4455-a323-c6a3d18b744b",
        "colab": {
          "base_uri": "https://localhost:8080/",
          "height": 69
        }
      },
      "source": [
        "data.Phone_cases.value_counts()"
      ],
      "execution_count": 0,
      "outputs": [
        {
          "output_type": "execute_result",
          "data": {
            "text/plain": [
              "1.0    82\n",
              "0.0    26\n",
              "Name: Phone_cases, dtype: int64"
            ]
          },
          "metadata": {
            "tags": []
          },
          "execution_count": 604
        }
      ]
    },
    {
      "cell_type": "code",
      "metadata": {
        "id": "mSmtD_Qq7-nC",
        "colab_type": "code",
        "colab": {}
      },
      "source": [
        "data.drop(\"Accessories\", inplace = True, axis=1)"
      ],
      "execution_count": 0,
      "outputs": []
    },
    {
      "cell_type": "code",
      "metadata": {
        "id": "ZkmZg-dk879L",
        "colab_type": "code",
        "colab": {}
      },
      "source": [
        "data.to_excel(\"4.xlsx\")"
      ],
      "execution_count": 0,
      "outputs": []
    },
    {
      "cell_type": "code",
      "metadata": {
        "id": "3oyrwJPA9AIg",
        "colab_type": "code",
        "outputId": "9999ba9c-7fd7-4813-c0f6-4c64b4dc4035",
        "colab": {
          "base_uri": "https://localhost:8080/",
          "height": 120
        }
      },
      "source": [
        "data.Income.value_counts()"
      ],
      "execution_count": 0,
      "outputs": [
        {
          "output_type": "execute_result",
          "data": {
            "text/plain": [
              "5 - 10 lakh    40\n",
              "1 - 5 lakh     27\n",
              "5 - 15 lakh    17\n",
              "< 1 lakh       12\n",
              "> 15 lakh      12\n",
              "Name: Income, dtype: int64"
            ]
          },
          "metadata": {
            "tags": []
          },
          "execution_count": 607
        }
      ]
    },
    {
      "cell_type": "code",
      "metadata": {
        "id": "pjy7y4fC9EIf",
        "colab_type": "code",
        "colab": {}
      },
      "source": [
        ""
      ],
      "execution_count": 0,
      "outputs": []
    }
  ]
}